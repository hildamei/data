{
 "metadata": {
  "language_info": {
   "codemirror_mode": {
    "name": "ipython",
    "version": 3
   },
   "file_extension": ".py",
   "mimetype": "text/x-python",
   "name": "python",
   "nbconvert_exporter": "python",
   "pygments_lexer": "ipython3",
   "version": "3.8.5"
  },
  "orig_nbformat": 2,
  "kernelspec": {
   "name": "python385jvsc74a57bd05469ed99ced57d7a974295793b7fe0b9fc90b76d372ed220a03ae6b98f940516",
   "display_name": "Python 3.8.5 64-bit (conda)"
  },
  "metadata": {
   "interpreter": {
    "hash": "7fc9657c2735699e41147331631b6e87ab70a98f6546ef3617df79b0a1c499c8"
   }
  }
 },
 "nbformat": 4,
 "nbformat_minor": 2,
 "cells": [
  {
   "source": [
    "# Variable Assignment"
   ],
   "cell_type": "markdown",
   "metadata": {}
  },
  {
   "cell_type": "code",
   "execution_count": 1,
   "metadata": {},
   "outputs": [],
   "source": [
    "x=5 #this is an integer"
   ]
  },
  {
   "cell_type": "code",
   "execution_count": 3,
   "metadata": {},
   "outputs": [
    {
     "output_type": "execute_result",
     "data": {
      "text/plain": [
       "5"
      ]
     },
     "metadata": {},
     "execution_count": 3
    }
   ],
   "source": [
    "x"
   ]
  },
  {
   "source": [
    "print(x)"
   ],
   "cell_type": "code",
   "metadata": {},
   "execution_count": null,
   "outputs": []
  },
  {
   "source": [
    "# Hello this is markdown\n",
    "## Thisis a Header 2\n",
    "### This is a Header 3\n",
    "\n",
    "Regular Text\n",
    "\n",
    "**Bold Text**\n",
    "*Italic*\n",
    "\n",
    "This is your bullet\n",
    "* Hello\n",
    "* Hi\n",
    "* Hai"
   ],
   "cell_type": "markdown",
   "metadata": {}
  },
  {
   "source": [
    "## Integer"
   ],
   "cell_type": "markdown",
   "metadata": {}
  },
  {
   "cell_type": "code",
   "execution_count": 7,
   "metadata": {},
   "outputs": [
    {
     "output_type": "execute_result",
     "data": {
      "text/plain": [
       "int"
      ]
     },
     "metadata": {},
     "execution_count": 7
    }
   ],
   "source": [
    "type(x)"
   ]
  },
  {
   "source": [
    "## Float"
   ],
   "cell_type": "markdown",
   "metadata": {}
  },
  {
   "cell_type": "code",
   "execution_count": 8,
   "metadata": {},
   "outputs": [
    {
     "output_type": "stream",
     "name": "stdout",
     "text": [
      "<class 'float'>\n"
     ]
    },
    {
     "output_type": "execute_result",
     "data": {
      "text/plain": [
       "5.0"
      ]
     },
     "metadata": {},
     "execution_count": 8
    }
   ],
   "source": [
    "y=5.0\n",
    "print(type(y))\n",
    "y"
   ]
  },
  {
   "source": [
    "## String"
   ],
   "cell_type": "markdown",
   "metadata": {}
  },
  {
   "cell_type": "code",
   "execution_count": 14,
   "metadata": {},
   "outputs": [
    {
     "output_type": "stream",
     "name": "stdout",
     "text": [
      " Multiline quote\nf\nf\nf\nf\nf\n\n"
     ]
    }
   ],
   "source": [
    "z=\"GoodBy Hello\"\n",
    "z= 'GoodBye Hello'\n",
    "z=\"\"\" Multiline quote\n",
    "f\n",
    "f\n",
    "f\n",
    "f\n",
    "f\n",
    "\"\"\"\n",
    "print(z)"
   ]
  },
  {
   "cell_type": "code",
   "execution_count": 12,
   "metadata": {},
   "outputs": [
    {
     "output_type": "execute_result",
     "data": {
      "text/plain": [
       "'\"I think there for I am\"- Rene Decartes'"
      ]
     },
     "metadata": {},
     "execution_count": 12
    }
   ],
   "source": [
    "quote=\"\\\"I think there for I am\\\"- Rene Decartes\"\n",
    "quote"
   ]
  },
  {
   "cell_type": "code",
   "execution_count": 13,
   "metadata": {},
   "outputs": [
    {
     "output_type": "stream",
     "name": "stdout",
     "text": [
      "how do you print a\\\n"
     ]
    }
   ],
   "source": [
    "backslash=\"how do you print a\\\\\"\n",
    "print(backslash)"
   ]
  },
  {
   "cell_type": "code",
   "execution_count": 18,
   "metadata": {},
   "outputs": [
    {
     "output_type": "execute_result",
     "data": {
      "text/plain": [
       "'long_string'"
      ]
     },
     "metadata": {},
     "execution_count": 18
    }
   ],
   "source": [
    "long_string=\"long_string_here_it_is\"\n",
    "long_string[:11]"
   ]
  },
  {
   "source": [
    "## Boolean"
   ],
   "cell_type": "markdown",
   "metadata": {}
  },
  {
   "cell_type": "code",
   "execution_count": 19,
   "metadata": {},
   "outputs": [
    {
     "output_type": "execute_result",
     "data": {
      "text/plain": [
       "False"
      ]
     },
     "metadata": {},
     "execution_count": 19
    }
   ],
   "source": [
    "boolean= True\n",
    "anoher_boolean= False\n",
    "not_a_boolean =\"True\"\n",
    "\n",
    "a=1\n",
    "b=2\n",
    "a==b"
   ]
  },
  {
   "source": [
    "## Non-Primitive Data Types"
   ],
   "cell_type": "markdown",
   "metadata": {}
  },
  {
   "cell_type": "code",
   "execution_count": 21,
   "metadata": {},
   "outputs": [
    {
     "output_type": "execute_result",
     "data": {
      "text/plain": [
       "[1, 2, 3, 4, 5, 6, 7, 'asdl']"
      ]
     },
     "metadata": {},
     "execution_count": 21
    }
   ],
   "source": [
    "a_list=[1,2,3,4,5,6,7,\"asdl\"] #you can combine data types\n",
    "a_list"
   ]
  },
  {
   "cell_type": "code",
   "execution_count": 28,
   "metadata": {},
   "outputs": [
    {
     "output_type": "execute_result",
     "data": {
      "text/plain": [
       "['asdl', 7, 6, 5, 4, 3, 2, 1]"
      ]
     },
     "metadata": {},
     "execution_count": 28
    }
   ],
   "source": [
    "a_list[::-1]"
   ]
  },
  {
   "cell_type": "code",
   "execution_count": 30,
   "metadata": {},
   "outputs": [
    {
     "output_type": "execute_result",
     "data": {
      "text/plain": [
       "[1, 3, 5, 7]"
      ]
     },
     "metadata": {},
     "execution_count": 30
    }
   ],
   "source": [
    "a_list[::2]"
   ]
  },
  {
   "cell_type": "code",
   "execution_count": 31,
   "metadata": {},
   "outputs": [
    {
     "output_type": "execute_result",
     "data": {
      "text/plain": [
       "(1, 2, 3, 4, 5)"
      ]
     },
     "metadata": {},
     "execution_count": 31
    }
   ],
   "source": [
    "a_tuple=(1,2,3,4,5) #cant change\n",
    "a_tuple"
   ]
  },
  {
   "cell_type": "code",
   "execution_count": 32,
   "metadata": {},
   "outputs": [
    {
     "output_type": "execute_result",
     "data": {
      "text/plain": [
       "(5, 4, 3, 2, 1)"
      ]
     },
     "metadata": {},
     "execution_count": 32
    }
   ],
   "source": [
    "a_tuple[::-1]"
   ]
  },
  {
   "cell_type": "code",
   "execution_count": 40,
   "metadata": {},
   "outputs": [
    {
     "output_type": "execute_result",
     "data": {
      "text/plain": [
       "'value'"
      ]
     },
     "metadata": {},
     "execution_count": 40
    }
   ],
   "source": [
    "dictionary={\"key\":\"value\", \"another\":\"value\"}\n",
    "dictionary\n",
    "dictionary[\"key\"]\n",
    "dictionary.get(\"key\")"
   ]
  },
  {
   "source": [
    "## Operation"
   ],
   "cell_type": "markdown",
   "metadata": {}
  },
  {
   "cell_type": "code",
   "execution_count": 41,
   "metadata": {},
   "outputs": [
    {
     "output_type": "execute_result",
     "data": {
      "text/plain": [
       "4"
      ]
     },
     "metadata": {},
     "execution_count": 41
    }
   ],
   "source": [
    "add= 2+2\n",
    "add"
   ]
  },
  {
   "cell_type": "code",
   "execution_count": 42,
   "metadata": {},
   "outputs": [
    {
     "output_type": "execute_result",
     "data": {
      "text/plain": [
       "'strstr'"
      ]
     },
     "metadata": {},
     "execution_count": 42
    }
   ],
   "source": [
    "add_str=\"str\"+\"str\"\n",
    "add_str"
   ]
  },
  {
   "cell_type": "code",
   "execution_count": 43,
   "metadata": {},
   "outputs": [
    {
     "output_type": "execute_result",
     "data": {
      "text/plain": [
       "[1, 2, 3, 4, 1, 2, 3]"
      ]
     },
     "metadata": {},
     "execution_count": 43
    }
   ],
   "source": [
    "add_list=[1,2,3,4]+[1,2,3]\n",
    "add_list"
   ]
  },
  {
   "cell_type": "code",
   "execution_count": 44,
   "metadata": {},
   "outputs": [
    {
     "output_type": "execute_result",
     "data": {
      "text/plain": [
       "(1, 2, 3, 4, 1, 2, 3)"
      ]
     },
     "metadata": {},
     "execution_count": 44
    }
   ],
   "source": [
    "add_tuple=(1,2,3,4)+(1,2,3)\n",
    "add_tuple"
   ]
  },
  {
   "cell_type": "code",
   "execution_count": 45,
   "metadata": {},
   "outputs": [
    {
     "output_type": "error",
     "ename": "TypeError",
     "evalue": "unsupported operand type(s) for -: 'str' and 'str'",
     "traceback": [
      "\u001b[1;31m---------------------------------------------------------------------------\u001b[0m",
      "\u001b[1;31mTypeError\u001b[0m                                 Traceback (most recent call last)",
      "\u001b[1;32m<ipython-input-45-7ae4eee29629>\u001b[0m in \u001b[0;36m<module>\u001b[1;34m\u001b[0m\n\u001b[1;32m----> 1\u001b[1;33m \u001b[0msub_str\u001b[0m\u001b[1;33m=\u001b[0m\u001b[1;34m\"str\"\u001b[0m\u001b[1;33m-\u001b[0m\u001b[1;34m\"strr\"\u001b[0m\u001b[1;33m\u001b[0m\u001b[1;33m\u001b[0m\u001b[0m\n\u001b[0m\u001b[0;32m      2\u001b[0m \u001b[0msub_str\u001b[0m\u001b[1;33m\u001b[0m\u001b[1;33m\u001b[0m\u001b[0m\n",
      "\u001b[1;31mTypeError\u001b[0m: unsupported operand type(s) for -: 'str' and 'str'"
     ]
    }
   ],
   "source": [
    "sub_str=\"str\"-\"strr\"\n",
    "sub_str"
   ]
  },
  {
   "cell_type": "code",
   "execution_count": 46,
   "metadata": {},
   "outputs": [
    {
     "output_type": "execute_result",
     "data": {
      "text/plain": [
       "6"
      ]
     },
     "metadata": {},
     "execution_count": 46
    }
   ],
   "source": [
    "mult=3*2\n",
    "mult"
   ]
  },
  {
   "cell_type": "code",
   "execution_count": 47,
   "metadata": {},
   "outputs": [
    {
     "output_type": "execute_result",
     "data": {
      "text/plain": [
       "'strstrstr'"
      ]
     },
     "metadata": {},
     "execution_count": 47
    }
   ],
   "source": [
    "mult=\"str\"*3\n",
    "mult"
   ]
  },
  {
   "cell_type": "code",
   "execution_count": 48,
   "metadata": {},
   "outputs": [
    {
     "output_type": "execute_result",
     "data": {
      "text/plain": [
       "[1, 2, 3, 1, 2, 3, 1, 2, 3]"
      ]
     },
     "metadata": {},
     "execution_count": 48
    }
   ],
   "source": [
    "mult_list=[1,2,3]*3\n",
    "mult_list"
   ]
  },
  {
   "cell_type": "code",
   "execution_count": 50,
   "metadata": {},
   "outputs": [
    {
     "output_type": "execute_result",
     "data": {
      "text/plain": [
       "1.0"
      ]
     },
     "metadata": {},
     "execution_count": 50
    }
   ],
   "source": [
    "div=2/2\n",
    "div"
   ]
  },
  {
   "cell_type": "code",
   "execution_count": 51,
   "metadata": {},
   "outputs": [
    {
     "output_type": "error",
     "ename": "ZeroDivisionError",
     "evalue": "division by zero",
     "traceback": [
      "\u001b[1;31m---------------------------------------------------------------------------\u001b[0m",
      "\u001b[1;31mZeroDivisionError\u001b[0m                         Traceback (most recent call last)",
      "\u001b[1;32m<ipython-input-51-bb7430d721b8>\u001b[0m in \u001b[0;36m<module>\u001b[1;34m\u001b[0m\n\u001b[1;32m----> 1\u001b[1;33m \u001b[0mzero_div\u001b[0m\u001b[1;33m=\u001b[0m\u001b[1;36m3\u001b[0m\u001b[1;33m/\u001b[0m\u001b[1;36m0\u001b[0m\u001b[1;33m\u001b[0m\u001b[1;33m\u001b[0m\u001b[0m\n\u001b[0m\u001b[0;32m      2\u001b[0m \u001b[0mzero_div\u001b[0m\u001b[1;33m\u001b[0m\u001b[1;33m\u001b[0m\u001b[0m\n",
      "\u001b[1;31mZeroDivisionError\u001b[0m: division by zero"
     ]
    }
   ],
   "source": [
    "zero_div=3/0\n",
    "zero_div"
   ]
  },
  {
   "cell_type": "code",
   "execution_count": 52,
   "metadata": {},
   "outputs": [
    {
     "output_type": "execute_result",
     "data": {
      "text/plain": [
       "1"
      ]
     },
     "metadata": {},
     "execution_count": 52
    }
   ],
   "source": [
    "modulo=1%3\n",
    "modulo"
   ]
  },
  {
   "cell_type": "code",
   "execution_count": 53,
   "metadata": {},
   "outputs": [
    {
     "output_type": "execute_result",
     "data": {
      "text/plain": [
       "3"
      ]
     },
     "metadata": {},
     "execution_count": 53
    }
   ],
   "source": [
    "floor_division=7//2 #greatest multiple\n",
    "floor_division"
   ]
  },
  {
   "source": [
    "Assignment Operations"
   ],
   "cell_type": "markdown",
   "metadata": {}
  },
  {
   "cell_type": "code",
   "execution_count": 54,
   "metadata": {},
   "outputs": [
    {
     "output_type": "stream",
     "name": "stdout",
     "text": [
      "True\nTrue\nFalse\nTrue\nTrue\nTrue\n"
     ]
    }
   ],
   "source": [
    "print(3==3)\n",
    "print(3!=4)\n",
    "print(3>4)\n",
    "print(3<5)\n",
    "print(2>=2)\n",
    "print(4<=4)"
   ]
  },
  {
   "cell_type": "code",
   "execution_count": 55,
   "metadata": {},
   "outputs": [
    {
     "output_type": "execute_result",
     "data": {
      "text/plain": [
       "True"
      ]
     },
     "metadata": {},
     "execution_count": 55
    }
   ],
   "source": [
    "str(1) not in \"gnkjnkjgnlsk\""
   ]
  },
  {
   "source": [
    "## Functions"
   ],
   "cell_type": "markdown",
   "metadata": {}
  },
  {
   "cell_type": "code",
   "execution_count": 5,
   "metadata": {},
   "outputs": [],
   "source": [
    "def our_function(x, y, z):\n",
    "    x=3\n",
    "    y=2\n",
    "    return x + y + z"
   ]
  },
  {
   "cell_type": "code",
   "execution_count": 6,
   "metadata": {},
   "outputs": [
    {
     "output_type": "execute_result",
     "data": {
      "text/plain": [
       "8"
      ]
     },
     "metadata": {},
     "execution_count": 6
    }
   ],
   "source": [
    "our_function(x=1, y=2, z=3)"
   ]
  },
  {
   "cell_type": "code",
   "execution_count": 1,
   "metadata": {},
   "outputs": [],
   "source": [
    "import numpy"
   ]
  },
  {
   "cell_type": "code",
   "execution_count": 1,
   "metadata": {},
   "outputs": [],
   "source": [
    "import numpy as np"
   ]
  },
  {
   "cell_type": "code",
   "execution_count": 2,
   "metadata": {},
   "outputs": [
    {
     "output_type": "execute_result",
     "data": {
      "text/plain": [
       "array([1, 2, 3])"
      ]
     },
     "metadata": {},
     "execution_count": 2
    }
   ],
   "source": [
    "np.array([1,2,3])"
   ]
  },
  {
   "source": [
    "Control Statement"
   ],
   "cell_type": "markdown",
   "metadata": {}
  },
  {
   "cell_type": "code",
   "execution_count": 4,
   "metadata": {},
   "outputs": [
    {
     "output_type": "stream",
     "name": "stdout",
     "text": [
      "[1, 2, 3, 4, 5, 6, 7, 8, 9, 10, 11, 12, 13, 14, 15, 16, 17, 18, 19, 20, 21, 22, 23, 24, 25, 26, 27, 28, 29, 30, 31, 32, 33, 34, 35, 36, 37, 38, 39, 40, 41, 42, 43, 44, 45, 46, 47, 48, 49, 50, 51, 52, 53, 54, 55, 56, 57, 58, 59, 60, 61, 62, 63, 64, 65, 66, 67, 68, 69, 70, 71, 72, 73, 74, 75, 76, 77, 78, 79, 80, 81, 82, 83, 84, 85, 86, 87, 88, 89, 90, 91, 92, 93, 94, 95, 96, 97, 98, 99]\n"
     ]
    }
   ],
   "source": [
    "the_list=list(range(1,100))\n",
    "print(the_list)\n"
   ]
  },
  {
   "cell_type": "code",
   "execution_count": 7,
   "metadata": {},
   "outputs": [
    {
     "output_type": "stream",
     "name": "stdout",
     "text": [
      "i is now 1\noutput is 2\ni is now 2\noutput is 3\ni is now 3\noutput is 4\ni is now 4\noutput is 5\ni is now 5\noutput is 6\ni is now 6\noutput is 7\ni is now 7\noutput is 8\ni is now 8\noutput is 9\ni is now 9\noutput is 10\ni is now 10\noutput is 11\ni is now 11\noutput is 12\ni is now 12\noutput is 13\ni is now 13\noutput is 14\ni is now 14\noutput is 15\ni is now 15\noutput is 16\ni is now 16\noutput is 17\ni is now 17\noutput is 18\ni is now 18\noutput is 19\ni is now 19\noutput is 20\ni is now 20\noutput is 21\ni is now 21\noutput is 22\ni is now 22\noutput is 23\ni is now 23\noutput is 24\ni is now 24\noutput is 25\ni is now 25\noutput is 26\ni is now 26\noutput is 27\ni is now 27\noutput is 28\ni is now 28\noutput is 29\ni is now 29\noutput is 30\ni is now 30\noutput is 31\ni is now 31\noutput is 32\ni is now 32\noutput is 33\ni is now 33\noutput is 34\ni is now 34\noutput is 35\ni is now 35\noutput is 36\ni is now 36\noutput is 37\ni is now 37\noutput is 38\ni is now 38\noutput is 39\ni is now 39\noutput is 40\ni is now 40\noutput is 41\ni is now 41\noutput is 42\ni is now 42\noutput is 43\ni is now 43\noutput is 44\ni is now 44\noutput is 45\ni is now 45\noutput is 46\ni is now 46\noutput is 47\ni is now 47\noutput is 48\ni is now 48\noutput is 49\ni is now 49\noutput is 50\ni is now 50\noutput is 51\ni is now 51\noutput is 52\ni is now 52\noutput is 53\ni is now 53\noutput is 54\ni is now 54\noutput is 55\ni is now 55\noutput is 56\ni is now 56\noutput is 57\ni is now 57\noutput is 58\ni is now 58\noutput is 59\ni is now 59\noutput is 60\ni is now 60\noutput is 61\ni is now 61\noutput is 62\ni is now 62\noutput is 63\ni is now 63\noutput is 64\ni is now 64\noutput is 65\ni is now 65\noutput is 66\ni is now 66\noutput is 67\ni is now 67\noutput is 68\ni is now 68\noutput is 69\ni is now 69\noutput is 70\ni is now 70\noutput is 71\ni is now 71\noutput is 72\ni is now 72\noutput is 73\ni is now 73\noutput is 74\ni is now 74\noutput is 75\ni is now 75\noutput is 76\ni is now 76\noutput is 77\ni is now 77\noutput is 78\ni is now 78\noutput is 79\ni is now 79\noutput is 80\ni is now 80\noutput is 81\ni is now 81\noutput is 82\ni is now 82\noutput is 83\ni is now 83\noutput is 84\ni is now 84\noutput is 85\ni is now 85\noutput is 86\ni is now 86\noutput is 87\ni is now 87\noutput is 88\ni is now 88\noutput is 89\ni is now 89\noutput is 90\ni is now 90\noutput is 91\ni is now 91\noutput is 92\ni is now 92\noutput is 93\ni is now 93\noutput is 94\ni is now 94\noutput is 95\ni is now 95\noutput is 96\ni is now 96\noutput is 97\ni is now 97\noutput is 98\ni is now 98\noutput is 99\ni is now 99\noutput is 100\nloop is ended\n"
     ]
    }
   ],
   "source": [
    "for i in the_list:\n",
    "    print(\"i is now\",i)\n",
    "    i+=1 #same as saying i=i+1\n",
    "    print(\"output is\",i)\n",
    "print(\"loop is ended\")"
   ]
  },
  {
   "cell_type": "code",
   "execution_count": 8,
   "metadata": {},
   "outputs": [
    {
     "output_type": "stream",
     "name": "stdout",
     "text": [
      "1\n2\n3\n4\n5\n"
     ]
    }
   ],
   "source": [
    "x=0\n",
    "while x<5:\n",
    "    x+=1\n",
    "    print(x)"
   ]
  },
  {
   "cell_type": "code",
   "execution_count": 9,
   "metadata": {},
   "outputs": [
    {
     "output_type": "stream",
     "name": "stdout",
     "text": [
      "x is smaller than y\n"
     ]
    }
   ],
   "source": [
    "x=3\n",
    "y=5\n",
    "\n",
    "if x== y:\n",
    "    print(\"x equals y\")\n",
    "elif x>y:\n",
    "    print(\"x is greater than y\")\n",
    "else:\n",
    "    print(\"x is smaller than y\")"
   ]
  },
  {
   "cell_type": "code",
   "execution_count": 11,
   "metadata": {},
   "outputs": [
    {
     "output_type": "stream",
     "name": "stdout",
     "text": [
      "Can't divide by zero\n"
     ]
    }
   ],
   "source": [
    "try:\n",
    "    2/0 #you can't divide by 0 and this will throw an exception\n",
    "except ZeroDivisionError:\n",
    "    print(\"Can't divide by zero\")"
   ]
  },
  {
   "cell_type": "code",
   "execution_count": null,
   "metadata": {},
   "outputs": [],
   "source": []
  }
 ]
}