{
 "cells": [
  {
   "cell_type": "markdown",
   "metadata": {},
   "source": [
    "# **Data Quality menggunakan Python**"
   ]
  },
  {
   "cell_type": "markdown",
   "metadata": {},
   "source": [
    "## Data Profiling "
   ]
  },
  {
   "cell_type": "markdown",
   "metadata": {},
   "source": [
    "### Definisi"
   ]
  },
  {
   "cell_type": "markdown",
   "metadata": {},
   "source": [
    "Data profiling adalah kegiatan merangkum dataset menggunakan statistik deskriptif. Tujuan dari pembuatan data profiling adalah untuk memiliki pemahaman yang kuat tentang data sehingga dapat mulai menyusun framework analisis dan memvisualisasikan data."
   ]
  },
  {
   "cell_type": "markdown",
   "metadata": {},
   "source": [
    "### Import Data"
   ]
  },
  {
   "cell_type": "code",
   "execution_count": 16,
   "metadata": {},
   "outputs": [
    {
     "name": "stdout",
     "output_type": "stream",
     "text": [
      "   order_id  order_date  customer_id             city     province product_id  \\\n",
      "0   1703458  17/10/2019        14004  Jakarta Selatan  DKI Jakarta      P1910   \n",
      "1   1706815  24/10/2019        17220  Jakarta Selatan  DKI Jakarta      P2934   \n",
      "2   1710718  03/11/2019        16518    Jakarta Utara  DKI Jakarta      P0908   \n",
      "3   1683592  19/08/2019        16364    Jakarta Barat  DKI Jakarta      P0128   \n",
      "4   1702573  16/10/2019        15696    Jakarta Timur  DKI Jakarta      P2968   \n",
      "\n",
      "     brand  quantity  item_price  \n",
      "0  BRAND_J      10.0    740000.0  \n",
      "1  BRAND_R       2.0    604000.0  \n",
      "2  BRAND_C       8.0   1045000.0  \n",
      "3  BRAND_A       4.0    205000.0  \n",
      "4  BRAND_R       2.0         NaN  \n"
     ]
    }
   ],
   "source": [
    "import pandas as pd\n",
    "import pandas_profiling as pp #exploratory data analysis\n",
    "retail_raw=pd.read_csv('https://storage.googleapis.com/dqlab-dataset/retail_raw_reduced_data_quality.csv')\n",
    "print(retail_raw.head())"
   ]
  },
  {
   "cell_type": "markdown",
   "metadata": {},
   "source": [
    "### Inspeksi Tipe Data"
   ]
  },
  {
   "cell_type": "code",
   "execution_count": 17,
   "metadata": {},
   "outputs": [
    {
     "name": "stdout",
     "output_type": "stream",
     "text": [
      "order_id         int64\n",
      "order_date      object\n",
      "customer_id      int64\n",
      "city            object\n",
      "province        object\n",
      "product_id      object\n",
      "brand           object\n",
      "quantity       float64\n",
      "item_price     float64\n",
      "dtype: object\n"
     ]
    }
   ],
   "source": [
    "print(retail_raw.dtypes)"
   ]
  },
  {
   "cell_type": "markdown",
   "metadata": {},
   "source": [
    "### Statistik Deskriptif"
   ]
  },
  {
   "cell_type": "markdown",
   "metadata": {},
   "source": [
    "##### **Length**\n",
    "\n",
    "Fungsi **len** menghitung jumlah pengamatan dalam suatu *series*/*column*. Fungsi *len* akan menghitung semua pengamatan, terlepas dari apakah ada *null-value* atau tidak (*include missing value*)."
   ]
  },
  {
   "cell_type": "code",
   "execution_count": 18,
   "metadata": {},
   "outputs": [
    {
     "name": "stdout",
     "output_type": "stream",
     "text": [
      "Length kolom city: 5000\n",
      "Length kolom product_id: 5000\n"
     ]
    }
   ],
   "source": [
    "# Kolom city\n",
    "length_city=len(retail_raw['city'])\n",
    "print('Length kolom city:',length_city)\n",
    "# Kolom product_id\n",
    "length_product_id = len(retail_raw['product_id'])\n",
    "print('Length kolom product_id:',length_product_id)"
   ]
  },
  {
   "cell_type": "markdown",
   "metadata": {},
   "source": [
    "##### **Count**\n",
    "\n",
    "Fungsi *count* menghitung jumlah pengamatan *non-NA/non-null* dalam suatu *series*/*column*. Di lain pihak, fungsi *len* akan hanya menghitung jumlah elemen dari kolom baik kolom bersangkutan memiliki atau tidak memiliki *missing value* (*include missing value*)."
   ]
  },
  {
   "cell_type": "code",
   "execution_count": 19,
   "metadata": {},
   "outputs": [
    {
     "name": "stdout",
     "output_type": "stream",
     "text": [
      "Count kolom count_city: 4984\n",
      "Count kolom product_id: 4989\n"
     ]
    }
   ],
   "source": [
    "# Count kolom city\n",
    "count_city=retail_raw['city'].count()\n",
    "print('Count kolom count_city:',count_city)\n",
    "\n",
    "# Count kolom product_id\n",
    "count_product_id = retail_raw['product_id'].count()\n",
    "print('Count kolom product_id:',count_product_id)"
   ]
  },
  {
   "cell_type": "markdown",
   "metadata": {},
   "source": [
    "##### **Missing Value**\n",
    "\n",
    "Missing Value adalah hilangnya beberapa data yang telah diperoleh. Dengan Length dan Count, sekarang dapat menghitung jumlah *missing-value*. Jumlah nilai yang hilang adalah perbedaan antara Length dan Count."
   ]
  },
  {
   "cell_type": "code",
   "execution_count": 20,
   "metadata": {},
   "outputs": [
    {
     "name": "stdout",
     "output_type": "stream",
     "text": [
      "Persentase missing value kolom city: 0.3%\n",
      "Persentase missing value kolom product_id: 0.2%\n"
     ]
    }
   ],
   "source": [
    "# Missing value pada kolom city\n",
    "number_of_missing_values_city=length_city-count_city\n",
    "float_of_missing_values_city=float(number_of_missing_values_city/length_city)\n",
    "pct_of_missing_values_city='{0:.1f}%'.format(float_of_missing_values_city*100)\n",
    "print('Persentase missing value kolom city:', pct_of_missing_values_city)\n",
    "\n",
    "# Tugas praktek: Missing value pada kolom product_id\n",
    "number_of_missing_values_product_id = length_product_id-count_product_id\n",
    "float_of_missing_values_product_id = float(number_of_missing_values_product_id/length_product_id)\n",
    "pct_of_missing_values_product_id = '{0:.1f}%'.format(float_of_missing_values_product_id * 100)\n",
    "print('Persentase missing value kolom product_id:', pct_of_missing_values_product_id)"
   ]
  },
  {
   "cell_type": "markdown",
   "metadata": {},
   "source": [
    "##### **Maximum dan Minimum**\n",
    "\n",
    "Fungsi **max** dan **min** digunakan untuk mengetahui elemen terbesar dan terkecil dari suatu kolom di dataframe.\n",
    "\n",
    "##### **Mean, Median, Modus dan Standard Deviasi**\n",
    "\n",
    "Fungsi **mean, median, modus** dan **standard deviasi** digunakan untuk mengetahui pemusatan data dan persebarannya."
   ]
  },
  {
   "cell_type": "code",
   "execution_count": 21,
   "metadata": {},
   "outputs": [
    {
     "name": "stdout",
     "output_type": "stream",
     "text": [
      "Kolom quantity\n",
      "Minimum value:  1.0\n",
      "Maximum value:  720.0\n",
      "Mean value:  11.423987164059366\n",
      "Mode value:  0    1.0\n",
      "dtype: float64\n",
      "Median value:  5.0\n",
      "Standard Deviation value:  29.44202501081146\n",
      "\n",
      "Kolom item_price\n",
      "Minimum value:  26000.0\n",
      "Maximum value:  29762000.0\n",
      "Mean value:  933742.7311008623\n",
      "Median value:  604000.0\n",
      "Standard Deviation value:  1030829.8104242847\n"
     ]
    }
   ],
   "source": [
    "# Deskriptif statistics kolom quantity\n",
    "print('Kolom quantity')\n",
    "print('Minimum value: ', retail_raw['quantity'].min())\n",
    "print('Maximum value: ', retail_raw['quantity'].max())\n",
    "print('Mean value: ', retail_raw['quantity'].mean())\n",
    "print('Mode value: ', retail_raw['quantity'].mode())\n",
    "print('Median value: ', retail_raw['quantity'].median())\n",
    "print('Standard Deviation value: ', retail_raw['quantity'].std())\n",
    "\n",
    "# Tugas praktek: Deskriptif statistics kolom item_price\n",
    "print('')\n",
    "print('Kolom item_price')\n",
    "print('Minimum value: ', retail_raw['item_price'].min())\n",
    "print('Maximum value: ', retail_raw['item_price'].max())\n",
    "print('Mean value: ', retail_raw['item_price'].mean())\n",
    "print('Median value: ', retail_raw['item_price'].median())\n",
    "print('Standard Deviation value: ', retail_raw['item_price'].std())"
   ]
  },
  {
   "cell_type": "markdown",
   "metadata": {},
   "source": [
    "##### **Quantile Statistics**\n",
    "\n",
    "Quantiles adalah titik potong yang membagi distribusi dalam ukuran yang sama. Jika akan membagi distribusi menjadi empat grup yang sama, kuantil yang dibuat dinamai *quartile*. Jika dibagi kedalam 10 sepuluh grup yang sama dinamakan *percentile*. Dalam kasus di bawah ini, ingin membagi distribusi menjadi empat grup atau *quartile*."
   ]
  },
  {
   "cell_type": "code",
   "execution_count": 22,
   "metadata": {},
   "outputs": [
    {
     "name": "stdout",
     "output_type": "stream",
     "text": [
      "Kolom quantity:\n",
      "0.25     2.0\n",
      "0.50     5.0\n",
      "0.75    12.0\n",
      "Name: quantity, dtype: float64\n",
      "\n",
      "Kolom item_price:\n",
      "0.25     450000.0\n",
      "0.50     604000.0\n",
      "0.75    1045000.0\n",
      "Name: item_price, dtype: float64\n"
     ]
    }
   ],
   "source": [
    "# Quantile statistics kolom quantity\n",
    "print('Kolom quantity:')\n",
    "print(retail_raw['quantity'].quantile([0.25, 0.5, 0.75]))\n",
    "\n",
    "# Tugas praktek: Quantile statistics kolom item_price\n",
    "print('')\n",
    "print('Kolom item_price:')\n",
    "print(retail_raw['item_price'].quantile([0.25,0.5,0.75]))"
   ]
  },
  {
   "cell_type": "markdown",
   "metadata": {},
   "source": [
    "##### **Correlation**\n",
    "\n",
    "Korelasi adalah cara yang tepat untuk menemukan hubungan antara variabel numerik. Koefisien korelasi berkisar antara -1 hingga 1. Korelasi 1 adalah korelasi positif total, korelasi -1 adalah korelasi negatif total dan korelasi 0 adalah korelasi *non-linear*."
   ]
  },
  {
   "cell_type": "code",
   "execution_count": 23,
   "metadata": {},
   "outputs": [
    {
     "name": "stdout",
     "output_type": "stream",
     "text": [
      "Korelasi quantity dengan item_price\n",
      "            quantity  item_price\n",
      "quantity    1.000000   -0.133936\n",
      "item_price -0.133936    1.000000\n"
     ]
    }
   ],
   "source": [
    "print('Korelasi quantity dengan item_price')\n",
    "print(retail_raw[['quantity', 'item_price']].corr())"
   ]
  },
  {
   "cell_type": "markdown",
   "metadata": {},
   "source": [
    "### Review Data menggunakan Pandas Profiling"
   ]
  },
  {
   "cell_type": "code",
   "execution_count": 24,
   "metadata": {},
   "outputs": [
    {
     "name": "stderr",
     "output_type": "stream",
     "text": [
      "Summarize dataset: 100%|██████████| 40/40 [01:14<00:00,  1.86s/it, Completed]                       \n",
      "Generate report structure: 100%|██████████| 1/1 [00:08<00:00,  8.09s/it]\n",
      "Render HTML: 100%|██████████| 1/1 [00:02<00:00,  2.79s/it]\n",
      "Export report to file: 100%|██████████| 1/1 [00:00<00:00,  5.93it/s]\n"
     ]
    }
   ],
   "source": [
    "report=pp.ProfileReport(retail_raw)\n",
    "report.to_file('profile_report.html')"
   ]
  },
  {
   "cell_type": "markdown",
   "metadata": {},
   "source": [
    "## Data Cleansing\n",
    "\n",
    "Data Cleansing adalah proses mengidentifikasi bagian data yang salah, tidak lengkap, tidak akurat, tidak relevan atau hilang dan kemudian memodifikasi, mengganti atau menghapusnya sesuai dengan kebutuhan."
   ]
  },
  {
   "cell_type": "markdown",
   "metadata": {},
   "source": [
    "### Missing Data\n",
    "\n",
    "Cara *treatment* terhadap *missing-value* antara lain:\n",
    "\n",
    "1. *Leave as it is* (dibiarkan)\n",
    "2. *Filling the missing value* (imputasi)\n",
    "3. *Drop them* (hapus *row* yang mengandung *missing value)*"
   ]
  },
  {
   "cell_type": "code",
   "execution_count": 25,
   "metadata": {},
   "outputs": [
    {
     "name": "stdout",
     "output_type": "stream",
     "text": [
      "Check kolom yang memiliki missing data:\n",
      "order_id       False\n",
      "order_date     False\n",
      "customer_id    False\n",
      "city            True\n",
      "province        True\n",
      "product_id      True\n",
      "brand          False\n",
      "quantity        True\n",
      "item_price      True\n",
      "dtype: bool\n"
     ]
    }
   ],
   "source": [
    "# Check kolom yang memiliki missing data\n",
    "print('Check kolom yang memiliki missing data:')\n",
    "print(retail_raw.isnull().any())"
   ]
  },
  {
   "cell_type": "markdown",
   "metadata": {},
   "source": [
    "##### **Imputasi**\n",
    "\n",
    "Suatu metode *treatment* terhadap *missing value* dengan mengisinya menggunakan teknik tertentu. Bisa menggunakan *mean, modus* ataupun menggunakan *predictive modelling.*"
   ]
  },
  {
   "cell_type": "code",
   "execution_count": 26,
   "metadata": {},
   "outputs": [
    {
     "name": "stdout",
     "output_type": "stream",
     "text": [
      "\n",
      "Filling the missing value (imputasi):\n",
      "0       10.0\n",
      "1        2.0\n",
      "2        8.0\n",
      "3        4.0\n",
      "4        2.0\n",
      "        ... \n",
      "4995     2.0\n",
      "4996     3.0\n",
      "4997     4.0\n",
      "4998     8.0\n",
      "4999     1.0\n",
      "Name: quantity, Length: 5000, dtype: float64\n"
     ]
    }
   ],
   "source": [
    "# Filling the missing value (imputasi)\n",
    "print('\\nFilling the missing value (imputasi):')\n",
    "print(retail_raw['quantity'].fillna(retail_raw.quantity.mean()))"
   ]
  },
  {
   "cell_type": "markdown",
   "metadata": {},
   "source": [
    "##### **Drop**\n",
    "\n",
    "Drop row yang mengandung *missing value*. Dapat menggunakan *function* **dropna** dari Pandas."
   ]
  },
  {
   "cell_type": "code",
   "execution_count": 27,
   "metadata": {},
   "outputs": [
    {
     "name": "stdout",
     "output_type": "stream",
     "text": [
      "\n",
      "Drop missing value:\n",
      "0       10.0\n",
      "1        2.0\n",
      "2        8.0\n",
      "3        4.0\n",
      "4        2.0\n",
      "        ... \n",
      "4995     2.0\n",
      "4996     3.0\n",
      "4997     4.0\n",
      "4998     8.0\n",
      "4999     1.0\n",
      "Name: quantity, Length: 4986, dtype: float64\n"
     ]
    }
   ],
   "source": [
    "# Drop missing value\n",
    "print('\\nDrop missing value:')\n",
    "print(retail_raw['quantity'].dropna())"
   ]
  },
  {
   "cell_type": "markdown",
   "metadata": {},
   "source": [
    "### Outliers\n",
    "\n",
    "##### **Definisi**\n",
    "\n",
    "*Outliers* merupakan data observasi yang muncul dengan nilai-nilai ekstrim. Yang dimaksud dengan nilai-nilai ekstrim dalam observasi adalah nilai yang jauh atau beda sama sekali dengan sebagian besar nilai lain dalam kelompoknya.\n",
    "\n",
    "##### **Cara mengatasi Outliers**\n",
    "\n",
    "Cara *treatment* terhadap *outliers* antara lain:\n",
    "\n",
    "1. *Remove the outliers* (dibuang)\n",
    "2. *Filling the missing value* (imputasi)\n",
    "3. *Capping*\n",
    "4. *Prediction*\n",
    "\n",
    "Pada umumnya, *outliers* dapat ditentukan dengan *metric* **IQR** (*interquartile range*).\n",
    "\n",
    "Rumus dasar dari IQR: Q3 - Q1, dan data suatu observasi dapat dikatakan *outliers* jika memenuhi kedua syarat dibawah ini:\n",
    "\n",
    "* < Q1 - 1.5 * IQR   \n",
    "*  Q3 + 1.5 * IQR <"
   ]
  },
  {
   "cell_type": "code",
   "execution_count": 28,
   "metadata": {},
   "outputs": [
    {
     "name": "stdout",
     "output_type": "stream",
     "text": [
      "Nilai Q1 (quantity): 2.0\n",
      "Nilai Q3 (quanitity): 12.0\n",
      "Nilai IQR (quantity): 10.0\n",
      "\n",
      "Shape awal:  (5000, 9)\n",
      "Shape akhir:  (4699, 9)\n"
     ]
    }
   ],
   "source": [
    "#Outliers Kolom Quantity\n",
    "\n",
    "# Q1, Q3, dan IQR\n",
    "Q1_qty = retail_raw['quantity'].quantile(0.25)\n",
    "Q3_qty = retail_raw['quantity'].quantile(0.75)\n",
    "IQR_qty = Q3_qty- Q1_qty\n",
    "print('Nilai Q1 (quantity):',Q1_qty)\n",
    "print('Nilai Q3 (quanitity):',Q3_qty)\n",
    "print('Nilai IQR (quantity):',IQR_qty)\n",
    "\n",
    "\n",
    "# Check ukuran (baris dan kolom) sebelum data yang outliers dibuang\n",
    "print('\\nShape awal: ', retail_raw.shape)\n",
    "\n",
    "# Removing outliers kolom quantity\n",
    "retail_raw = retail_raw[~((retail_raw['quantity'] < (Q1_qty-1.5*IQR_qty)) | (retail_raw['quantity'] > (Q3_qty+1.5*IQR_qty)))]\n",
    "\n",
    "# Check ukuran (baris dan kolom) setelah data yang outliers dibuang\n",
    "print('Shape akhir: ', retail_raw.shape)"
   ]
  },
  {
   "cell_type": "code",
   "execution_count": 29,
   "metadata": {},
   "outputs": [
    {
     "name": "stdout",
     "output_type": "stream",
     "text": [
      "Nilai Q1 (item_price): 450000.0\n",
      "Nilai Q3 (item_price): 1150000.0\n",
      "Nilai IQR (item_price): 700000.0\n",
      "\n",
      "Shape awal:  (4699, 9)\n",
      "Shape akhir:  (4379, 9)\n"
     ]
    }
   ],
   "source": [
    "#Outliers Kolom Item_price\n",
    "\n",
    "# Q1, Q3, dan IQR\n",
    "Q1_iprice = retail_raw['item_price'].quantile(0.25)\n",
    "Q3_iprice = retail_raw['item_price'].quantile(0.75)\n",
    "IQR_iprice = Q3_iprice-Q1_iprice\n",
    "print('Nilai Q1 (item_price):',Q1_iprice)\n",
    "print('Nilai Q3 (item_price):',Q3_iprice)\n",
    "print('Nilai IQR (item_price):',IQR_iprice)\n",
    "\n",
    "# Check ukuran (baris dan kolom) sebelum data yang outliers dibuang\n",
    "print('\\nShape awal: ', retail_raw.shape)\n",
    "\n",
    "# Removing outliers\n",
    "retail_raw = retail_raw[~((retail_raw['item_price'] < (Q1_iprice-1.5*IQR_iprice)) | (retail_raw['item_price'] > (Q3_iprice+1.5*IQR_iprice)))]\n",
    "\n",
    "# Check ukuran (baris dan kolom) setelah data yang outliers dibuang\n",
    "print('Shape akhir: ', retail_raw.shape)"
   ]
  },
  {
   "cell_type": "markdown",
   "metadata": {},
   "source": [
    "### Deduplikasi Data\n",
    "\n",
    "##### **Definisi**\n",
    "\n",
    "**Duplikasi data** merupakan data dengan kondisi pada *row-row* tertentu memiliki kesamaan data di seluruh kolomnya. Tentunya ada data yang duplikat dalam dataset yang dimiliki. Kondisi duplikasi harus diatasi dengan jalan mengeliminir baris yang mengalami duplikasi, sehingga proses ini dikenal dengan **deduplikasi**."
   ]
  },
  {
   "cell_type": "code",
   "execution_count": 30,
   "metadata": {},
   "outputs": [
    {
     "name": "stdout",
     "output_type": "stream",
     "text": [
      "Shape awal:  (4379, 9)\n",
      "Shape akhir:  (4373, 9)\n"
     ]
    }
   ],
   "source": [
    "# Check ukuran (baris dan kolom) sebelum data duplikasi dibuang\n",
    "print('Shape awal: ', retail_raw.shape)\n",
    "\n",
    "# Buang data yang terduplikasi\n",
    "retail_raw.drop_duplicates(inplace=True)\n",
    "\n",
    "# Check ukuran (baris dan kolom) setelah data duplikasi dibuang\n",
    "print('Shape akhir: ', retail_raw.shape)"
   ]
  }
 ],
 "metadata": {
  "interpreter": {
   "hash": "7fc9657c2735699e41147331631b6e87ab70a98f6546ef3617df79b0a1c499c8"
  },
  "kernelspec": {
   "display_name": "Python 3.9.2 64-bit",
   "language": "python",
   "name": "python3"
  },
  "language_info": {
   "codemirror_mode": {
    "name": "ipython",
    "version": 3
   },
   "file_extension": ".py",
   "mimetype": "text/x-python",
   "name": "python",
   "nbconvert_exporter": "python",
   "pygments_lexer": "ipython3",
   "version": "3.9.7"
  },
  "orig_nbformat": 4
 },
 "nbformat": 4,
 "nbformat_minor": 2
}
