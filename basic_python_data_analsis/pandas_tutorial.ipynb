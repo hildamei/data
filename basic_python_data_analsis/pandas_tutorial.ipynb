{
 "metadata": {
  "language_info": {
   "codemirror_mode": {
    "name": "ipython",
    "version": 3
   },
   "file_extension": ".py",
   "mimetype": "text/x-python",
   "name": "python",
   "nbconvert_exporter": "python",
   "pygments_lexer": "ipython3",
   "version": "3.8.5"
  },
  "orig_nbformat": 2,
  "kernelspec": {
   "name": "python385jvsc74a57bd05469ed99ced57d7a974295793b7fe0b9fc90b76d372ed220a03ae6b98f940516",
   "display_name": "Python 3.8.5 64-bit (conda)"
  }
 },
 "nbformat": 4,
 "nbformat_minor": 2,
 "cells": [
  {
   "cell_type": "code",
   "execution_count": 8,
   "metadata": {},
   "outputs": [],
   "source": [
    "import pandas as pd\n",
    "import os"
   ]
  },
  {
   "cell_type": "code",
   "execution_count": 4,
   "metadata": {},
   "outputs": [
    {
     "output_type": "execute_result",
     "data": {
      "text/plain": [
       "0      1\n",
       "1      2\n",
       "2      3\n",
       "3      4\n",
       "4      5\n",
       "      ..\n",
       "94    95\n",
       "95    96\n",
       "96    97\n",
       "97    98\n",
       "98    99\n",
       "Length: 99, dtype: int64"
      ]
     },
     "metadata": {},
     "execution_count": 4
    }
   ],
   "source": [
    "series_tes=list(range(1,100))\n",
    "pd.Series(series_tes)"
   ]
  },
  {
   "cell_type": "code",
   "execution_count": 10,
   "metadata": {},
   "outputs": [],
   "source": [
    "pwd=os.getcwd()"
   ]
  },
  {
   "cell_type": "code",
   "execution_count": 11,
   "metadata": {},
   "outputs": [
    {
     "output_type": "execute_result",
     "data": {
      "text/plain": [
       "'f:\\\\Hilda\\\\data\\\\latihan-1/simple_csv.csv'"
      ]
     },
     "metadata": {},
     "execution_count": 11
    }
   ],
   "source": [
    "filepath=pwd+\"/simple_csv.csv\"\n",
    "filepath"
   ]
  },
  {
   "cell_type": "code",
   "execution_count": 12,
   "metadata": {},
   "outputs": [
    {
     "output_type": "execute_result",
     "data": {
      "text/plain": [
       "    Column1   Column2   Column3\n",
       "0  0.280925  0.910368  0.692982\n",
       "1  0.719882  0.210024  0.761276\n",
       "2  0.235752  0.059796  0.154667\n",
       "3  0.603366  0.485614  0.013345\n",
       "4  0.039985  0.236359  0.811832\n",
       "5  0.015478  0.543641  0.112719\n",
       "6  0.192540  0.409874  0.875082\n",
       "7  0.380921  0.045468  0.515859\n",
       "8  0.592471  0.786421  0.047249\n",
       "9  0.072112  0.695694  0.409573"
      ],
      "text/html": "<div>\n<style scoped>\n    .dataframe tbody tr th:only-of-type {\n        vertical-align: middle;\n    }\n\n    .dataframe tbody tr th {\n        vertical-align: top;\n    }\n\n    .dataframe thead th {\n        text-align: right;\n    }\n</style>\n<table border=\"1\" class=\"dataframe\">\n  <thead>\n    <tr style=\"text-align: right;\">\n      <th></th>\n      <th>Column1</th>\n      <th>Column2</th>\n      <th>Column3</th>\n    </tr>\n  </thead>\n  <tbody>\n    <tr>\n      <th>0</th>\n      <td>0.280925</td>\n      <td>0.910368</td>\n      <td>0.692982</td>\n    </tr>\n    <tr>\n      <th>1</th>\n      <td>0.719882</td>\n      <td>0.210024</td>\n      <td>0.761276</td>\n    </tr>\n    <tr>\n      <th>2</th>\n      <td>0.235752</td>\n      <td>0.059796</td>\n      <td>0.154667</td>\n    </tr>\n    <tr>\n      <th>3</th>\n      <td>0.603366</td>\n      <td>0.485614</td>\n      <td>0.013345</td>\n    </tr>\n    <tr>\n      <th>4</th>\n      <td>0.039985</td>\n      <td>0.236359</td>\n      <td>0.811832</td>\n    </tr>\n    <tr>\n      <th>5</th>\n      <td>0.015478</td>\n      <td>0.543641</td>\n      <td>0.112719</td>\n    </tr>\n    <tr>\n      <th>6</th>\n      <td>0.192540</td>\n      <td>0.409874</td>\n      <td>0.875082</td>\n    </tr>\n    <tr>\n      <th>7</th>\n      <td>0.380921</td>\n      <td>0.045468</td>\n      <td>0.515859</td>\n    </tr>\n    <tr>\n      <th>8</th>\n      <td>0.592471</td>\n      <td>0.786421</td>\n      <td>0.047249</td>\n    </tr>\n    <tr>\n      <th>9</th>\n      <td>0.072112</td>\n      <td>0.695694</td>\n      <td>0.409573</td>\n    </tr>\n  </tbody>\n</table>\n</div>"
     },
     "metadata": {},
     "execution_count": 12
    }
   ],
   "source": [
    "first_import= pd.read_csv(filepath, nrows=10)\n",
    "first_import"
   ]
  },
  {
   "cell_type": "code",
   "execution_count": 12,
   "metadata": {},
   "outputs": [
    {
     "output_type": "execute_result",
     "data": {
      "text/plain": [
       "0    0.280925\n",
       "1    0.719882\n",
       "2    0.235752\n",
       "3    0.603366\n",
       "4    0.039985\n",
       "5    0.015478\n",
       "6    0.192540\n",
       "7    0.380921\n",
       "8    0.592471\n",
       "9    0.072112\n",
       "Name: Column1, dtype: float64"
      ]
     },
     "metadata": {},
     "execution_count": 12
    }
   ],
   "source": [
    "first_import[\"Column1\"]"
   ]
  },
  {
   "cell_type": "code",
   "execution_count": 13,
   "metadata": {},
   "outputs": [
    {
     "output_type": "execute_result",
     "data": {
      "text/plain": [
       "    Column1   Column2   Column3  New_Column  New Column 2  Addeed ouput\n",
       "0  0.280925  0.910368  0.692982           1             0             1\n",
       "1  0.719882  0.210024  0.761276           1             1             2\n",
       "2  0.235752  0.059796  0.154667           1             2             3\n",
       "3  0.603366  0.485614  0.013345           1             3             4\n",
       "4  0.039985  0.236359  0.811832           1             4             5\n",
       "5  0.015478  0.543641  0.112719           1             5             6\n",
       "6  0.192540  0.409874  0.875082           1             6             7\n",
       "7  0.380921  0.045468  0.515859           1             7             8\n",
       "8  0.592471  0.786421  0.047249           1             8             9\n",
       "9  0.072112  0.695694  0.409573           1             9            10"
      ],
      "text/html": "<div>\n<style scoped>\n    .dataframe tbody tr th:only-of-type {\n        vertical-align: middle;\n    }\n\n    .dataframe tbody tr th {\n        vertical-align: top;\n    }\n\n    .dataframe thead th {\n        text-align: right;\n    }\n</style>\n<table border=\"1\" class=\"dataframe\">\n  <thead>\n    <tr style=\"text-align: right;\">\n      <th></th>\n      <th>Column1</th>\n      <th>Column2</th>\n      <th>Column3</th>\n      <th>New_Column</th>\n      <th>New Column 2</th>\n      <th>Addeed ouput</th>\n    </tr>\n  </thead>\n  <tbody>\n    <tr>\n      <th>0</th>\n      <td>0.280925</td>\n      <td>0.910368</td>\n      <td>0.692982</td>\n      <td>1</td>\n      <td>0</td>\n      <td>1</td>\n    </tr>\n    <tr>\n      <th>1</th>\n      <td>0.719882</td>\n      <td>0.210024</td>\n      <td>0.761276</td>\n      <td>1</td>\n      <td>1</td>\n      <td>2</td>\n    </tr>\n    <tr>\n      <th>2</th>\n      <td>0.235752</td>\n      <td>0.059796</td>\n      <td>0.154667</td>\n      <td>1</td>\n      <td>2</td>\n      <td>3</td>\n    </tr>\n    <tr>\n      <th>3</th>\n      <td>0.603366</td>\n      <td>0.485614</td>\n      <td>0.013345</td>\n      <td>1</td>\n      <td>3</td>\n      <td>4</td>\n    </tr>\n    <tr>\n      <th>4</th>\n      <td>0.039985</td>\n      <td>0.236359</td>\n      <td>0.811832</td>\n      <td>1</td>\n      <td>4</td>\n      <td>5</td>\n    </tr>\n    <tr>\n      <th>5</th>\n      <td>0.015478</td>\n      <td>0.543641</td>\n      <td>0.112719</td>\n      <td>1</td>\n      <td>5</td>\n      <td>6</td>\n    </tr>\n    <tr>\n      <th>6</th>\n      <td>0.192540</td>\n      <td>0.409874</td>\n      <td>0.875082</td>\n      <td>1</td>\n      <td>6</td>\n      <td>7</td>\n    </tr>\n    <tr>\n      <th>7</th>\n      <td>0.380921</td>\n      <td>0.045468</td>\n      <td>0.515859</td>\n      <td>1</td>\n      <td>7</td>\n      <td>8</td>\n    </tr>\n    <tr>\n      <th>8</th>\n      <td>0.592471</td>\n      <td>0.786421</td>\n      <td>0.047249</td>\n      <td>1</td>\n      <td>8</td>\n      <td>9</td>\n    </tr>\n    <tr>\n      <th>9</th>\n      <td>0.072112</td>\n      <td>0.695694</td>\n      <td>0.409573</td>\n      <td>1</td>\n      <td>9</td>\n      <td>10</td>\n    </tr>\n  </tbody>\n</table>\n</div>"
     },
     "metadata": {},
     "execution_count": 13
    }
   ],
   "source": [
    "first_import[\"New_Column\"]=1\n",
    "first_import[\"New Column 2\"]=list(range(10))\n",
    "first_import[\"Addeed ouput\"]= first_import[\"New_Column\"]+first_import[\"New Column 2\"]\n",
    "first_import"
   ]
  },
  {
   "cell_type": "code",
   "execution_count": 25,
   "metadata": {},
   "outputs": [
    {
     "output_type": "execute_result",
     "data": {
      "text/plain": [
       "    Column1   Column2   Column3  New Column 2  Addeed ouput\n",
       "0  0.280925  0.910368  0.692982             0             1\n",
       "1  0.719882  0.210024  0.761276             1             2\n",
       "2  0.235752  0.059796  0.154667             2             3\n",
       "3  0.603366  0.485614  0.013345             3             4\n",
       "4  0.039985  0.236359  0.811832             4             5\n",
       "5  0.015478  0.543641  0.112719             5             6\n",
       "6  0.192540  0.409874  0.875082             6             7\n",
       "7  0.380921  0.045468  0.515859             7             8\n",
       "8  0.592471  0.786421  0.047249             8             9\n",
       "9  0.072112  0.695694  0.409573             9            10"
      ],
      "text/html": "<div>\n<style scoped>\n    .dataframe tbody tr th:only-of-type {\n        vertical-align: middle;\n    }\n\n    .dataframe tbody tr th {\n        vertical-align: top;\n    }\n\n    .dataframe thead th {\n        text-align: right;\n    }\n</style>\n<table border=\"1\" class=\"dataframe\">\n  <thead>\n    <tr style=\"text-align: right;\">\n      <th></th>\n      <th>Column1</th>\n      <th>Column2</th>\n      <th>Column3</th>\n      <th>New Column 2</th>\n      <th>Addeed ouput</th>\n    </tr>\n  </thead>\n  <tbody>\n    <tr>\n      <th>0</th>\n      <td>0.280925</td>\n      <td>0.910368</td>\n      <td>0.692982</td>\n      <td>0</td>\n      <td>1</td>\n    </tr>\n    <tr>\n      <th>1</th>\n      <td>0.719882</td>\n      <td>0.210024</td>\n      <td>0.761276</td>\n      <td>1</td>\n      <td>2</td>\n    </tr>\n    <tr>\n      <th>2</th>\n      <td>0.235752</td>\n      <td>0.059796</td>\n      <td>0.154667</td>\n      <td>2</td>\n      <td>3</td>\n    </tr>\n    <tr>\n      <th>3</th>\n      <td>0.603366</td>\n      <td>0.485614</td>\n      <td>0.013345</td>\n      <td>3</td>\n      <td>4</td>\n    </tr>\n    <tr>\n      <th>4</th>\n      <td>0.039985</td>\n      <td>0.236359</td>\n      <td>0.811832</td>\n      <td>4</td>\n      <td>5</td>\n    </tr>\n    <tr>\n      <th>5</th>\n      <td>0.015478</td>\n      <td>0.543641</td>\n      <td>0.112719</td>\n      <td>5</td>\n      <td>6</td>\n    </tr>\n    <tr>\n      <th>6</th>\n      <td>0.192540</td>\n      <td>0.409874</td>\n      <td>0.875082</td>\n      <td>6</td>\n      <td>7</td>\n    </tr>\n    <tr>\n      <th>7</th>\n      <td>0.380921</td>\n      <td>0.045468</td>\n      <td>0.515859</td>\n      <td>7</td>\n      <td>8</td>\n    </tr>\n    <tr>\n      <th>8</th>\n      <td>0.592471</td>\n      <td>0.786421</td>\n      <td>0.047249</td>\n      <td>8</td>\n      <td>9</td>\n    </tr>\n    <tr>\n      <th>9</th>\n      <td>0.072112</td>\n      <td>0.695694</td>\n      <td>0.409573</td>\n      <td>9</td>\n      <td>10</td>\n    </tr>\n  </tbody>\n</table>\n</div>"
     },
     "metadata": {},
     "execution_count": 25
    }
   ],
   "source": [
    "first_import= first_import.drop(columns=\"New_Column\")\n",
    "first_import"
   ]
  },
  {
   "cell_type": "code",
   "execution_count": 28,
   "metadata": {},
   "outputs": [
    {
     "output_type": "execute_result",
     "data": {
      "text/plain": [
       "    Column1   Column2   Column3  New Column 2  Addeed ouput\n",
       "0  0.280925  0.910368  0.692982             0             1\n",
       "1  0.719882  0.210024  0.761276             1             2\n",
       "2  0.235752  0.059796  0.154667             2             3\n",
       "3  0.603366  0.485614  0.013345             3             4\n",
       "4  0.039985  0.236359  0.811832             4             5\n",
       "5  0.015478  0.543641  0.112719             5             6\n",
       "6  0.192540  0.409874  0.875082             6             7\n",
       "7  0.380921  0.045468  0.515859             7             8\n",
       "8  0.592471  0.786421  0.047249             8             9\n",
       "9  0.072112  0.695694  0.409573             9            10"
      ],
      "text/html": "<div>\n<style scoped>\n    .dataframe tbody tr th:only-of-type {\n        vertical-align: middle;\n    }\n\n    .dataframe tbody tr th {\n        vertical-align: top;\n    }\n\n    .dataframe thead th {\n        text-align: right;\n    }\n</style>\n<table border=\"1\" class=\"dataframe\">\n  <thead>\n    <tr style=\"text-align: right;\">\n      <th></th>\n      <th>Column1</th>\n      <th>Column2</th>\n      <th>Column3</th>\n      <th>New Column 2</th>\n      <th>Addeed ouput</th>\n    </tr>\n  </thead>\n  <tbody>\n    <tr>\n      <th>0</th>\n      <td>0.280925</td>\n      <td>0.910368</td>\n      <td>0.692982</td>\n      <td>0</td>\n      <td>1</td>\n    </tr>\n    <tr>\n      <th>1</th>\n      <td>0.719882</td>\n      <td>0.210024</td>\n      <td>0.761276</td>\n      <td>1</td>\n      <td>2</td>\n    </tr>\n    <tr>\n      <th>2</th>\n      <td>0.235752</td>\n      <td>0.059796</td>\n      <td>0.154667</td>\n      <td>2</td>\n      <td>3</td>\n    </tr>\n    <tr>\n      <th>3</th>\n      <td>0.603366</td>\n      <td>0.485614</td>\n      <td>0.013345</td>\n      <td>3</td>\n      <td>4</td>\n    </tr>\n    <tr>\n      <th>4</th>\n      <td>0.039985</td>\n      <td>0.236359</td>\n      <td>0.811832</td>\n      <td>4</td>\n      <td>5</td>\n    </tr>\n    <tr>\n      <th>5</th>\n      <td>0.015478</td>\n      <td>0.543641</td>\n      <td>0.112719</td>\n      <td>5</td>\n      <td>6</td>\n    </tr>\n    <tr>\n      <th>6</th>\n      <td>0.192540</td>\n      <td>0.409874</td>\n      <td>0.875082</td>\n      <td>6</td>\n      <td>7</td>\n    </tr>\n    <tr>\n      <th>7</th>\n      <td>0.380921</td>\n      <td>0.045468</td>\n      <td>0.515859</td>\n      <td>7</td>\n      <td>8</td>\n    </tr>\n    <tr>\n      <th>8</th>\n      <td>0.592471</td>\n      <td>0.786421</td>\n      <td>0.047249</td>\n      <td>8</td>\n      <td>9</td>\n    </tr>\n    <tr>\n      <th>9</th>\n      <td>0.072112</td>\n      <td>0.695694</td>\n      <td>0.409573</td>\n      <td>9</td>\n      <td>10</td>\n    </tr>\n  </tbody>\n</table>\n</div>"
     },
     "metadata": {},
     "execution_count": 28
    }
   ],
   "source": [
    "first_import.drop(columns=\"New_Column\", inplace=True)\n",
    "first_import"
   ]
  },
  {
   "cell_type": "code",
   "execution_count": 29,
   "metadata": {},
   "outputs": [
    {
     "output_type": "execute_result",
     "data": {
      "text/plain": [
       "    Column1   Column2   Column3  New Column 2  Addeed ouput\n",
       "0  0.280925  0.910368  0.692982             0             1\n",
       "1  0.719882  0.210024  0.761276             1             2\n",
       "2  0.235752  0.059796  0.154667             2             3\n",
       "3  0.603366  0.485614  0.013345             3             4\n",
       "4  0.039985  0.236359  0.811832             4             5\n",
       "5  0.015478  0.543641  0.112719             5             6"
      ],
      "text/html": "<div>\n<style scoped>\n    .dataframe tbody tr th:only-of-type {\n        vertical-align: middle;\n    }\n\n    .dataframe tbody tr th {\n        vertical-align: top;\n    }\n\n    .dataframe thead th {\n        text-align: right;\n    }\n</style>\n<table border=\"1\" class=\"dataframe\">\n  <thead>\n    <tr style=\"text-align: right;\">\n      <th></th>\n      <th>Column1</th>\n      <th>Column2</th>\n      <th>Column3</th>\n      <th>New Column 2</th>\n      <th>Addeed ouput</th>\n    </tr>\n  </thead>\n  <tbody>\n    <tr>\n      <th>0</th>\n      <td>0.280925</td>\n      <td>0.910368</td>\n      <td>0.692982</td>\n      <td>0</td>\n      <td>1</td>\n    </tr>\n    <tr>\n      <th>1</th>\n      <td>0.719882</td>\n      <td>0.210024</td>\n      <td>0.761276</td>\n      <td>1</td>\n      <td>2</td>\n    </tr>\n    <tr>\n      <th>2</th>\n      <td>0.235752</td>\n      <td>0.059796</td>\n      <td>0.154667</td>\n      <td>2</td>\n      <td>3</td>\n    </tr>\n    <tr>\n      <th>3</th>\n      <td>0.603366</td>\n      <td>0.485614</td>\n      <td>0.013345</td>\n      <td>3</td>\n      <td>4</td>\n    </tr>\n    <tr>\n      <th>4</th>\n      <td>0.039985</td>\n      <td>0.236359</td>\n      <td>0.811832</td>\n      <td>4</td>\n      <td>5</td>\n    </tr>\n    <tr>\n      <th>5</th>\n      <td>0.015478</td>\n      <td>0.543641</td>\n      <td>0.112719</td>\n      <td>5</td>\n      <td>6</td>\n    </tr>\n  </tbody>\n</table>\n</div>"
     },
     "metadata": {},
     "execution_count": 29
    }
   ],
   "source": [
    "first_import.loc[:5,[\"Column1\",\t\"Column2\",\t\"Column3\",\t\"New Column 2\",\"Addeed ouput\"] ] #loc will include the last intance you specify"
   ]
  },
  {
   "cell_type": "code",
   "execution_count": 31,
   "metadata": {},
   "outputs": [
    {
     "output_type": "execute_result",
     "data": {
      "text/plain": [
       "    Column1   Column3\n",
       "0  0.280925  0.692982\n",
       "1  0.719882  0.761276\n",
       "2  0.235752  0.154667\n",
       "3  0.603366  0.013345\n",
       "4  0.039985  0.811832\n",
       "5  0.015478  0.112719"
      ],
      "text/html": "<div>\n<style scoped>\n    .dataframe tbody tr th:only-of-type {\n        vertical-align: middle;\n    }\n\n    .dataframe tbody tr th {\n        vertical-align: top;\n    }\n\n    .dataframe thead th {\n        text-align: right;\n    }\n</style>\n<table border=\"1\" class=\"dataframe\">\n  <thead>\n    <tr style=\"text-align: right;\">\n      <th></th>\n      <th>Column1</th>\n      <th>Column3</th>\n    </tr>\n  </thead>\n  <tbody>\n    <tr>\n      <th>0</th>\n      <td>0.280925</td>\n      <td>0.692982</td>\n    </tr>\n    <tr>\n      <th>1</th>\n      <td>0.719882</td>\n      <td>0.761276</td>\n    </tr>\n    <tr>\n      <th>2</th>\n      <td>0.235752</td>\n      <td>0.154667</td>\n    </tr>\n    <tr>\n      <th>3</th>\n      <td>0.603366</td>\n      <td>0.013345</td>\n    </tr>\n    <tr>\n      <th>4</th>\n      <td>0.039985</td>\n      <td>0.811832</td>\n    </tr>\n    <tr>\n      <th>5</th>\n      <td>0.015478</td>\n      <td>0.112719</td>\n    </tr>\n  </tbody>\n</table>\n</div>"
     },
     "metadata": {},
     "execution_count": 31
    }
   ],
   "source": [
    "first_import.iloc[:6,[0,2]] #first range is row second range is column(0,2)is column indeks 0 and index 2"
   ]
  },
  {
   "cell_type": "code",
   "execution_count": 14,
   "metadata": {},
   "outputs": [
    {
     "output_type": "execute_result",
     "data": {
      "text/plain": [
       "     show_id     type                                    title  \\\n",
       "0         s1  TV Show                                       3%   \n",
       "1         s2    Movie                                     7:19   \n",
       "2         s3    Movie                                    23:59   \n",
       "3         s4    Movie                                        9   \n",
       "4         s5    Movie                                       21   \n",
       "...      ...      ...                                      ...   \n",
       "7782   s7783    Movie                                     Zozo   \n",
       "7783   s7784    Movie                                   Zubaan   \n",
       "7784   s7785    Movie                        Zulu Man in Japan   \n",
       "7785   s7786  TV Show                    Zumbo's Just Desserts   \n",
       "7786   s7787    Movie  ZZ TOP: THAT LITTLE OL' BAND FROM TEXAS   \n",
       "\n",
       "               director                                               cast  \\\n",
       "0                   NaN  João Miguel, Bianca Comparato, Michel Gomes, R...   \n",
       "1     Jorge Michel Grau  Demián Bichir, Héctor Bonilla, Oscar Serrano, ...   \n",
       "2          Gilbert Chan  Tedd Chan, Stella Chung, Henley Hii, Lawrence ...   \n",
       "3           Shane Acker  Elijah Wood, John C. Reilly, Jennifer Connelly...   \n",
       "4        Robert Luketic  Jim Sturgess, Kevin Spacey, Kate Bosworth, Aar...   \n",
       "...                 ...                                                ...   \n",
       "7782        Josef Fares  Imad Creidi, Antoinette Turk, Elias Gergi, Car...   \n",
       "7783        Mozez Singh  Vicky Kaushal, Sarah-Jane Dias, Raaghav Chanan...   \n",
       "7784                NaN                                            Nasty C   \n",
       "7785                NaN                         Adriano Zumbo, Rachel Khoo   \n",
       "7786           Sam Dunn                                                NaN   \n",
       "\n",
       "                                                country          date_added  \\\n",
       "0                                                Brazil     August 14, 2020   \n",
       "1                                                Mexico   December 23, 2016   \n",
       "2                                             Singapore   December 20, 2018   \n",
       "3                                         United States   November 16, 2017   \n",
       "4                                         United States     January 1, 2020   \n",
       "...                                                 ...                 ...   \n",
       "7782  Sweden, Czech Republic, United Kingdom, Denmar...    October 19, 2020   \n",
       "7783                                              India       March 2, 2019   \n",
       "7784                                                NaN  September 25, 2020   \n",
       "7785                                          Australia    October 31, 2020   \n",
       "7786              United Kingdom, Canada, United States       March 1, 2020   \n",
       "\n",
       "      release_year rating   duration  \\\n",
       "0             2020  TV-MA  4 Seasons   \n",
       "1             2016  TV-MA     93 min   \n",
       "2             2011      R     78 min   \n",
       "3             2009  PG-13     80 min   \n",
       "4             2008  PG-13    123 min   \n",
       "...            ...    ...        ...   \n",
       "7782          2005  TV-MA     99 min   \n",
       "7783          2015  TV-14    111 min   \n",
       "7784          2019  TV-MA     44 min   \n",
       "7785          2019  TV-PG   1 Season   \n",
       "7786          2019  TV-MA     90 min   \n",
       "\n",
       "                                              listed_in  \\\n",
       "0     International TV Shows, TV Dramas, TV Sci-Fi &...   \n",
       "1                          Dramas, International Movies   \n",
       "2                   Horror Movies, International Movies   \n",
       "3     Action & Adventure, Independent Movies, Sci-Fi...   \n",
       "4                                                Dramas   \n",
       "...                                                 ...   \n",
       "7782                       Dramas, International Movies   \n",
       "7783     Dramas, International Movies, Music & Musicals   \n",
       "7784  Documentaries, International Movies, Music & M...   \n",
       "7785                 International TV Shows, Reality TV   \n",
       "7786                    Documentaries, Music & Musicals   \n",
       "\n",
       "                                            description  \n",
       "0     In a future where the elite inhabit an island ...  \n",
       "1     After a devastating earthquake hits Mexico Cit...  \n",
       "2     When an army recruit is found dead, his fellow...  \n",
       "3     In a postapocalyptic world, rag-doll robots hi...  \n",
       "4     A brilliant group of students become card-coun...  \n",
       "...                                                 ...  \n",
       "7782  When Lebanon's Civil War deprives Zozo of his ...  \n",
       "7783  A scrappy but poor boy worms his way into a ty...  \n",
       "7784  In this documentary, South African rapper Nast...  \n",
       "7785  Dessert wizard Adriano Zumbo looks for the nex...  \n",
       "7786  This documentary delves into the mystique behi...  \n",
       "\n",
       "[7787 rows x 12 columns]"
      ],
      "text/html": "<div>\n<style scoped>\n    .dataframe tbody tr th:only-of-type {\n        vertical-align: middle;\n    }\n\n    .dataframe tbody tr th {\n        vertical-align: top;\n    }\n\n    .dataframe thead th {\n        text-align: right;\n    }\n</style>\n<table border=\"1\" class=\"dataframe\">\n  <thead>\n    <tr style=\"text-align: right;\">\n      <th></th>\n      <th>show_id</th>\n      <th>type</th>\n      <th>title</th>\n      <th>director</th>\n      <th>cast</th>\n      <th>country</th>\n      <th>date_added</th>\n      <th>release_year</th>\n      <th>rating</th>\n      <th>duration</th>\n      <th>listed_in</th>\n      <th>description</th>\n    </tr>\n  </thead>\n  <tbody>\n    <tr>\n      <th>0</th>\n      <td>s1</td>\n      <td>TV Show</td>\n      <td>3%</td>\n      <td>NaN</td>\n      <td>João Miguel, Bianca Comparato, Michel Gomes, R...</td>\n      <td>Brazil</td>\n      <td>August 14, 2020</td>\n      <td>2020</td>\n      <td>TV-MA</td>\n      <td>4 Seasons</td>\n      <td>International TV Shows, TV Dramas, TV Sci-Fi &amp;...</td>\n      <td>In a future where the elite inhabit an island ...</td>\n    </tr>\n    <tr>\n      <th>1</th>\n      <td>s2</td>\n      <td>Movie</td>\n      <td>7:19</td>\n      <td>Jorge Michel Grau</td>\n      <td>Demián Bichir, Héctor Bonilla, Oscar Serrano, ...</td>\n      <td>Mexico</td>\n      <td>December 23, 2016</td>\n      <td>2016</td>\n      <td>TV-MA</td>\n      <td>93 min</td>\n      <td>Dramas, International Movies</td>\n      <td>After a devastating earthquake hits Mexico Cit...</td>\n    </tr>\n    <tr>\n      <th>2</th>\n      <td>s3</td>\n      <td>Movie</td>\n      <td>23:59</td>\n      <td>Gilbert Chan</td>\n      <td>Tedd Chan, Stella Chung, Henley Hii, Lawrence ...</td>\n      <td>Singapore</td>\n      <td>December 20, 2018</td>\n      <td>2011</td>\n      <td>R</td>\n      <td>78 min</td>\n      <td>Horror Movies, International Movies</td>\n      <td>When an army recruit is found dead, his fellow...</td>\n    </tr>\n    <tr>\n      <th>3</th>\n      <td>s4</td>\n      <td>Movie</td>\n      <td>9</td>\n      <td>Shane Acker</td>\n      <td>Elijah Wood, John C. Reilly, Jennifer Connelly...</td>\n      <td>United States</td>\n      <td>November 16, 2017</td>\n      <td>2009</td>\n      <td>PG-13</td>\n      <td>80 min</td>\n      <td>Action &amp; Adventure, Independent Movies, Sci-Fi...</td>\n      <td>In a postapocalyptic world, rag-doll robots hi...</td>\n    </tr>\n    <tr>\n      <th>4</th>\n      <td>s5</td>\n      <td>Movie</td>\n      <td>21</td>\n      <td>Robert Luketic</td>\n      <td>Jim Sturgess, Kevin Spacey, Kate Bosworth, Aar...</td>\n      <td>United States</td>\n      <td>January 1, 2020</td>\n      <td>2008</td>\n      <td>PG-13</td>\n      <td>123 min</td>\n      <td>Dramas</td>\n      <td>A brilliant group of students become card-coun...</td>\n    </tr>\n    <tr>\n      <th>...</th>\n      <td>...</td>\n      <td>...</td>\n      <td>...</td>\n      <td>...</td>\n      <td>...</td>\n      <td>...</td>\n      <td>...</td>\n      <td>...</td>\n      <td>...</td>\n      <td>...</td>\n      <td>...</td>\n      <td>...</td>\n    </tr>\n    <tr>\n      <th>7782</th>\n      <td>s7783</td>\n      <td>Movie</td>\n      <td>Zozo</td>\n      <td>Josef Fares</td>\n      <td>Imad Creidi, Antoinette Turk, Elias Gergi, Car...</td>\n      <td>Sweden, Czech Republic, United Kingdom, Denmar...</td>\n      <td>October 19, 2020</td>\n      <td>2005</td>\n      <td>TV-MA</td>\n      <td>99 min</td>\n      <td>Dramas, International Movies</td>\n      <td>When Lebanon's Civil War deprives Zozo of his ...</td>\n    </tr>\n    <tr>\n      <th>7783</th>\n      <td>s7784</td>\n      <td>Movie</td>\n      <td>Zubaan</td>\n      <td>Mozez Singh</td>\n      <td>Vicky Kaushal, Sarah-Jane Dias, Raaghav Chanan...</td>\n      <td>India</td>\n      <td>March 2, 2019</td>\n      <td>2015</td>\n      <td>TV-14</td>\n      <td>111 min</td>\n      <td>Dramas, International Movies, Music &amp; Musicals</td>\n      <td>A scrappy but poor boy worms his way into a ty...</td>\n    </tr>\n    <tr>\n      <th>7784</th>\n      <td>s7785</td>\n      <td>Movie</td>\n      <td>Zulu Man in Japan</td>\n      <td>NaN</td>\n      <td>Nasty C</td>\n      <td>NaN</td>\n      <td>September 25, 2020</td>\n      <td>2019</td>\n      <td>TV-MA</td>\n      <td>44 min</td>\n      <td>Documentaries, International Movies, Music &amp; M...</td>\n      <td>In this documentary, South African rapper Nast...</td>\n    </tr>\n    <tr>\n      <th>7785</th>\n      <td>s7786</td>\n      <td>TV Show</td>\n      <td>Zumbo's Just Desserts</td>\n      <td>NaN</td>\n      <td>Adriano Zumbo, Rachel Khoo</td>\n      <td>Australia</td>\n      <td>October 31, 2020</td>\n      <td>2019</td>\n      <td>TV-PG</td>\n      <td>1 Season</td>\n      <td>International TV Shows, Reality TV</td>\n      <td>Dessert wizard Adriano Zumbo looks for the nex...</td>\n    </tr>\n    <tr>\n      <th>7786</th>\n      <td>s7787</td>\n      <td>Movie</td>\n      <td>ZZ TOP: THAT LITTLE OL' BAND FROM TEXAS</td>\n      <td>Sam Dunn</td>\n      <td>NaN</td>\n      <td>United Kingdom, Canada, United States</td>\n      <td>March 1, 2020</td>\n      <td>2019</td>\n      <td>TV-MA</td>\n      <td>90 min</td>\n      <td>Documentaries, Music &amp; Musicals</td>\n      <td>This documentary delves into the mystique behi...</td>\n    </tr>\n  </tbody>\n</table>\n<p>7787 rows × 12 columns</p>\n</div>"
     },
     "metadata": {},
     "execution_count": 14
    }
   ],
   "source": [
    "netflix= pd.read_csv(pwd+\"/netflix_titles.csv\")\n",
    "netflix"
   ]
  },
  {
   "cell_type": "code",
   "execution_count": 34,
   "metadata": {},
   "outputs": [
    {
     "output_type": "execute_result",
     "data": {
      "text/plain": [
       "['show_id',\n",
       " 'type',\n",
       " 'title',\n",
       " 'director',\n",
       " 'cast',\n",
       " 'country',\n",
       " 'date_added',\n",
       " 'release_year',\n",
       " 'rating',\n",
       " 'duration',\n",
       " 'listed_in',\n",
       " 'description']"
      ]
     },
     "metadata": {},
     "execution_count": 34
    }
   ],
   "source": [
    "list(netflix.columns)"
   ]
  },
  {
   "cell_type": "code",
   "execution_count": 15,
   "metadata": {},
   "outputs": [
    {
     "output_type": "execute_result",
     "data": {
      "text/plain": [
       "       release_year\n",
       "count   7787.000000\n",
       "mean    2013.932580\n",
       "std        8.757395\n",
       "min     1925.000000\n",
       "25%     2013.000000\n",
       "50%     2017.000000\n",
       "75%     2018.000000\n",
       "max     2021.000000"
      ],
      "text/html": "<div>\n<style scoped>\n    .dataframe tbody tr th:only-of-type {\n        vertical-align: middle;\n    }\n\n    .dataframe tbody tr th {\n        vertical-align: top;\n    }\n\n    .dataframe thead th {\n        text-align: right;\n    }\n</style>\n<table border=\"1\" class=\"dataframe\">\n  <thead>\n    <tr style=\"text-align: right;\">\n      <th></th>\n      <th>release_year</th>\n    </tr>\n  </thead>\n  <tbody>\n    <tr>\n      <th>count</th>\n      <td>7787.000000</td>\n    </tr>\n    <tr>\n      <th>mean</th>\n      <td>2013.932580</td>\n    </tr>\n    <tr>\n      <th>std</th>\n      <td>8.757395</td>\n    </tr>\n    <tr>\n      <th>min</th>\n      <td>1925.000000</td>\n    </tr>\n    <tr>\n      <th>25%</th>\n      <td>2013.000000</td>\n    </tr>\n    <tr>\n      <th>50%</th>\n      <td>2017.000000</td>\n    </tr>\n    <tr>\n      <th>75%</th>\n      <td>2018.000000</td>\n    </tr>\n    <tr>\n      <th>max</th>\n      <td>2021.000000</td>\n    </tr>\n  </tbody>\n</table>\n</div>"
     },
     "metadata": {},
     "execution_count": 15
    }
   ],
   "source": [
    "netflix.describe()"
   ]
  },
  {
   "cell_type": "code",
   "execution_count": 42,
   "metadata": {},
   "outputs": [
    {
     "output_type": "execute_result",
     "data": {
      "text/plain": [
       "array(['TV Show', 'Movie'], dtype=object)"
      ]
     },
     "metadata": {},
     "execution_count": 42
    }
   ],
   "source": [
    "netflix[\"type\"].unique()"
   ]
  },
  {
   "cell_type": "code",
   "execution_count": 44,
   "metadata": {},
   "outputs": [
    {
     "output_type": "execute_result",
     "data": {
      "text/plain": [
       "     show_id   type                   title                   director  \\\n",
       "31       s32  Movie       #FriendButMarried              Rako Prijanto   \n",
       "32       s33  Movie     #FriendButMarried 2              Rako Prijanto   \n",
       "57       s58  Movie              100% Halal              Jastis Arimba   \n",
       "99      s100  Movie              3 Heroines             Iman Brotoseno   \n",
       "123     s124  Movie                     5CM            Rizal Mantovani   \n",
       "...      ...    ...                     ...                        ...   \n",
       "7147   s7148  Movie  Too Handsome to Handle  Sabrina Rochelle Kalangie   \n",
       "7407   s7408  Movie          Verses of Love           Hanung Bramantyo   \n",
       "7408   s7409  Movie        Verses of Love 2         Guntur Soeharjanto   \n",
       "7572   s7573  Movie    What's Up With Love?  Rudy Soedjarwo, Riri Riza   \n",
       "7591   s7592  Movie                 Whipped               Chandra Liow   \n",
       "\n",
       "                                                   cast    country  \\\n",
       "31    Adipati Dolken, Vanesha Prescilla, Rendi Jhon,...  Indonesia   \n",
       "32    Adipati Dolken, Mawar de Jongh, Sari Nila, Von...  Indonesia   \n",
       "57    Anisa Rahma, Ariyo Wahab, Anandito Dwis, Fitri...  Indonesia   \n",
       "99    Reza Rahadian, Bunga Citra Lestari, Tara Basro...  Indonesia   \n",
       "123   Herjunot Ali, Raline Shah, Fedi Nuril, Pevita ...  Indonesia   \n",
       "...                                                 ...        ...   \n",
       "7147  Ari Irham, Nikita Willy, Calvin Jeremy, Rachel...  Indonesia   \n",
       "7407  Fedi Nuril, Rianti Cartwright, Carissa Putri, ...  Indonesia   \n",
       "7408  Fedi Nuril, Tatjana Saphira, Dewi Sandra, Chel...  Indonesia   \n",
       "7572  Dian Sastrowardoyo, Nicholas Saputra, Ladya Ch...  Indonesia   \n",
       "7591  Andovi da Lopez, Jovial da Lopez, Chandra Liow...  Indonesia   \n",
       "\n",
       "              date_added  release_year rating duration  \\\n",
       "31          May 21, 2020          2018   TV-G  102 min   \n",
       "32         June 28, 2020          2020   TV-G  104 min   \n",
       "57       January 7, 2021          2020  TV-14  101 min   \n",
       "99       January 5, 2019          2016  TV-PG  124 min   \n",
       "123   September 28, 2018          2012  TV-14  126 min   \n",
       "...                  ...           ...    ...      ...   \n",
       "7147   December 31, 2020          2019  TV-14  106 min   \n",
       "7407      March 27, 2019          2008  TV-PG  126 min   \n",
       "7408    October 18, 2019          2017  TV-14  127 min   \n",
       "7572    December 8, 2018          2002      R  110 min   \n",
       "7591  September 18, 2020          2020  TV-14   98 min   \n",
       "\n",
       "                                              listed_in  \\\n",
       "31        Dramas, International Movies, Romantic Movies   \n",
       "32        Dramas, International Movies, Romantic Movies   \n",
       "57                         Dramas, International Movies   \n",
       "99          Dramas, International Movies, Sports Movies   \n",
       "123                        Dramas, International Movies   \n",
       "...                                                 ...   \n",
       "7147             Comedies, Dramas, International Movies   \n",
       "7407      Dramas, International Movies, Romantic Movies   \n",
       "7408  Dramas, Faith & Spirituality, International Mo...   \n",
       "7572      Dramas, International Movies, Romantic Movies   \n",
       "7591    Comedies, International Movies, Romantic Movies   \n",
       "\n",
       "                                            description  \n",
       "31    Pining for his high school crush for years, a ...  \n",
       "32    As Ayu and Ditto finally transition from best ...  \n",
       "57    After high school, a young woman marries the m...  \n",
       "99    Three Indonesian women break records by becomi...  \n",
       "123   Five friends embark on a mission to climb the ...  \n",
       "...                                                 ...  \n",
       "7147  Wary of the effects of his good looks on other...  \n",
       "7407  Polygamy, piety and personal principles collid...  \n",
       "7408  Now a lecturer in Edinburgh, Fahri tries to be...  \n",
       "7572  A popular high school girl strains her relatio...  \n",
       "7591  Four buddies attend a class taught by a love g...  \n",
       "\n",
       "[70 rows x 12 columns]"
      ],
      "text/html": "<div>\n<style scoped>\n    .dataframe tbody tr th:only-of-type {\n        vertical-align: middle;\n    }\n\n    .dataframe tbody tr th {\n        vertical-align: top;\n    }\n\n    .dataframe thead th {\n        text-align: right;\n    }\n</style>\n<table border=\"1\" class=\"dataframe\">\n  <thead>\n    <tr style=\"text-align: right;\">\n      <th></th>\n      <th>show_id</th>\n      <th>type</th>\n      <th>title</th>\n      <th>director</th>\n      <th>cast</th>\n      <th>country</th>\n      <th>date_added</th>\n      <th>release_year</th>\n      <th>rating</th>\n      <th>duration</th>\n      <th>listed_in</th>\n      <th>description</th>\n    </tr>\n  </thead>\n  <tbody>\n    <tr>\n      <th>31</th>\n      <td>s32</td>\n      <td>Movie</td>\n      <td>#FriendButMarried</td>\n      <td>Rako Prijanto</td>\n      <td>Adipati Dolken, Vanesha Prescilla, Rendi Jhon,...</td>\n      <td>Indonesia</td>\n      <td>May 21, 2020</td>\n      <td>2018</td>\n      <td>TV-G</td>\n      <td>102 min</td>\n      <td>Dramas, International Movies, Romantic Movies</td>\n      <td>Pining for his high school crush for years, a ...</td>\n    </tr>\n    <tr>\n      <th>32</th>\n      <td>s33</td>\n      <td>Movie</td>\n      <td>#FriendButMarried 2</td>\n      <td>Rako Prijanto</td>\n      <td>Adipati Dolken, Mawar de Jongh, Sari Nila, Von...</td>\n      <td>Indonesia</td>\n      <td>June 28, 2020</td>\n      <td>2020</td>\n      <td>TV-G</td>\n      <td>104 min</td>\n      <td>Dramas, International Movies, Romantic Movies</td>\n      <td>As Ayu and Ditto finally transition from best ...</td>\n    </tr>\n    <tr>\n      <th>57</th>\n      <td>s58</td>\n      <td>Movie</td>\n      <td>100% Halal</td>\n      <td>Jastis Arimba</td>\n      <td>Anisa Rahma, Ariyo Wahab, Anandito Dwis, Fitri...</td>\n      <td>Indonesia</td>\n      <td>January 7, 2021</td>\n      <td>2020</td>\n      <td>TV-14</td>\n      <td>101 min</td>\n      <td>Dramas, International Movies</td>\n      <td>After high school, a young woman marries the m...</td>\n    </tr>\n    <tr>\n      <th>99</th>\n      <td>s100</td>\n      <td>Movie</td>\n      <td>3 Heroines</td>\n      <td>Iman Brotoseno</td>\n      <td>Reza Rahadian, Bunga Citra Lestari, Tara Basro...</td>\n      <td>Indonesia</td>\n      <td>January 5, 2019</td>\n      <td>2016</td>\n      <td>TV-PG</td>\n      <td>124 min</td>\n      <td>Dramas, International Movies, Sports Movies</td>\n      <td>Three Indonesian women break records by becomi...</td>\n    </tr>\n    <tr>\n      <th>123</th>\n      <td>s124</td>\n      <td>Movie</td>\n      <td>5CM</td>\n      <td>Rizal Mantovani</td>\n      <td>Herjunot Ali, Raline Shah, Fedi Nuril, Pevita ...</td>\n      <td>Indonesia</td>\n      <td>September 28, 2018</td>\n      <td>2012</td>\n      <td>TV-14</td>\n      <td>126 min</td>\n      <td>Dramas, International Movies</td>\n      <td>Five friends embark on a mission to climb the ...</td>\n    </tr>\n    <tr>\n      <th>...</th>\n      <td>...</td>\n      <td>...</td>\n      <td>...</td>\n      <td>...</td>\n      <td>...</td>\n      <td>...</td>\n      <td>...</td>\n      <td>...</td>\n      <td>...</td>\n      <td>...</td>\n      <td>...</td>\n      <td>...</td>\n    </tr>\n    <tr>\n      <th>7147</th>\n      <td>s7148</td>\n      <td>Movie</td>\n      <td>Too Handsome to Handle</td>\n      <td>Sabrina Rochelle Kalangie</td>\n      <td>Ari Irham, Nikita Willy, Calvin Jeremy, Rachel...</td>\n      <td>Indonesia</td>\n      <td>December 31, 2020</td>\n      <td>2019</td>\n      <td>TV-14</td>\n      <td>106 min</td>\n      <td>Comedies, Dramas, International Movies</td>\n      <td>Wary of the effects of his good looks on other...</td>\n    </tr>\n    <tr>\n      <th>7407</th>\n      <td>s7408</td>\n      <td>Movie</td>\n      <td>Verses of Love</td>\n      <td>Hanung Bramantyo</td>\n      <td>Fedi Nuril, Rianti Cartwright, Carissa Putri, ...</td>\n      <td>Indonesia</td>\n      <td>March 27, 2019</td>\n      <td>2008</td>\n      <td>TV-PG</td>\n      <td>126 min</td>\n      <td>Dramas, International Movies, Romantic Movies</td>\n      <td>Polygamy, piety and personal principles collid...</td>\n    </tr>\n    <tr>\n      <th>7408</th>\n      <td>s7409</td>\n      <td>Movie</td>\n      <td>Verses of Love 2</td>\n      <td>Guntur Soeharjanto</td>\n      <td>Fedi Nuril, Tatjana Saphira, Dewi Sandra, Chel...</td>\n      <td>Indonesia</td>\n      <td>October 18, 2019</td>\n      <td>2017</td>\n      <td>TV-14</td>\n      <td>127 min</td>\n      <td>Dramas, Faith &amp; Spirituality, International Mo...</td>\n      <td>Now a lecturer in Edinburgh, Fahri tries to be...</td>\n    </tr>\n    <tr>\n      <th>7572</th>\n      <td>s7573</td>\n      <td>Movie</td>\n      <td>What's Up With Love?</td>\n      <td>Rudy Soedjarwo, Riri Riza</td>\n      <td>Dian Sastrowardoyo, Nicholas Saputra, Ladya Ch...</td>\n      <td>Indonesia</td>\n      <td>December 8, 2018</td>\n      <td>2002</td>\n      <td>R</td>\n      <td>110 min</td>\n      <td>Dramas, International Movies, Romantic Movies</td>\n      <td>A popular high school girl strains her relatio...</td>\n    </tr>\n    <tr>\n      <th>7591</th>\n      <td>s7592</td>\n      <td>Movie</td>\n      <td>Whipped</td>\n      <td>Chandra Liow</td>\n      <td>Andovi da Lopez, Jovial da Lopez, Chandra Liow...</td>\n      <td>Indonesia</td>\n      <td>September 18, 2020</td>\n      <td>2020</td>\n      <td>TV-14</td>\n      <td>98 min</td>\n      <td>Comedies, International Movies, Romantic Movies</td>\n      <td>Four buddies attend a class taught by a love g...</td>\n    </tr>\n  </tbody>\n</table>\n<p>70 rows × 12 columns</p>\n</div>"
     },
     "metadata": {},
     "execution_count": 44
    }
   ],
   "source": [
    "netflix[netflix[\"country\"]==\"Indonesia\"]"
   ]
  },
  {
   "cell_type": "code",
   "execution_count": 46,
   "metadata": {},
   "outputs": [
    {
     "output_type": "execute_result",
     "data": {
      "text/plain": [
       "     show_id     type                                    title  \\\n",
       "0         s1  TV Show                                       3%   \n",
       "1         s2    Movie                                     7:19   \n",
       "2         s3    Movie                                    23:59   \n",
       "5         s6  TV Show                                       46   \n",
       "6         s7    Movie                                      122   \n",
       "...      ...      ...                                      ...   \n",
       "7779   s7780  TV Show                                Zona Rosa   \n",
       "7780   s7781    Movie                                      Zoo   \n",
       "7782   s7783    Movie                                     Zozo   \n",
       "7784   s7785    Movie                        Zulu Man in Japan   \n",
       "7786   s7787    Movie  ZZ TOP: THAT LITTLE OL' BAND FROM TEXAS   \n",
       "\n",
       "               director                                               cast  \\\n",
       "0                   NaN  João Miguel, Bianca Comparato, Michel Gomes, R...   \n",
       "1     Jorge Michel Grau  Demián Bichir, Héctor Bonilla, Oscar Serrano, ...   \n",
       "2          Gilbert Chan  Tedd Chan, Stella Chung, Henley Hii, Lawrence ...   \n",
       "5           Serdar Akar  Erdal Beşikçioğlu, Yasemin Allen, Melis Birkan...   \n",
       "6       Yasir Al Yasiri  Amina Khalil, Ahmed Dawood, Tarek Lotfy, Ahmed...   \n",
       "...                 ...                                                ...   \n",
       "7779                NaN  Manu NNa, Ana Julia Yeyé, Ray Contreras, Pablo...   \n",
       "7780       Shlok Sharma  Shashank Arora, Shweta Tripathi, Rahul Kumar, ...   \n",
       "7782        Josef Fares  Imad Creidi, Antoinette Turk, Elias Gergi, Car...   \n",
       "7784                NaN                                            Nasty C   \n",
       "7786           Sam Dunn                                                NaN   \n",
       "\n",
       "                                                country          date_added  \\\n",
       "0                                                Brazil     August 14, 2020   \n",
       "1                                                Mexico   December 23, 2016   \n",
       "2                                             Singapore   December 20, 2018   \n",
       "5                                                Turkey        July 1, 2017   \n",
       "6                                                 Egypt        June 1, 2020   \n",
       "...                                                 ...                 ...   \n",
       "7779                                             Mexico   November 26, 2019   \n",
       "7780                                              India        July 1, 2018   \n",
       "7782  Sweden, Czech Republic, United Kingdom, Denmar...    October 19, 2020   \n",
       "7784                                                NaN  September 25, 2020   \n",
       "7786              United Kingdom, Canada, United States       March 1, 2020   \n",
       "\n",
       "      release_year rating   duration  \\\n",
       "0             2020  TV-MA  4 Seasons   \n",
       "1             2016  TV-MA     93 min   \n",
       "2             2011      R     78 min   \n",
       "5             2016  TV-MA   1 Season   \n",
       "6             2019  TV-MA     95 min   \n",
       "...            ...    ...        ...   \n",
       "7779          2019  TV-MA   1 Season   \n",
       "7780          2018  TV-MA     94 min   \n",
       "7782          2005  TV-MA     99 min   \n",
       "7784          2019  TV-MA     44 min   \n",
       "7786          2019  TV-MA     90 min   \n",
       "\n",
       "                                              listed_in  \\\n",
       "0     International TV Shows, TV Dramas, TV Sci-Fi &...   \n",
       "1                          Dramas, International Movies   \n",
       "2                   Horror Movies, International Movies   \n",
       "5       International TV Shows, TV Dramas, TV Mysteries   \n",
       "6                   Horror Movies, International Movies   \n",
       "...                                                 ...   \n",
       "7779  International TV Shows, Spanish-Language TV Sh...   \n",
       "7780   Dramas, Independent Movies, International Movies   \n",
       "7782                       Dramas, International Movies   \n",
       "7784  Documentaries, International Movies, Music & M...   \n",
       "7786                    Documentaries, Music & Musicals   \n",
       "\n",
       "                                            description  \n",
       "0     In a future where the elite inhabit an island ...  \n",
       "1     After a devastating earthquake hits Mexico Cit...  \n",
       "2     When an army recruit is found dead, his fellow...  \n",
       "5     A genetics professor experiments with a treatm...  \n",
       "6     After an awful accident, a couple admitted to ...  \n",
       "...                                                 ...  \n",
       "7779  An assortment of talent takes the stage for a ...  \n",
       "7780  A drug dealer starts having doubts about his t...  \n",
       "7782  When Lebanon's Civil War deprives Zozo of his ...  \n",
       "7784  In this documentary, South African rapper Nast...  \n",
       "7786  This documentary delves into the mystique behi...  \n",
       "\n",
       "[2881 rows x 12 columns]"
      ],
      "text/html": "<div>\n<style scoped>\n    .dataframe tbody tr th:only-of-type {\n        vertical-align: middle;\n    }\n\n    .dataframe tbody tr th {\n        vertical-align: top;\n    }\n\n    .dataframe thead th {\n        text-align: right;\n    }\n</style>\n<table border=\"1\" class=\"dataframe\">\n  <thead>\n    <tr style=\"text-align: right;\">\n      <th></th>\n      <th>show_id</th>\n      <th>type</th>\n      <th>title</th>\n      <th>director</th>\n      <th>cast</th>\n      <th>country</th>\n      <th>date_added</th>\n      <th>release_year</th>\n      <th>rating</th>\n      <th>duration</th>\n      <th>listed_in</th>\n      <th>description</th>\n    </tr>\n  </thead>\n  <tbody>\n    <tr>\n      <th>0</th>\n      <td>s1</td>\n      <td>TV Show</td>\n      <td>3%</td>\n      <td>NaN</td>\n      <td>João Miguel, Bianca Comparato, Michel Gomes, R...</td>\n      <td>Brazil</td>\n      <td>August 14, 2020</td>\n      <td>2020</td>\n      <td>TV-MA</td>\n      <td>4 Seasons</td>\n      <td>International TV Shows, TV Dramas, TV Sci-Fi &amp;...</td>\n      <td>In a future where the elite inhabit an island ...</td>\n    </tr>\n    <tr>\n      <th>1</th>\n      <td>s2</td>\n      <td>Movie</td>\n      <td>7:19</td>\n      <td>Jorge Michel Grau</td>\n      <td>Demián Bichir, Héctor Bonilla, Oscar Serrano, ...</td>\n      <td>Mexico</td>\n      <td>December 23, 2016</td>\n      <td>2016</td>\n      <td>TV-MA</td>\n      <td>93 min</td>\n      <td>Dramas, International Movies</td>\n      <td>After a devastating earthquake hits Mexico Cit...</td>\n    </tr>\n    <tr>\n      <th>2</th>\n      <td>s3</td>\n      <td>Movie</td>\n      <td>23:59</td>\n      <td>Gilbert Chan</td>\n      <td>Tedd Chan, Stella Chung, Henley Hii, Lawrence ...</td>\n      <td>Singapore</td>\n      <td>December 20, 2018</td>\n      <td>2011</td>\n      <td>R</td>\n      <td>78 min</td>\n      <td>Horror Movies, International Movies</td>\n      <td>When an army recruit is found dead, his fellow...</td>\n    </tr>\n    <tr>\n      <th>5</th>\n      <td>s6</td>\n      <td>TV Show</td>\n      <td>46</td>\n      <td>Serdar Akar</td>\n      <td>Erdal Beşikçioğlu, Yasemin Allen, Melis Birkan...</td>\n      <td>Turkey</td>\n      <td>July 1, 2017</td>\n      <td>2016</td>\n      <td>TV-MA</td>\n      <td>1 Season</td>\n      <td>International TV Shows, TV Dramas, TV Mysteries</td>\n      <td>A genetics professor experiments with a treatm...</td>\n    </tr>\n    <tr>\n      <th>6</th>\n      <td>s7</td>\n      <td>Movie</td>\n      <td>122</td>\n      <td>Yasir Al Yasiri</td>\n      <td>Amina Khalil, Ahmed Dawood, Tarek Lotfy, Ahmed...</td>\n      <td>Egypt</td>\n      <td>June 1, 2020</td>\n      <td>2019</td>\n      <td>TV-MA</td>\n      <td>95 min</td>\n      <td>Horror Movies, International Movies</td>\n      <td>After an awful accident, a couple admitted to ...</td>\n    </tr>\n    <tr>\n      <th>...</th>\n      <td>...</td>\n      <td>...</td>\n      <td>...</td>\n      <td>...</td>\n      <td>...</td>\n      <td>...</td>\n      <td>...</td>\n      <td>...</td>\n      <td>...</td>\n      <td>...</td>\n      <td>...</td>\n      <td>...</td>\n    </tr>\n    <tr>\n      <th>7779</th>\n      <td>s7780</td>\n      <td>TV Show</td>\n      <td>Zona Rosa</td>\n      <td>NaN</td>\n      <td>Manu NNa, Ana Julia Yeyé, Ray Contreras, Pablo...</td>\n      <td>Mexico</td>\n      <td>November 26, 2019</td>\n      <td>2019</td>\n      <td>TV-MA</td>\n      <td>1 Season</td>\n      <td>International TV Shows, Spanish-Language TV Sh...</td>\n      <td>An assortment of talent takes the stage for a ...</td>\n    </tr>\n    <tr>\n      <th>7780</th>\n      <td>s7781</td>\n      <td>Movie</td>\n      <td>Zoo</td>\n      <td>Shlok Sharma</td>\n      <td>Shashank Arora, Shweta Tripathi, Rahul Kumar, ...</td>\n      <td>India</td>\n      <td>July 1, 2018</td>\n      <td>2018</td>\n      <td>TV-MA</td>\n      <td>94 min</td>\n      <td>Dramas, Independent Movies, International Movies</td>\n      <td>A drug dealer starts having doubts about his t...</td>\n    </tr>\n    <tr>\n      <th>7782</th>\n      <td>s7783</td>\n      <td>Movie</td>\n      <td>Zozo</td>\n      <td>Josef Fares</td>\n      <td>Imad Creidi, Antoinette Turk, Elias Gergi, Car...</td>\n      <td>Sweden, Czech Republic, United Kingdom, Denmar...</td>\n      <td>October 19, 2020</td>\n      <td>2005</td>\n      <td>TV-MA</td>\n      <td>99 min</td>\n      <td>Dramas, International Movies</td>\n      <td>When Lebanon's Civil War deprives Zozo of his ...</td>\n    </tr>\n    <tr>\n      <th>7784</th>\n      <td>s7785</td>\n      <td>Movie</td>\n      <td>Zulu Man in Japan</td>\n      <td>NaN</td>\n      <td>Nasty C</td>\n      <td>NaN</td>\n      <td>September 25, 2020</td>\n      <td>2019</td>\n      <td>TV-MA</td>\n      <td>44 min</td>\n      <td>Documentaries, International Movies, Music &amp; M...</td>\n      <td>In this documentary, South African rapper Nast...</td>\n    </tr>\n    <tr>\n      <th>7786</th>\n      <td>s7787</td>\n      <td>Movie</td>\n      <td>ZZ TOP: THAT LITTLE OL' BAND FROM TEXAS</td>\n      <td>Sam Dunn</td>\n      <td>NaN</td>\n      <td>United Kingdom, Canada, United States</td>\n      <td>March 1, 2020</td>\n      <td>2019</td>\n      <td>TV-MA</td>\n      <td>90 min</td>\n      <td>Documentaries, Music &amp; Musicals</td>\n      <td>This documentary delves into the mystique behi...</td>\n    </tr>\n  </tbody>\n</table>\n<p>2881 rows × 12 columns</p>\n</div>"
     },
     "metadata": {},
     "execution_count": 46
    }
   ],
   "source": [
    "netflix[(netflix[\"country\"]==\"Singapore\")| (netflix[\"rating\"]==\"TV-MA\")]"
   ]
  },
  {
   "cell_type": "code",
   "execution_count": 22,
   "metadata": {},
   "outputs": [
    {
     "output_type": "execute_result",
     "data": {
      "text/plain": [
       "0      2020-08-14\n",
       "1      2016-12-23\n",
       "2      2018-12-20\n",
       "3      2017-11-16\n",
       "4      2020-01-01\n",
       "          ...    \n",
       "7782   2020-10-19\n",
       "7783   2019-03-02\n",
       "7784   2020-09-25\n",
       "7785   2020-10-31\n",
       "7786   2020-03-01\n",
       "Name: date_added, Length: 7787, dtype: datetime64[ns]"
      ]
     },
     "metadata": {},
     "execution_count": 22
    }
   ],
   "source": [
    "computer_date=pd.to_datetime(netflix[\"date_added\"])\n",
    "computer_date"
   ]
  },
  {
   "cell_type": "code",
   "execution_count": 23,
   "metadata": {},
   "outputs": [
    {
     "output_type": "execute_result",
     "data": {
      "text/plain": [
       "     show_id     type                                    title  \\\n",
       "0         s1  TV Show                                       3%   \n",
       "1         s2    Movie                                     7:19   \n",
       "2         s3    Movie                                    23:59   \n",
       "3         s4    Movie                                        9   \n",
       "4         s5    Movie                                       21   \n",
       "...      ...      ...                                      ...   \n",
       "7782   s7783    Movie                                     Zozo   \n",
       "7783   s7784    Movie                                   Zubaan   \n",
       "7784   s7785    Movie                        Zulu Man in Japan   \n",
       "7785   s7786  TV Show                    Zumbo's Just Desserts   \n",
       "7786   s7787    Movie  ZZ TOP: THAT LITTLE OL' BAND FROM TEXAS   \n",
       "\n",
       "               director                                               cast  \\\n",
       "0                   NaN  João Miguel, Bianca Comparato, Michel Gomes, R...   \n",
       "1     Jorge Michel Grau  Demián Bichir, Héctor Bonilla, Oscar Serrano, ...   \n",
       "2          Gilbert Chan  Tedd Chan, Stella Chung, Henley Hii, Lawrence ...   \n",
       "3           Shane Acker  Elijah Wood, John C. Reilly, Jennifer Connelly...   \n",
       "4        Robert Luketic  Jim Sturgess, Kevin Spacey, Kate Bosworth, Aar...   \n",
       "...                 ...                                                ...   \n",
       "7782        Josef Fares  Imad Creidi, Antoinette Turk, Elias Gergi, Car...   \n",
       "7783        Mozez Singh  Vicky Kaushal, Sarah-Jane Dias, Raaghav Chanan...   \n",
       "7784                NaN                                            Nasty C   \n",
       "7785                NaN                         Adriano Zumbo, Rachel Khoo   \n",
       "7786           Sam Dunn                                                NaN   \n",
       "\n",
       "                                                country          date_added  \\\n",
       "0                                                Brazil     August 14, 2020   \n",
       "1                                                Mexico   December 23, 2016   \n",
       "2                                             Singapore   December 20, 2018   \n",
       "3                                         United States   November 16, 2017   \n",
       "4                                         United States     January 1, 2020   \n",
       "...                                                 ...                 ...   \n",
       "7782  Sweden, Czech Republic, United Kingdom, Denmar...    October 19, 2020   \n",
       "7783                                              India       March 2, 2019   \n",
       "7784                                                NaN  September 25, 2020   \n",
       "7785                                          Australia    October 31, 2020   \n",
       "7786              United Kingdom, Canada, United States       March 1, 2020   \n",
       "\n",
       "      release_year rating   duration  \\\n",
       "0             2020  TV-MA  4 Seasons   \n",
       "1             2016  TV-MA     93 min   \n",
       "2             2011      R     78 min   \n",
       "3             2009  PG-13     80 min   \n",
       "4             2008  PG-13    123 min   \n",
       "...            ...    ...        ...   \n",
       "7782          2005  TV-MA     99 min   \n",
       "7783          2015  TV-14    111 min   \n",
       "7784          2019  TV-MA     44 min   \n",
       "7785          2019  TV-PG   1 Season   \n",
       "7786          2019  TV-MA     90 min   \n",
       "\n",
       "                                              listed_in  \\\n",
       "0     International TV Shows, TV Dramas, TV Sci-Fi &...   \n",
       "1                          Dramas, International Movies   \n",
       "2                   Horror Movies, International Movies   \n",
       "3     Action & Adventure, Independent Movies, Sci-Fi...   \n",
       "4                                                Dramas   \n",
       "...                                                 ...   \n",
       "7782                       Dramas, International Movies   \n",
       "7783     Dramas, International Movies, Music & Musicals   \n",
       "7784  Documentaries, International Movies, Music & M...   \n",
       "7785                 International TV Shows, Reality TV   \n",
       "7786                    Documentaries, Music & Musicals   \n",
       "\n",
       "                                            description computer_date  \n",
       "0     In a future where the elite inhabit an island ...    2020-08-14  \n",
       "1     After a devastating earthquake hits Mexico Cit...    2016-12-23  \n",
       "2     When an army recruit is found dead, his fellow...    2018-12-20  \n",
       "3     In a postapocalyptic world, rag-doll robots hi...    2017-11-16  \n",
       "4     A brilliant group of students become card-coun...    2020-01-01  \n",
       "...                                                 ...           ...  \n",
       "7782  When Lebanon's Civil War deprives Zozo of his ...    2020-10-19  \n",
       "7783  A scrappy but poor boy worms his way into a ty...    2019-03-02  \n",
       "7784  In this documentary, South African rapper Nast...    2020-09-25  \n",
       "7785  Dessert wizard Adriano Zumbo looks for the nex...    2020-10-31  \n",
       "7786  This documentary delves into the mystique behi...    2020-03-01  \n",
       "\n",
       "[7787 rows x 13 columns]"
      ],
      "text/html": "<div>\n<style scoped>\n    .dataframe tbody tr th:only-of-type {\n        vertical-align: middle;\n    }\n\n    .dataframe tbody tr th {\n        vertical-align: top;\n    }\n\n    .dataframe thead th {\n        text-align: right;\n    }\n</style>\n<table border=\"1\" class=\"dataframe\">\n  <thead>\n    <tr style=\"text-align: right;\">\n      <th></th>\n      <th>show_id</th>\n      <th>type</th>\n      <th>title</th>\n      <th>director</th>\n      <th>cast</th>\n      <th>country</th>\n      <th>date_added</th>\n      <th>release_year</th>\n      <th>rating</th>\n      <th>duration</th>\n      <th>listed_in</th>\n      <th>description</th>\n      <th>computer_date</th>\n    </tr>\n  </thead>\n  <tbody>\n    <tr>\n      <th>0</th>\n      <td>s1</td>\n      <td>TV Show</td>\n      <td>3%</td>\n      <td>NaN</td>\n      <td>João Miguel, Bianca Comparato, Michel Gomes, R...</td>\n      <td>Brazil</td>\n      <td>August 14, 2020</td>\n      <td>2020</td>\n      <td>TV-MA</td>\n      <td>4 Seasons</td>\n      <td>International TV Shows, TV Dramas, TV Sci-Fi &amp;...</td>\n      <td>In a future where the elite inhabit an island ...</td>\n      <td>2020-08-14</td>\n    </tr>\n    <tr>\n      <th>1</th>\n      <td>s2</td>\n      <td>Movie</td>\n      <td>7:19</td>\n      <td>Jorge Michel Grau</td>\n      <td>Demián Bichir, Héctor Bonilla, Oscar Serrano, ...</td>\n      <td>Mexico</td>\n      <td>December 23, 2016</td>\n      <td>2016</td>\n      <td>TV-MA</td>\n      <td>93 min</td>\n      <td>Dramas, International Movies</td>\n      <td>After a devastating earthquake hits Mexico Cit...</td>\n      <td>2016-12-23</td>\n    </tr>\n    <tr>\n      <th>2</th>\n      <td>s3</td>\n      <td>Movie</td>\n      <td>23:59</td>\n      <td>Gilbert Chan</td>\n      <td>Tedd Chan, Stella Chung, Henley Hii, Lawrence ...</td>\n      <td>Singapore</td>\n      <td>December 20, 2018</td>\n      <td>2011</td>\n      <td>R</td>\n      <td>78 min</td>\n      <td>Horror Movies, International Movies</td>\n      <td>When an army recruit is found dead, his fellow...</td>\n      <td>2018-12-20</td>\n    </tr>\n    <tr>\n      <th>3</th>\n      <td>s4</td>\n      <td>Movie</td>\n      <td>9</td>\n      <td>Shane Acker</td>\n      <td>Elijah Wood, John C. Reilly, Jennifer Connelly...</td>\n      <td>United States</td>\n      <td>November 16, 2017</td>\n      <td>2009</td>\n      <td>PG-13</td>\n      <td>80 min</td>\n      <td>Action &amp; Adventure, Independent Movies, Sci-Fi...</td>\n      <td>In a postapocalyptic world, rag-doll robots hi...</td>\n      <td>2017-11-16</td>\n    </tr>\n    <tr>\n      <th>4</th>\n      <td>s5</td>\n      <td>Movie</td>\n      <td>21</td>\n      <td>Robert Luketic</td>\n      <td>Jim Sturgess, Kevin Spacey, Kate Bosworth, Aar...</td>\n      <td>United States</td>\n      <td>January 1, 2020</td>\n      <td>2008</td>\n      <td>PG-13</td>\n      <td>123 min</td>\n      <td>Dramas</td>\n      <td>A brilliant group of students become card-coun...</td>\n      <td>2020-01-01</td>\n    </tr>\n    <tr>\n      <th>...</th>\n      <td>...</td>\n      <td>...</td>\n      <td>...</td>\n      <td>...</td>\n      <td>...</td>\n      <td>...</td>\n      <td>...</td>\n      <td>...</td>\n      <td>...</td>\n      <td>...</td>\n      <td>...</td>\n      <td>...</td>\n      <td>...</td>\n    </tr>\n    <tr>\n      <th>7782</th>\n      <td>s7783</td>\n      <td>Movie</td>\n      <td>Zozo</td>\n      <td>Josef Fares</td>\n      <td>Imad Creidi, Antoinette Turk, Elias Gergi, Car...</td>\n      <td>Sweden, Czech Republic, United Kingdom, Denmar...</td>\n      <td>October 19, 2020</td>\n      <td>2005</td>\n      <td>TV-MA</td>\n      <td>99 min</td>\n      <td>Dramas, International Movies</td>\n      <td>When Lebanon's Civil War deprives Zozo of his ...</td>\n      <td>2020-10-19</td>\n    </tr>\n    <tr>\n      <th>7783</th>\n      <td>s7784</td>\n      <td>Movie</td>\n      <td>Zubaan</td>\n      <td>Mozez Singh</td>\n      <td>Vicky Kaushal, Sarah-Jane Dias, Raaghav Chanan...</td>\n      <td>India</td>\n      <td>March 2, 2019</td>\n      <td>2015</td>\n      <td>TV-14</td>\n      <td>111 min</td>\n      <td>Dramas, International Movies, Music &amp; Musicals</td>\n      <td>A scrappy but poor boy worms his way into a ty...</td>\n      <td>2019-03-02</td>\n    </tr>\n    <tr>\n      <th>7784</th>\n      <td>s7785</td>\n      <td>Movie</td>\n      <td>Zulu Man in Japan</td>\n      <td>NaN</td>\n      <td>Nasty C</td>\n      <td>NaN</td>\n      <td>September 25, 2020</td>\n      <td>2019</td>\n      <td>TV-MA</td>\n      <td>44 min</td>\n      <td>Documentaries, International Movies, Music &amp; M...</td>\n      <td>In this documentary, South African rapper Nast...</td>\n      <td>2020-09-25</td>\n    </tr>\n    <tr>\n      <th>7785</th>\n      <td>s7786</td>\n      <td>TV Show</td>\n      <td>Zumbo's Just Desserts</td>\n      <td>NaN</td>\n      <td>Adriano Zumbo, Rachel Khoo</td>\n      <td>Australia</td>\n      <td>October 31, 2020</td>\n      <td>2019</td>\n      <td>TV-PG</td>\n      <td>1 Season</td>\n      <td>International TV Shows, Reality TV</td>\n      <td>Dessert wizard Adriano Zumbo looks for the nex...</td>\n      <td>2020-10-31</td>\n    </tr>\n    <tr>\n      <th>7786</th>\n      <td>s7787</td>\n      <td>Movie</td>\n      <td>ZZ TOP: THAT LITTLE OL' BAND FROM TEXAS</td>\n      <td>Sam Dunn</td>\n      <td>NaN</td>\n      <td>United Kingdom, Canada, United States</td>\n      <td>March 1, 2020</td>\n      <td>2019</td>\n      <td>TV-MA</td>\n      <td>90 min</td>\n      <td>Documentaries, Music &amp; Musicals</td>\n      <td>This documentary delves into the mystique behi...</td>\n      <td>2020-03-01</td>\n    </tr>\n  </tbody>\n</table>\n<p>7787 rows × 13 columns</p>\n</div>"
     },
     "metadata": {},
     "execution_count": 23
    }
   ],
   "source": [
    "netflix[\"computer_date\"]=pd.to_datetime(netflix[\"date_added\"])\n",
    "netflix"
   ]
  },
  {
   "cell_type": "code",
   "execution_count": 24,
   "metadata": {},
   "outputs": [
    {
     "output_type": "execute_result",
     "data": {
      "text/plain": [
       "0      2020-08-14\n",
       "1      2016-12-23\n",
       "2      2018-12-20\n",
       "3      2017-11-16\n",
       "4      2020-01-01\n",
       "          ...    \n",
       "7782   2020-10-19\n",
       "7783   2019-03-02\n",
       "7784   2020-09-25\n",
       "7785   2020-10-31\n",
       "7786   2020-03-01\n",
       "Name: computer_date, Length: 7777, dtype: datetime64[ns]"
      ]
     },
     "metadata": {},
     "execution_count": 24
    }
   ],
   "source": [
    "netflix[\"computer_date\"].dropna()"
   ]
  },
  {
   "cell_type": "code",
   "execution_count": 25,
   "metadata": {},
   "outputs": [],
   "source": [
    "from datetime import datetime as dt"
   ]
  },
  {
   "cell_type": "code",
   "execution_count": 26,
   "metadata": {},
   "outputs": [],
   "source": [
    "netflix[\"computer_date\"].fillna(dt(2020,1,1), inplace=True)"
   ]
  },
  {
   "cell_type": "code",
   "execution_count": 27,
   "metadata": {},
   "outputs": [
    {
     "output_type": "execute_result",
     "data": {
      "text/plain": [
       "     show_id     type                                    title  \\\n",
       "0         s1  TV Show                                       3%   \n",
       "1         s2    Movie                                     7:19   \n",
       "2         s3    Movie                                    23:59   \n",
       "3         s4    Movie                                        9   \n",
       "4         s5    Movie                                       21   \n",
       "...      ...      ...                                      ...   \n",
       "7782   s7783    Movie                                     Zozo   \n",
       "7783   s7784    Movie                                   Zubaan   \n",
       "7784   s7785    Movie                        Zulu Man in Japan   \n",
       "7785   s7786  TV Show                    Zumbo's Just Desserts   \n",
       "7786   s7787    Movie  ZZ TOP: THAT LITTLE OL' BAND FROM TEXAS   \n",
       "\n",
       "               director                                               cast  \\\n",
       "0                   NaN  João Miguel, Bianca Comparato, Michel Gomes, R...   \n",
       "1     Jorge Michel Grau  Demián Bichir, Héctor Bonilla, Oscar Serrano, ...   \n",
       "2          Gilbert Chan  Tedd Chan, Stella Chung, Henley Hii, Lawrence ...   \n",
       "3           Shane Acker  Elijah Wood, John C. Reilly, Jennifer Connelly...   \n",
       "4        Robert Luketic  Jim Sturgess, Kevin Spacey, Kate Bosworth, Aar...   \n",
       "...                 ...                                                ...   \n",
       "7782        Josef Fares  Imad Creidi, Antoinette Turk, Elias Gergi, Car...   \n",
       "7783        Mozez Singh  Vicky Kaushal, Sarah-Jane Dias, Raaghav Chanan...   \n",
       "7784                NaN                                            Nasty C   \n",
       "7785                NaN                         Adriano Zumbo, Rachel Khoo   \n",
       "7786           Sam Dunn                                                NaN   \n",
       "\n",
       "                                                country          date_added  \\\n",
       "0                                                Brazil     August 14, 2020   \n",
       "1                                                Mexico   December 23, 2016   \n",
       "2                                             Singapore   December 20, 2018   \n",
       "3                                         United States   November 16, 2017   \n",
       "4                                         United States     January 1, 2020   \n",
       "...                                                 ...                 ...   \n",
       "7782  Sweden, Czech Republic, United Kingdom, Denmar...    October 19, 2020   \n",
       "7783                                              India       March 2, 2019   \n",
       "7784                                                NaN  September 25, 2020   \n",
       "7785                                          Australia    October 31, 2020   \n",
       "7786              United Kingdom, Canada, United States       March 1, 2020   \n",
       "\n",
       "      release_year rating   duration  \\\n",
       "0             2020  TV-MA  4 Seasons   \n",
       "1             2016  TV-MA     93 min   \n",
       "2             2011      R     78 min   \n",
       "3             2009  PG-13     80 min   \n",
       "4             2008  PG-13    123 min   \n",
       "...            ...    ...        ...   \n",
       "7782          2005  TV-MA     99 min   \n",
       "7783          2015  TV-14    111 min   \n",
       "7784          2019  TV-MA     44 min   \n",
       "7785          2019  TV-PG   1 Season   \n",
       "7786          2019  TV-MA     90 min   \n",
       "\n",
       "                                              listed_in  \\\n",
       "0     International TV Shows, TV Dramas, TV Sci-Fi &...   \n",
       "1                          Dramas, International Movies   \n",
       "2                   Horror Movies, International Movies   \n",
       "3     Action & Adventure, Independent Movies, Sci-Fi...   \n",
       "4                                                Dramas   \n",
       "...                                                 ...   \n",
       "7782                       Dramas, International Movies   \n",
       "7783     Dramas, International Movies, Music & Musicals   \n",
       "7784  Documentaries, International Movies, Music & M...   \n",
       "7785                 International TV Shows, Reality TV   \n",
       "7786                    Documentaries, Music & Musicals   \n",
       "\n",
       "                                            description computer_date  \\\n",
       "0     In a future where the elite inhabit an island ...    2020-08-14   \n",
       "1     After a devastating earthquake hits Mexico Cit...    2016-12-23   \n",
       "2     When an army recruit is found dead, his fellow...    2018-12-20   \n",
       "3     In a postapocalyptic world, rag-doll robots hi...    2017-11-16   \n",
       "4     A brilliant group of students become card-coun...    2020-01-01   \n",
       "...                                                 ...           ...   \n",
       "7782  When Lebanon's Civil War deprives Zozo of his ...    2020-10-19   \n",
       "7783  A scrappy but poor boy worms his way into a ty...    2019-03-02   \n",
       "7784  In this documentary, South African rapper Nast...    2020-09-25   \n",
       "7785  Dessert wizard Adriano Zumbo looks for the nex...    2020-10-31   \n",
       "7786  This documentary delves into the mystique behi...    2020-03-01   \n",
       "\n",
       "      unix_time  \n",
       "0    2020-08-14  \n",
       "1    2016-12-23  \n",
       "2    2018-12-20  \n",
       "3    2017-11-16  \n",
       "4    2020-01-01  \n",
       "...         ...  \n",
       "7782 2020-10-19  \n",
       "7783 2019-03-02  \n",
       "7784 2020-09-25  \n",
       "7785 2020-10-31  \n",
       "7786 2020-03-01  \n",
       "\n",
       "[7787 rows x 14 columns]"
      ],
      "text/html": "<div>\n<style scoped>\n    .dataframe tbody tr th:only-of-type {\n        vertical-align: middle;\n    }\n\n    .dataframe tbody tr th {\n        vertical-align: top;\n    }\n\n    .dataframe thead th {\n        text-align: right;\n    }\n</style>\n<table border=\"1\" class=\"dataframe\">\n  <thead>\n    <tr style=\"text-align: right;\">\n      <th></th>\n      <th>show_id</th>\n      <th>type</th>\n      <th>title</th>\n      <th>director</th>\n      <th>cast</th>\n      <th>country</th>\n      <th>date_added</th>\n      <th>release_year</th>\n      <th>rating</th>\n      <th>duration</th>\n      <th>listed_in</th>\n      <th>description</th>\n      <th>computer_date</th>\n      <th>unix_time</th>\n    </tr>\n  </thead>\n  <tbody>\n    <tr>\n      <th>0</th>\n      <td>s1</td>\n      <td>TV Show</td>\n      <td>3%</td>\n      <td>NaN</td>\n      <td>João Miguel, Bianca Comparato, Michel Gomes, R...</td>\n      <td>Brazil</td>\n      <td>August 14, 2020</td>\n      <td>2020</td>\n      <td>TV-MA</td>\n      <td>4 Seasons</td>\n      <td>International TV Shows, TV Dramas, TV Sci-Fi &amp;...</td>\n      <td>In a future where the elite inhabit an island ...</td>\n      <td>2020-08-14</td>\n      <td>2020-08-14</td>\n    </tr>\n    <tr>\n      <th>1</th>\n      <td>s2</td>\n      <td>Movie</td>\n      <td>7:19</td>\n      <td>Jorge Michel Grau</td>\n      <td>Demián Bichir, Héctor Bonilla, Oscar Serrano, ...</td>\n      <td>Mexico</td>\n      <td>December 23, 2016</td>\n      <td>2016</td>\n      <td>TV-MA</td>\n      <td>93 min</td>\n      <td>Dramas, International Movies</td>\n      <td>After a devastating earthquake hits Mexico Cit...</td>\n      <td>2016-12-23</td>\n      <td>2016-12-23</td>\n    </tr>\n    <tr>\n      <th>2</th>\n      <td>s3</td>\n      <td>Movie</td>\n      <td>23:59</td>\n      <td>Gilbert Chan</td>\n      <td>Tedd Chan, Stella Chung, Henley Hii, Lawrence ...</td>\n      <td>Singapore</td>\n      <td>December 20, 2018</td>\n      <td>2011</td>\n      <td>R</td>\n      <td>78 min</td>\n      <td>Horror Movies, International Movies</td>\n      <td>When an army recruit is found dead, his fellow...</td>\n      <td>2018-12-20</td>\n      <td>2018-12-20</td>\n    </tr>\n    <tr>\n      <th>3</th>\n      <td>s4</td>\n      <td>Movie</td>\n      <td>9</td>\n      <td>Shane Acker</td>\n      <td>Elijah Wood, John C. Reilly, Jennifer Connelly...</td>\n      <td>United States</td>\n      <td>November 16, 2017</td>\n      <td>2009</td>\n      <td>PG-13</td>\n      <td>80 min</td>\n      <td>Action &amp; Adventure, Independent Movies, Sci-Fi...</td>\n      <td>In a postapocalyptic world, rag-doll robots hi...</td>\n      <td>2017-11-16</td>\n      <td>2017-11-16</td>\n    </tr>\n    <tr>\n      <th>4</th>\n      <td>s5</td>\n      <td>Movie</td>\n      <td>21</td>\n      <td>Robert Luketic</td>\n      <td>Jim Sturgess, Kevin Spacey, Kate Bosworth, Aar...</td>\n      <td>United States</td>\n      <td>January 1, 2020</td>\n      <td>2008</td>\n      <td>PG-13</td>\n      <td>123 min</td>\n      <td>Dramas</td>\n      <td>A brilliant group of students become card-coun...</td>\n      <td>2020-01-01</td>\n      <td>2020-01-01</td>\n    </tr>\n    <tr>\n      <th>...</th>\n      <td>...</td>\n      <td>...</td>\n      <td>...</td>\n      <td>...</td>\n      <td>...</td>\n      <td>...</td>\n      <td>...</td>\n      <td>...</td>\n      <td>...</td>\n      <td>...</td>\n      <td>...</td>\n      <td>...</td>\n      <td>...</td>\n      <td>...</td>\n    </tr>\n    <tr>\n      <th>7782</th>\n      <td>s7783</td>\n      <td>Movie</td>\n      <td>Zozo</td>\n      <td>Josef Fares</td>\n      <td>Imad Creidi, Antoinette Turk, Elias Gergi, Car...</td>\n      <td>Sweden, Czech Republic, United Kingdom, Denmar...</td>\n      <td>October 19, 2020</td>\n      <td>2005</td>\n      <td>TV-MA</td>\n      <td>99 min</td>\n      <td>Dramas, International Movies</td>\n      <td>When Lebanon's Civil War deprives Zozo of his ...</td>\n      <td>2020-10-19</td>\n      <td>2020-10-19</td>\n    </tr>\n    <tr>\n      <th>7783</th>\n      <td>s7784</td>\n      <td>Movie</td>\n      <td>Zubaan</td>\n      <td>Mozez Singh</td>\n      <td>Vicky Kaushal, Sarah-Jane Dias, Raaghav Chanan...</td>\n      <td>India</td>\n      <td>March 2, 2019</td>\n      <td>2015</td>\n      <td>TV-14</td>\n      <td>111 min</td>\n      <td>Dramas, International Movies, Music &amp; Musicals</td>\n      <td>A scrappy but poor boy worms his way into a ty...</td>\n      <td>2019-03-02</td>\n      <td>2019-03-02</td>\n    </tr>\n    <tr>\n      <th>7784</th>\n      <td>s7785</td>\n      <td>Movie</td>\n      <td>Zulu Man in Japan</td>\n      <td>NaN</td>\n      <td>Nasty C</td>\n      <td>NaN</td>\n      <td>September 25, 2020</td>\n      <td>2019</td>\n      <td>TV-MA</td>\n      <td>44 min</td>\n      <td>Documentaries, International Movies, Music &amp; M...</td>\n      <td>In this documentary, South African rapper Nast...</td>\n      <td>2020-09-25</td>\n      <td>2020-09-25</td>\n    </tr>\n    <tr>\n      <th>7785</th>\n      <td>s7786</td>\n      <td>TV Show</td>\n      <td>Zumbo's Just Desserts</td>\n      <td>NaN</td>\n      <td>Adriano Zumbo, Rachel Khoo</td>\n      <td>Australia</td>\n      <td>October 31, 2020</td>\n      <td>2019</td>\n      <td>TV-PG</td>\n      <td>1 Season</td>\n      <td>International TV Shows, Reality TV</td>\n      <td>Dessert wizard Adriano Zumbo looks for the nex...</td>\n      <td>2020-10-31</td>\n      <td>2020-10-31</td>\n    </tr>\n    <tr>\n      <th>7786</th>\n      <td>s7787</td>\n      <td>Movie</td>\n      <td>ZZ TOP: THAT LITTLE OL' BAND FROM TEXAS</td>\n      <td>Sam Dunn</td>\n      <td>NaN</td>\n      <td>United Kingdom, Canada, United States</td>\n      <td>March 1, 2020</td>\n      <td>2019</td>\n      <td>TV-MA</td>\n      <td>90 min</td>\n      <td>Documentaries, Music &amp; Musicals</td>\n      <td>This documentary delves into the mystique behi...</td>\n      <td>2020-03-01</td>\n      <td>2020-03-01</td>\n    </tr>\n  </tbody>\n</table>\n<p>7787 rows × 14 columns</p>\n</div>"
     },
     "metadata": {},
     "execution_count": 27
    }
   ],
   "source": [
    "netflix[\"unix_time\"]=netflix[\"computer_date\"]\n",
    "netflix"
   ]
  },
  {
   "source": [
    "Spliting Columns"
   ],
   "cell_type": "markdown",
   "metadata": {}
  },
  {
   "cell_type": "code",
   "execution_count": 28,
   "metadata": {},
   "outputs": [
    {
     "output_type": "execute_result",
     "data": {
      "text/plain": [
       "     show_id     type                                    title  \\\n",
       "0         s1  TV Show                                       3%   \n",
       "1         s2    Movie                                     7:19   \n",
       "2         s3    Movie                                    23:59   \n",
       "3         s4    Movie                                        9   \n",
       "4         s5    Movie                                       21   \n",
       "...      ...      ...                                      ...   \n",
       "7782   s7783    Movie                                     Zozo   \n",
       "7783   s7784    Movie                                   Zubaan   \n",
       "7784   s7785    Movie                        Zulu Man in Japan   \n",
       "7785   s7786  TV Show                    Zumbo's Just Desserts   \n",
       "7786   s7787    Movie  ZZ TOP: THAT LITTLE OL' BAND FROM TEXAS   \n",
       "\n",
       "               director                                               cast  \\\n",
       "0                   NaN  João Miguel, Bianca Comparato, Michel Gomes, R...   \n",
       "1     Jorge Michel Grau  Demián Bichir, Héctor Bonilla, Oscar Serrano, ...   \n",
       "2          Gilbert Chan  Tedd Chan, Stella Chung, Henley Hii, Lawrence ...   \n",
       "3           Shane Acker  Elijah Wood, John C. Reilly, Jennifer Connelly...   \n",
       "4        Robert Luketic  Jim Sturgess, Kevin Spacey, Kate Bosworth, Aar...   \n",
       "...                 ...                                                ...   \n",
       "7782        Josef Fares  Imad Creidi, Antoinette Turk, Elias Gergi, Car...   \n",
       "7783        Mozez Singh  Vicky Kaushal, Sarah-Jane Dias, Raaghav Chanan...   \n",
       "7784                NaN                                            Nasty C   \n",
       "7785                NaN                         Adriano Zumbo, Rachel Khoo   \n",
       "7786           Sam Dunn                                                NaN   \n",
       "\n",
       "                                                country          date_added  \\\n",
       "0                                                Brazil     August 14, 2020   \n",
       "1                                                Mexico   December 23, 2016   \n",
       "2                                             Singapore   December 20, 2018   \n",
       "3                                         United States   November 16, 2017   \n",
       "4                                         United States     January 1, 2020   \n",
       "...                                                 ...                 ...   \n",
       "7782  Sweden, Czech Republic, United Kingdom, Denmar...    October 19, 2020   \n",
       "7783                                              India       March 2, 2019   \n",
       "7784                                                NaN  September 25, 2020   \n",
       "7785                                          Australia    October 31, 2020   \n",
       "7786              United Kingdom, Canada, United States       March 1, 2020   \n",
       "\n",
       "      release_year rating   duration  \\\n",
       "0             2020  TV-MA  4 Seasons   \n",
       "1             2016  TV-MA     93 min   \n",
       "2             2011      R     78 min   \n",
       "3             2009  PG-13     80 min   \n",
       "4             2008  PG-13    123 min   \n",
       "...            ...    ...        ...   \n",
       "7782          2005  TV-MA     99 min   \n",
       "7783          2015  TV-14    111 min   \n",
       "7784          2019  TV-MA     44 min   \n",
       "7785          2019  TV-PG   1 Season   \n",
       "7786          2019  TV-MA     90 min   \n",
       "\n",
       "                                              listed_in  \\\n",
       "0     International TV Shows, TV Dramas, TV Sci-Fi &...   \n",
       "1                          Dramas, International Movies   \n",
       "2                   Horror Movies, International Movies   \n",
       "3     Action & Adventure, Independent Movies, Sci-Fi...   \n",
       "4                                                Dramas   \n",
       "...                                                 ...   \n",
       "7782                       Dramas, International Movies   \n",
       "7783     Dramas, International Movies, Music & Musicals   \n",
       "7784  Documentaries, International Movies, Music & M...   \n",
       "7785                 International TV Shows, Reality TV   \n",
       "7786                    Documentaries, Music & Musicals   \n",
       "\n",
       "                                            description computer_date  \\\n",
       "0     In a future where the elite inhabit an island ...    2020-08-14   \n",
       "1     After a devastating earthquake hits Mexico Cit...    2016-12-23   \n",
       "2     When an army recruit is found dead, his fellow...    2018-12-20   \n",
       "3     In a postapocalyptic world, rag-doll robots hi...    2017-11-16   \n",
       "4     A brilliant group of students become card-coun...    2020-01-01   \n",
       "...                                                 ...           ...   \n",
       "7782  When Lebanon's Civil War deprives Zozo of his ...    2020-10-19   \n",
       "7783  A scrappy but poor boy worms his way into a ty...    2019-03-02   \n",
       "7784  In this documentary, South African rapper Nast...    2020-09-25   \n",
       "7785  Dessert wizard Adriano Zumbo looks for the nex...    2020-10-31   \n",
       "7786  This documentary delves into the mystique behi...    2020-03-01   \n",
       "\n",
       "      unix_time   Date Part 1 Date Part 2  \n",
       "0    2020-08-14     August 14        2020  \n",
       "1    2016-12-23   December 23        2016  \n",
       "2    2018-12-20   December 20        2018  \n",
       "3    2017-11-16   November 16        2017  \n",
       "4    2020-01-01     January 1        2020  \n",
       "...         ...           ...         ...  \n",
       "7782 2020-10-19    October 19        2020  \n",
       "7783 2019-03-02       March 2        2019  \n",
       "7784 2020-09-25  September 25        2020  \n",
       "7785 2020-10-31    October 31        2020  \n",
       "7786 2020-03-01       March 1        2020  \n",
       "\n",
       "[7787 rows x 16 columns]"
      ],
      "text/html": "<div>\n<style scoped>\n    .dataframe tbody tr th:only-of-type {\n        vertical-align: middle;\n    }\n\n    .dataframe tbody tr th {\n        vertical-align: top;\n    }\n\n    .dataframe thead th {\n        text-align: right;\n    }\n</style>\n<table border=\"1\" class=\"dataframe\">\n  <thead>\n    <tr style=\"text-align: right;\">\n      <th></th>\n      <th>show_id</th>\n      <th>type</th>\n      <th>title</th>\n      <th>director</th>\n      <th>cast</th>\n      <th>country</th>\n      <th>date_added</th>\n      <th>release_year</th>\n      <th>rating</th>\n      <th>duration</th>\n      <th>listed_in</th>\n      <th>description</th>\n      <th>computer_date</th>\n      <th>unix_time</th>\n      <th>Date Part 1</th>\n      <th>Date Part 2</th>\n    </tr>\n  </thead>\n  <tbody>\n    <tr>\n      <th>0</th>\n      <td>s1</td>\n      <td>TV Show</td>\n      <td>3%</td>\n      <td>NaN</td>\n      <td>João Miguel, Bianca Comparato, Michel Gomes, R...</td>\n      <td>Brazil</td>\n      <td>August 14, 2020</td>\n      <td>2020</td>\n      <td>TV-MA</td>\n      <td>4 Seasons</td>\n      <td>International TV Shows, TV Dramas, TV Sci-Fi &amp;...</td>\n      <td>In a future where the elite inhabit an island ...</td>\n      <td>2020-08-14</td>\n      <td>2020-08-14</td>\n      <td>August 14</td>\n      <td>2020</td>\n    </tr>\n    <tr>\n      <th>1</th>\n      <td>s2</td>\n      <td>Movie</td>\n      <td>7:19</td>\n      <td>Jorge Michel Grau</td>\n      <td>Demián Bichir, Héctor Bonilla, Oscar Serrano, ...</td>\n      <td>Mexico</td>\n      <td>December 23, 2016</td>\n      <td>2016</td>\n      <td>TV-MA</td>\n      <td>93 min</td>\n      <td>Dramas, International Movies</td>\n      <td>After a devastating earthquake hits Mexico Cit...</td>\n      <td>2016-12-23</td>\n      <td>2016-12-23</td>\n      <td>December 23</td>\n      <td>2016</td>\n    </tr>\n    <tr>\n      <th>2</th>\n      <td>s3</td>\n      <td>Movie</td>\n      <td>23:59</td>\n      <td>Gilbert Chan</td>\n      <td>Tedd Chan, Stella Chung, Henley Hii, Lawrence ...</td>\n      <td>Singapore</td>\n      <td>December 20, 2018</td>\n      <td>2011</td>\n      <td>R</td>\n      <td>78 min</td>\n      <td>Horror Movies, International Movies</td>\n      <td>When an army recruit is found dead, his fellow...</td>\n      <td>2018-12-20</td>\n      <td>2018-12-20</td>\n      <td>December 20</td>\n      <td>2018</td>\n    </tr>\n    <tr>\n      <th>3</th>\n      <td>s4</td>\n      <td>Movie</td>\n      <td>9</td>\n      <td>Shane Acker</td>\n      <td>Elijah Wood, John C. Reilly, Jennifer Connelly...</td>\n      <td>United States</td>\n      <td>November 16, 2017</td>\n      <td>2009</td>\n      <td>PG-13</td>\n      <td>80 min</td>\n      <td>Action &amp; Adventure, Independent Movies, Sci-Fi...</td>\n      <td>In a postapocalyptic world, rag-doll robots hi...</td>\n      <td>2017-11-16</td>\n      <td>2017-11-16</td>\n      <td>November 16</td>\n      <td>2017</td>\n    </tr>\n    <tr>\n      <th>4</th>\n      <td>s5</td>\n      <td>Movie</td>\n      <td>21</td>\n      <td>Robert Luketic</td>\n      <td>Jim Sturgess, Kevin Spacey, Kate Bosworth, Aar...</td>\n      <td>United States</td>\n      <td>January 1, 2020</td>\n      <td>2008</td>\n      <td>PG-13</td>\n      <td>123 min</td>\n      <td>Dramas</td>\n      <td>A brilliant group of students become card-coun...</td>\n      <td>2020-01-01</td>\n      <td>2020-01-01</td>\n      <td>January 1</td>\n      <td>2020</td>\n    </tr>\n    <tr>\n      <th>...</th>\n      <td>...</td>\n      <td>...</td>\n      <td>...</td>\n      <td>...</td>\n      <td>...</td>\n      <td>...</td>\n      <td>...</td>\n      <td>...</td>\n      <td>...</td>\n      <td>...</td>\n      <td>...</td>\n      <td>...</td>\n      <td>...</td>\n      <td>...</td>\n      <td>...</td>\n      <td>...</td>\n    </tr>\n    <tr>\n      <th>7782</th>\n      <td>s7783</td>\n      <td>Movie</td>\n      <td>Zozo</td>\n      <td>Josef Fares</td>\n      <td>Imad Creidi, Antoinette Turk, Elias Gergi, Car...</td>\n      <td>Sweden, Czech Republic, United Kingdom, Denmar...</td>\n      <td>October 19, 2020</td>\n      <td>2005</td>\n      <td>TV-MA</td>\n      <td>99 min</td>\n      <td>Dramas, International Movies</td>\n      <td>When Lebanon's Civil War deprives Zozo of his ...</td>\n      <td>2020-10-19</td>\n      <td>2020-10-19</td>\n      <td>October 19</td>\n      <td>2020</td>\n    </tr>\n    <tr>\n      <th>7783</th>\n      <td>s7784</td>\n      <td>Movie</td>\n      <td>Zubaan</td>\n      <td>Mozez Singh</td>\n      <td>Vicky Kaushal, Sarah-Jane Dias, Raaghav Chanan...</td>\n      <td>India</td>\n      <td>March 2, 2019</td>\n      <td>2015</td>\n      <td>TV-14</td>\n      <td>111 min</td>\n      <td>Dramas, International Movies, Music &amp; Musicals</td>\n      <td>A scrappy but poor boy worms his way into a ty...</td>\n      <td>2019-03-02</td>\n      <td>2019-03-02</td>\n      <td>March 2</td>\n      <td>2019</td>\n    </tr>\n    <tr>\n      <th>7784</th>\n      <td>s7785</td>\n      <td>Movie</td>\n      <td>Zulu Man in Japan</td>\n      <td>NaN</td>\n      <td>Nasty C</td>\n      <td>NaN</td>\n      <td>September 25, 2020</td>\n      <td>2019</td>\n      <td>TV-MA</td>\n      <td>44 min</td>\n      <td>Documentaries, International Movies, Music &amp; M...</td>\n      <td>In this documentary, South African rapper Nast...</td>\n      <td>2020-09-25</td>\n      <td>2020-09-25</td>\n      <td>September 25</td>\n      <td>2020</td>\n    </tr>\n    <tr>\n      <th>7785</th>\n      <td>s7786</td>\n      <td>TV Show</td>\n      <td>Zumbo's Just Desserts</td>\n      <td>NaN</td>\n      <td>Adriano Zumbo, Rachel Khoo</td>\n      <td>Australia</td>\n      <td>October 31, 2020</td>\n      <td>2019</td>\n      <td>TV-PG</td>\n      <td>1 Season</td>\n      <td>International TV Shows, Reality TV</td>\n      <td>Dessert wizard Adriano Zumbo looks for the nex...</td>\n      <td>2020-10-31</td>\n      <td>2020-10-31</td>\n      <td>October 31</td>\n      <td>2020</td>\n    </tr>\n    <tr>\n      <th>7786</th>\n      <td>s7787</td>\n      <td>Movie</td>\n      <td>ZZ TOP: THAT LITTLE OL' BAND FROM TEXAS</td>\n      <td>Sam Dunn</td>\n      <td>NaN</td>\n      <td>United Kingdom, Canada, United States</td>\n      <td>March 1, 2020</td>\n      <td>2019</td>\n      <td>TV-MA</td>\n      <td>90 min</td>\n      <td>Documentaries, Music &amp; Musicals</td>\n      <td>This documentary delves into the mystique behi...</td>\n      <td>2020-03-01</td>\n      <td>2020-03-01</td>\n      <td>March 1</td>\n      <td>2020</td>\n    </tr>\n  </tbody>\n</table>\n<p>7787 rows × 16 columns</p>\n</div>"
     },
     "metadata": {},
     "execution_count": 28
    }
   ],
   "source": [
    "netflix[[\"Date Part 1\",\"Date Part 2\"]]=netflix[\"date_added\"].str.split(\",\",expand=True) #if expand is false it makes list\n",
    "netflix"
   ]
  },
  {
   "cell_type": "code",
   "execution_count": 120,
   "metadata": {},
   "outputs": [
    {
     "output_type": "execute_result",
     "data": {
      "text/plain": [
       "     show_id     type                                    title  \\\n",
       "0         s1  TV Show                                       3%   \n",
       "1         s2    Movie                                     7:19   \n",
       "2         s3    Movie                                    23:59   \n",
       "3         s4    Movie                                        9   \n",
       "4         s5    Movie                                       21   \n",
       "...      ...      ...                                      ...   \n",
       "7782   s7783    Movie                                     Zozo   \n",
       "7783   s7784    Movie                                   Zubaan   \n",
       "7784   s7785    Movie                        Zulu Man in Japan   \n",
       "7785   s7786  TV Show                    Zumbo's Just Desserts   \n",
       "7786   s7787    Movie  ZZ TOP: THAT LITTLE OL' BAND FROM TEXAS   \n",
       "\n",
       "               director                                               cast  \\\n",
       "0                   NaN  João Miguel, Bianca Comparato, Michel Gomes, R...   \n",
       "1     Jorge Michel Grau  Demián Bichir, Héctor Bonilla, Oscar Serrano, ...   \n",
       "2          Gilbert Chan  Tedd Chan, Stella Chung, Henley Hii, Lawrence ...   \n",
       "3           Shane Acker  Elijah Wood, John C. Reilly, Jennifer Connelly...   \n",
       "4        Robert Luketic  Jim Sturgess, Kevin Spacey, Kate Bosworth, Aar...   \n",
       "...                 ...                                                ...   \n",
       "7782        Josef Fares  Imad Creidi, Antoinette Turk, Elias Gergi, Car...   \n",
       "7783        Mozez Singh  Vicky Kaushal, Sarah-Jane Dias, Raaghav Chanan...   \n",
       "7784                NaN                                            Nasty C   \n",
       "7785                NaN                         Adriano Zumbo, Rachel Khoo   \n",
       "7786           Sam Dunn                                                NaN   \n",
       "\n",
       "                                                country          date_added  \\\n",
       "0                                                Brazil     August 14, 2020   \n",
       "1                                                Mexico   December 23, 2016   \n",
       "2                                             Singapore   December 20, 2018   \n",
       "3                                         United States   November 16, 2017   \n",
       "4                                         United States     January 1, 2020   \n",
       "...                                                 ...                 ...   \n",
       "7782  Sweden, Czech Republic, United Kingdom, Denmar...    October 19, 2020   \n",
       "7783                                              India       March 2, 2019   \n",
       "7784                                                NaN  September 25, 2020   \n",
       "7785                                          Australia    October 31, 2020   \n",
       "7786              United Kingdom, Canada, United States       March 1, 2020   \n",
       "\n",
       "      release_year rating   duration  \\\n",
       "0             2020  TV-MA  4 Seasons   \n",
       "1             2016  TV-MA     93 min   \n",
       "2             2011      R     78 min   \n",
       "3             2009  PG-13     80 min   \n",
       "4             2008  PG-13    123 min   \n",
       "...            ...    ...        ...   \n",
       "7782          2005  TV-MA     99 min   \n",
       "7783          2015  TV-14    111 min   \n",
       "7784          2019  TV-MA     44 min   \n",
       "7785          2019  TV-PG   1 Season   \n",
       "7786          2019  TV-MA     90 min   \n",
       "\n",
       "                                              listed_in  \\\n",
       "0     International TV Shows, TV Dramas, TV Sci-Fi &...   \n",
       "1                          Dramas, International Movies   \n",
       "2                   Horror Movies, International Movies   \n",
       "3     Action & Adventure, Independent Movies, Sci-Fi...   \n",
       "4                                                Dramas   \n",
       "...                                                 ...   \n",
       "7782                       Dramas, International Movies   \n",
       "7783     Dramas, International Movies, Music & Musicals   \n",
       "7784  Documentaries, International Movies, Music & M...   \n",
       "7785                 International TV Shows, Reality TV   \n",
       "7786                    Documentaries, Music & Musicals   \n",
       "\n",
       "                                            description  \n",
       "0     In a future where the elite inhabit an island ...  \n",
       "1     After a devastating earthquake hits Mexico Cit...  \n",
       "2     When an army recruit is found dead, his fellow...  \n",
       "3     In a postapocalyptic world, rag-doll robots hi...  \n",
       "4     A brilliant group of students become card-coun...  \n",
       "...                                                 ...  \n",
       "7782  When Lebanon's Civil War deprives Zozo of his ...  \n",
       "7783  A scrappy but poor boy worms his way into a ty...  \n",
       "7784  In this documentary, South African rapper Nast...  \n",
       "7785  Dessert wizard Adriano Zumbo looks for the nex...  \n",
       "7786  This documentary delves into the mystique behi...  \n",
       "\n",
       "[7787 rows x 12 columns]"
      ],
      "text/html": "<div>\n<style scoped>\n    .dataframe tbody tr th:only-of-type {\n        vertical-align: middle;\n    }\n\n    .dataframe tbody tr th {\n        vertical-align: top;\n    }\n\n    .dataframe thead th {\n        text-align: right;\n    }\n</style>\n<table border=\"1\" class=\"dataframe\">\n  <thead>\n    <tr style=\"text-align: right;\">\n      <th></th>\n      <th>show_id</th>\n      <th>type</th>\n      <th>title</th>\n      <th>director</th>\n      <th>cast</th>\n      <th>country</th>\n      <th>date_added</th>\n      <th>release_year</th>\n      <th>rating</th>\n      <th>duration</th>\n      <th>listed_in</th>\n      <th>description</th>\n    </tr>\n  </thead>\n  <tbody>\n    <tr>\n      <th>0</th>\n      <td>s1</td>\n      <td>TV Show</td>\n      <td>3%</td>\n      <td>NaN</td>\n      <td>João Miguel, Bianca Comparato, Michel Gomes, R...</td>\n      <td>Brazil</td>\n      <td>August 14, 2020</td>\n      <td>2020</td>\n      <td>TV-MA</td>\n      <td>4 Seasons</td>\n      <td>International TV Shows, TV Dramas, TV Sci-Fi &amp;...</td>\n      <td>In a future where the elite inhabit an island ...</td>\n    </tr>\n    <tr>\n      <th>1</th>\n      <td>s2</td>\n      <td>Movie</td>\n      <td>7:19</td>\n      <td>Jorge Michel Grau</td>\n      <td>Demián Bichir, Héctor Bonilla, Oscar Serrano, ...</td>\n      <td>Mexico</td>\n      <td>December 23, 2016</td>\n      <td>2016</td>\n      <td>TV-MA</td>\n      <td>93 min</td>\n      <td>Dramas, International Movies</td>\n      <td>After a devastating earthquake hits Mexico Cit...</td>\n    </tr>\n    <tr>\n      <th>2</th>\n      <td>s3</td>\n      <td>Movie</td>\n      <td>23:59</td>\n      <td>Gilbert Chan</td>\n      <td>Tedd Chan, Stella Chung, Henley Hii, Lawrence ...</td>\n      <td>Singapore</td>\n      <td>December 20, 2018</td>\n      <td>2011</td>\n      <td>R</td>\n      <td>78 min</td>\n      <td>Horror Movies, International Movies</td>\n      <td>When an army recruit is found dead, his fellow...</td>\n    </tr>\n    <tr>\n      <th>3</th>\n      <td>s4</td>\n      <td>Movie</td>\n      <td>9</td>\n      <td>Shane Acker</td>\n      <td>Elijah Wood, John C. Reilly, Jennifer Connelly...</td>\n      <td>United States</td>\n      <td>November 16, 2017</td>\n      <td>2009</td>\n      <td>PG-13</td>\n      <td>80 min</td>\n      <td>Action &amp; Adventure, Independent Movies, Sci-Fi...</td>\n      <td>In a postapocalyptic world, rag-doll robots hi...</td>\n    </tr>\n    <tr>\n      <th>4</th>\n      <td>s5</td>\n      <td>Movie</td>\n      <td>21</td>\n      <td>Robert Luketic</td>\n      <td>Jim Sturgess, Kevin Spacey, Kate Bosworth, Aar...</td>\n      <td>United States</td>\n      <td>January 1, 2020</td>\n      <td>2008</td>\n      <td>PG-13</td>\n      <td>123 min</td>\n      <td>Dramas</td>\n      <td>A brilliant group of students become card-coun...</td>\n    </tr>\n    <tr>\n      <th>...</th>\n      <td>...</td>\n      <td>...</td>\n      <td>...</td>\n      <td>...</td>\n      <td>...</td>\n      <td>...</td>\n      <td>...</td>\n      <td>...</td>\n      <td>...</td>\n      <td>...</td>\n      <td>...</td>\n      <td>...</td>\n    </tr>\n    <tr>\n      <th>7782</th>\n      <td>s7783</td>\n      <td>Movie</td>\n      <td>Zozo</td>\n      <td>Josef Fares</td>\n      <td>Imad Creidi, Antoinette Turk, Elias Gergi, Car...</td>\n      <td>Sweden, Czech Republic, United Kingdom, Denmar...</td>\n      <td>October 19, 2020</td>\n      <td>2005</td>\n      <td>TV-MA</td>\n      <td>99 min</td>\n      <td>Dramas, International Movies</td>\n      <td>When Lebanon's Civil War deprives Zozo of his ...</td>\n    </tr>\n    <tr>\n      <th>7783</th>\n      <td>s7784</td>\n      <td>Movie</td>\n      <td>Zubaan</td>\n      <td>Mozez Singh</td>\n      <td>Vicky Kaushal, Sarah-Jane Dias, Raaghav Chanan...</td>\n      <td>India</td>\n      <td>March 2, 2019</td>\n      <td>2015</td>\n      <td>TV-14</td>\n      <td>111 min</td>\n      <td>Dramas, International Movies, Music &amp; Musicals</td>\n      <td>A scrappy but poor boy worms his way into a ty...</td>\n    </tr>\n    <tr>\n      <th>7784</th>\n      <td>s7785</td>\n      <td>Movie</td>\n      <td>Zulu Man in Japan</td>\n      <td>NaN</td>\n      <td>Nasty C</td>\n      <td>NaN</td>\n      <td>September 25, 2020</td>\n      <td>2019</td>\n      <td>TV-MA</td>\n      <td>44 min</td>\n      <td>Documentaries, International Movies, Music &amp; M...</td>\n      <td>In this documentary, South African rapper Nast...</td>\n    </tr>\n    <tr>\n      <th>7785</th>\n      <td>s7786</td>\n      <td>TV Show</td>\n      <td>Zumbo's Just Desserts</td>\n      <td>NaN</td>\n      <td>Adriano Zumbo, Rachel Khoo</td>\n      <td>Australia</td>\n      <td>October 31, 2020</td>\n      <td>2019</td>\n      <td>TV-PG</td>\n      <td>1 Season</td>\n      <td>International TV Shows, Reality TV</td>\n      <td>Dessert wizard Adriano Zumbo looks for the nex...</td>\n    </tr>\n    <tr>\n      <th>7786</th>\n      <td>s7787</td>\n      <td>Movie</td>\n      <td>ZZ TOP: THAT LITTLE OL' BAND FROM TEXAS</td>\n      <td>Sam Dunn</td>\n      <td>NaN</td>\n      <td>United Kingdom, Canada, United States</td>\n      <td>March 1, 2020</td>\n      <td>2019</td>\n      <td>TV-MA</td>\n      <td>90 min</td>\n      <td>Documentaries, Music &amp; Musicals</td>\n      <td>This documentary delves into the mystique behi...</td>\n    </tr>\n  </tbody>\n</table>\n<p>7787 rows × 12 columns</p>\n</div>"
     },
     "metadata": {},
     "execution_count": 120
    }
   ],
   "source": [
    "netflix.rename(columns={\"Date Part 2\":\"Year\"}, inplace=True)\n",
    "netflix"
   ]
  },
  {
   "cell_type": "code",
   "execution_count": 29,
   "metadata": {},
   "outputs": [],
   "source": [
    "netflix[\"cast\"].fillna(value=\"no cast\", inplace=True)"
   ]
  },
  {
   "cell_type": "code",
   "execution_count": 30,
   "metadata": {},
   "outputs": [
    {
     "output_type": "execute_result",
     "data": {
      "text/plain": [
       "     show_id     type                                    title  \\\n",
       "0         s1  TV Show                                       3%   \n",
       "1         s2    Movie                                     7:19   \n",
       "2         s3    Movie                                    23:59   \n",
       "3         s4    Movie                                        9   \n",
       "4         s5    Movie                                       21   \n",
       "...      ...      ...                                      ...   \n",
       "7782   s7783    Movie                                     Zozo   \n",
       "7783   s7784    Movie                                   Zubaan   \n",
       "7784   s7785    Movie                        Zulu Man in Japan   \n",
       "7785   s7786  TV Show                    Zumbo's Just Desserts   \n",
       "7786   s7787    Movie  ZZ TOP: THAT LITTLE OL' BAND FROM TEXAS   \n",
       "\n",
       "               director                                               cast  \\\n",
       "0                   NaN  João Miguel, Bianca Comparato, Michel Gomes, R...   \n",
       "1     Jorge Michel Grau  Demián Bichir, Héctor Bonilla, Oscar Serrano, ...   \n",
       "2          Gilbert Chan  Tedd Chan, Stella Chung, Henley Hii, Lawrence ...   \n",
       "3           Shane Acker  Elijah Wood, John C. Reilly, Jennifer Connelly...   \n",
       "4        Robert Luketic  Jim Sturgess, Kevin Spacey, Kate Bosworth, Aar...   \n",
       "...                 ...                                                ...   \n",
       "7782        Josef Fares  Imad Creidi, Antoinette Turk, Elias Gergi, Car...   \n",
       "7783        Mozez Singh  Vicky Kaushal, Sarah-Jane Dias, Raaghav Chanan...   \n",
       "7784                NaN                                            Nasty C   \n",
       "7785                NaN                         Adriano Zumbo, Rachel Khoo   \n",
       "7786           Sam Dunn                                            no cast   \n",
       "\n",
       "                                                country          date_added  \\\n",
       "0                                                Brazil     August 14, 2020   \n",
       "1                                                Mexico   December 23, 2016   \n",
       "2                                             Singapore   December 20, 2018   \n",
       "3                                         United States   November 16, 2017   \n",
       "4                                         United States     January 1, 2020   \n",
       "...                                                 ...                 ...   \n",
       "7782  Sweden, Czech Republic, United Kingdom, Denmar...    October 19, 2020   \n",
       "7783                                              India       March 2, 2019   \n",
       "7784                                                NaN  September 25, 2020   \n",
       "7785                                          Australia    October 31, 2020   \n",
       "7786              United Kingdom, Canada, United States       March 1, 2020   \n",
       "\n",
       "      release_year rating   duration  \\\n",
       "0             2020  TV-MA  4 Seasons   \n",
       "1             2016  TV-MA     93 min   \n",
       "2             2011      R     78 min   \n",
       "3             2009  PG-13     80 min   \n",
       "4             2008  PG-13    123 min   \n",
       "...            ...    ...        ...   \n",
       "7782          2005  TV-MA     99 min   \n",
       "7783          2015  TV-14    111 min   \n",
       "7784          2019  TV-MA     44 min   \n",
       "7785          2019  TV-PG   1 Season   \n",
       "7786          2019  TV-MA     90 min   \n",
       "\n",
       "                                              listed_in  \\\n",
       "0     International TV Shows, TV Dramas, TV Sci-Fi &...   \n",
       "1                          Dramas, International Movies   \n",
       "2                   Horror Movies, International Movies   \n",
       "3     Action & Adventure, Independent Movies, Sci-Fi...   \n",
       "4                                                Dramas   \n",
       "...                                                 ...   \n",
       "7782                       Dramas, International Movies   \n",
       "7783     Dramas, International Movies, Music & Musicals   \n",
       "7784  Documentaries, International Movies, Music & M...   \n",
       "7785                 International TV Shows, Reality TV   \n",
       "7786                    Documentaries, Music & Musicals   \n",
       "\n",
       "                                            description computer_date  \\\n",
       "0     In a future where the elite inhabit an island ...    2020-08-14   \n",
       "1     After a devastating earthquake hits Mexico Cit...    2016-12-23   \n",
       "2     When an army recruit is found dead, his fellow...    2018-12-20   \n",
       "3     In a postapocalyptic world, rag-doll robots hi...    2017-11-16   \n",
       "4     A brilliant group of students become card-coun...    2020-01-01   \n",
       "...                                                 ...           ...   \n",
       "7782  When Lebanon's Civil War deprives Zozo of his ...    2020-10-19   \n",
       "7783  A scrappy but poor boy worms his way into a ty...    2019-03-02   \n",
       "7784  In this documentary, South African rapper Nast...    2020-09-25   \n",
       "7785  Dessert wizard Adriano Zumbo looks for the nex...    2020-10-31   \n",
       "7786  This documentary delves into the mystique behi...    2020-03-01   \n",
       "\n",
       "      unix_time   Date Part 1 Date Part 2  \n",
       "0    2020-08-14     August 14        2020  \n",
       "1    2016-12-23   December 23        2016  \n",
       "2    2018-12-20   December 20        2018  \n",
       "3    2017-11-16   November 16        2017  \n",
       "4    2020-01-01     January 1        2020  \n",
       "...         ...           ...         ...  \n",
       "7782 2020-10-19    October 19        2020  \n",
       "7783 2019-03-02       March 2        2019  \n",
       "7784 2020-09-25  September 25        2020  \n",
       "7785 2020-10-31    October 31        2020  \n",
       "7786 2020-03-01       March 1        2020  \n",
       "\n",
       "[7787 rows x 16 columns]"
      ],
      "text/html": "<div>\n<style scoped>\n    .dataframe tbody tr th:only-of-type {\n        vertical-align: middle;\n    }\n\n    .dataframe tbody tr th {\n        vertical-align: top;\n    }\n\n    .dataframe thead th {\n        text-align: right;\n    }\n</style>\n<table border=\"1\" class=\"dataframe\">\n  <thead>\n    <tr style=\"text-align: right;\">\n      <th></th>\n      <th>show_id</th>\n      <th>type</th>\n      <th>title</th>\n      <th>director</th>\n      <th>cast</th>\n      <th>country</th>\n      <th>date_added</th>\n      <th>release_year</th>\n      <th>rating</th>\n      <th>duration</th>\n      <th>listed_in</th>\n      <th>description</th>\n      <th>computer_date</th>\n      <th>unix_time</th>\n      <th>Date Part 1</th>\n      <th>Date Part 2</th>\n    </tr>\n  </thead>\n  <tbody>\n    <tr>\n      <th>0</th>\n      <td>s1</td>\n      <td>TV Show</td>\n      <td>3%</td>\n      <td>NaN</td>\n      <td>João Miguel, Bianca Comparato, Michel Gomes, R...</td>\n      <td>Brazil</td>\n      <td>August 14, 2020</td>\n      <td>2020</td>\n      <td>TV-MA</td>\n      <td>4 Seasons</td>\n      <td>International TV Shows, TV Dramas, TV Sci-Fi &amp;...</td>\n      <td>In a future where the elite inhabit an island ...</td>\n      <td>2020-08-14</td>\n      <td>2020-08-14</td>\n      <td>August 14</td>\n      <td>2020</td>\n    </tr>\n    <tr>\n      <th>1</th>\n      <td>s2</td>\n      <td>Movie</td>\n      <td>7:19</td>\n      <td>Jorge Michel Grau</td>\n      <td>Demián Bichir, Héctor Bonilla, Oscar Serrano, ...</td>\n      <td>Mexico</td>\n      <td>December 23, 2016</td>\n      <td>2016</td>\n      <td>TV-MA</td>\n      <td>93 min</td>\n      <td>Dramas, International Movies</td>\n      <td>After a devastating earthquake hits Mexico Cit...</td>\n      <td>2016-12-23</td>\n      <td>2016-12-23</td>\n      <td>December 23</td>\n      <td>2016</td>\n    </tr>\n    <tr>\n      <th>2</th>\n      <td>s3</td>\n      <td>Movie</td>\n      <td>23:59</td>\n      <td>Gilbert Chan</td>\n      <td>Tedd Chan, Stella Chung, Henley Hii, Lawrence ...</td>\n      <td>Singapore</td>\n      <td>December 20, 2018</td>\n      <td>2011</td>\n      <td>R</td>\n      <td>78 min</td>\n      <td>Horror Movies, International Movies</td>\n      <td>When an army recruit is found dead, his fellow...</td>\n      <td>2018-12-20</td>\n      <td>2018-12-20</td>\n      <td>December 20</td>\n      <td>2018</td>\n    </tr>\n    <tr>\n      <th>3</th>\n      <td>s4</td>\n      <td>Movie</td>\n      <td>9</td>\n      <td>Shane Acker</td>\n      <td>Elijah Wood, John C. Reilly, Jennifer Connelly...</td>\n      <td>United States</td>\n      <td>November 16, 2017</td>\n      <td>2009</td>\n      <td>PG-13</td>\n      <td>80 min</td>\n      <td>Action &amp; Adventure, Independent Movies, Sci-Fi...</td>\n      <td>In a postapocalyptic world, rag-doll robots hi...</td>\n      <td>2017-11-16</td>\n      <td>2017-11-16</td>\n      <td>November 16</td>\n      <td>2017</td>\n    </tr>\n    <tr>\n      <th>4</th>\n      <td>s5</td>\n      <td>Movie</td>\n      <td>21</td>\n      <td>Robert Luketic</td>\n      <td>Jim Sturgess, Kevin Spacey, Kate Bosworth, Aar...</td>\n      <td>United States</td>\n      <td>January 1, 2020</td>\n      <td>2008</td>\n      <td>PG-13</td>\n      <td>123 min</td>\n      <td>Dramas</td>\n      <td>A brilliant group of students become card-coun...</td>\n      <td>2020-01-01</td>\n      <td>2020-01-01</td>\n      <td>January 1</td>\n      <td>2020</td>\n    </tr>\n    <tr>\n      <th>...</th>\n      <td>...</td>\n      <td>...</td>\n      <td>...</td>\n      <td>...</td>\n      <td>...</td>\n      <td>...</td>\n      <td>...</td>\n      <td>...</td>\n      <td>...</td>\n      <td>...</td>\n      <td>...</td>\n      <td>...</td>\n      <td>...</td>\n      <td>...</td>\n      <td>...</td>\n      <td>...</td>\n    </tr>\n    <tr>\n      <th>7782</th>\n      <td>s7783</td>\n      <td>Movie</td>\n      <td>Zozo</td>\n      <td>Josef Fares</td>\n      <td>Imad Creidi, Antoinette Turk, Elias Gergi, Car...</td>\n      <td>Sweden, Czech Republic, United Kingdom, Denmar...</td>\n      <td>October 19, 2020</td>\n      <td>2005</td>\n      <td>TV-MA</td>\n      <td>99 min</td>\n      <td>Dramas, International Movies</td>\n      <td>When Lebanon's Civil War deprives Zozo of his ...</td>\n      <td>2020-10-19</td>\n      <td>2020-10-19</td>\n      <td>October 19</td>\n      <td>2020</td>\n    </tr>\n    <tr>\n      <th>7783</th>\n      <td>s7784</td>\n      <td>Movie</td>\n      <td>Zubaan</td>\n      <td>Mozez Singh</td>\n      <td>Vicky Kaushal, Sarah-Jane Dias, Raaghav Chanan...</td>\n      <td>India</td>\n      <td>March 2, 2019</td>\n      <td>2015</td>\n      <td>TV-14</td>\n      <td>111 min</td>\n      <td>Dramas, International Movies, Music &amp; Musicals</td>\n      <td>A scrappy but poor boy worms his way into a ty...</td>\n      <td>2019-03-02</td>\n      <td>2019-03-02</td>\n      <td>March 2</td>\n      <td>2019</td>\n    </tr>\n    <tr>\n      <th>7784</th>\n      <td>s7785</td>\n      <td>Movie</td>\n      <td>Zulu Man in Japan</td>\n      <td>NaN</td>\n      <td>Nasty C</td>\n      <td>NaN</td>\n      <td>September 25, 2020</td>\n      <td>2019</td>\n      <td>TV-MA</td>\n      <td>44 min</td>\n      <td>Documentaries, International Movies, Music &amp; M...</td>\n      <td>In this documentary, South African rapper Nast...</td>\n      <td>2020-09-25</td>\n      <td>2020-09-25</td>\n      <td>September 25</td>\n      <td>2020</td>\n    </tr>\n    <tr>\n      <th>7785</th>\n      <td>s7786</td>\n      <td>TV Show</td>\n      <td>Zumbo's Just Desserts</td>\n      <td>NaN</td>\n      <td>Adriano Zumbo, Rachel Khoo</td>\n      <td>Australia</td>\n      <td>October 31, 2020</td>\n      <td>2019</td>\n      <td>TV-PG</td>\n      <td>1 Season</td>\n      <td>International TV Shows, Reality TV</td>\n      <td>Dessert wizard Adriano Zumbo looks for the nex...</td>\n      <td>2020-10-31</td>\n      <td>2020-10-31</td>\n      <td>October 31</td>\n      <td>2020</td>\n    </tr>\n    <tr>\n      <th>7786</th>\n      <td>s7787</td>\n      <td>Movie</td>\n      <td>ZZ TOP: THAT LITTLE OL' BAND FROM TEXAS</td>\n      <td>Sam Dunn</td>\n      <td>no cast</td>\n      <td>United Kingdom, Canada, United States</td>\n      <td>March 1, 2020</td>\n      <td>2019</td>\n      <td>TV-MA</td>\n      <td>90 min</td>\n      <td>Documentaries, Music &amp; Musicals</td>\n      <td>This documentary delves into the mystique behi...</td>\n      <td>2020-03-01</td>\n      <td>2020-03-01</td>\n      <td>March 1</td>\n      <td>2020</td>\n    </tr>\n  </tbody>\n</table>\n<p>7787 rows × 16 columns</p>\n</div>"
     },
     "metadata": {},
     "execution_count": 30
    }
   ],
   "source": [
    "netflix"
   ]
  },
  {
   "cell_type": "code",
   "execution_count": 123,
   "metadata": {},
   "outputs": [
    {
     "output_type": "execute_result",
     "data": {
      "text/plain": [
       "213626"
      ]
     },
     "metadata": {},
     "execution_count": 123
    }
   ],
   "source": [
    "the_adder= lambda x:x+210101\n",
    "the_adder(3525)"
   ]
  },
  {
   "cell_type": "code",
   "execution_count": 31,
   "metadata": {},
   "outputs": [
    {
     "output_type": "execute_result",
     "data": {
      "text/plain": [
       "     show_id     type                                    title  \\\n",
       "0         s1  TV Show                                       3%   \n",
       "1         s2    Movie                                     7:19   \n",
       "2         s3    Movie                                    23:59   \n",
       "3         s4    Movie                                        9   \n",
       "4         s5    Movie                                       21   \n",
       "...      ...      ...                                      ...   \n",
       "7782   s7783    Movie                                     Zozo   \n",
       "7783   s7784    Movie                                   Zubaan   \n",
       "7784   s7785    Movie                        Zulu Man in Japan   \n",
       "7785   s7786  TV Show                    Zumbo's Just Desserts   \n",
       "7786   s7787    Movie  ZZ TOP: THAT LITTLE OL' BAND FROM TEXAS   \n",
       "\n",
       "               director                                               cast  \\\n",
       "0                   NaN  João Miguel, Bianca Comparato, Michel Gomes, R...   \n",
       "1     Jorge Michel Grau  Demián Bichir, Héctor Bonilla, Oscar Serrano, ...   \n",
       "2          Gilbert Chan  Tedd Chan, Stella Chung, Henley Hii, Lawrence ...   \n",
       "3           Shane Acker  Elijah Wood, John C. Reilly, Jennifer Connelly...   \n",
       "4        Robert Luketic  Jim Sturgess, Kevin Spacey, Kate Bosworth, Aar...   \n",
       "...                 ...                                                ...   \n",
       "7782        Josef Fares  Imad Creidi, Antoinette Turk, Elias Gergi, Car...   \n",
       "7783        Mozez Singh  Vicky Kaushal, Sarah-Jane Dias, Raaghav Chanan...   \n",
       "7784                NaN                                            Nasty C   \n",
       "7785                NaN                         Adriano Zumbo, Rachel Khoo   \n",
       "7786           Sam Dunn                                            no cast   \n",
       "\n",
       "                                                country          date_added  \\\n",
       "0                                                Brazil     August 14, 2020   \n",
       "1                                                Mexico   December 23, 2016   \n",
       "2                                             Singapore   December 20, 2018   \n",
       "3                                         United States   November 16, 2017   \n",
       "4                                         United States     January 1, 2020   \n",
       "...                                                 ...                 ...   \n",
       "7782  Sweden, Czech Republic, United Kingdom, Denmar...    October 19, 2020   \n",
       "7783                                              India       March 2, 2019   \n",
       "7784                                                NaN  September 25, 2020   \n",
       "7785                                          Australia    October 31, 2020   \n",
       "7786              United Kingdom, Canada, United States       March 1, 2020   \n",
       "\n",
       "      release_year rating   duration  \\\n",
       "0             2020  TV-MA  4 Seasons   \n",
       "1             2016  TV-MA     93 min   \n",
       "2             2011      R     78 min   \n",
       "3             2009  PG-13     80 min   \n",
       "4             2008  PG-13    123 min   \n",
       "...            ...    ...        ...   \n",
       "7782          2005  TV-MA     99 min   \n",
       "7783          2015  TV-14    111 min   \n",
       "7784          2019  TV-MA     44 min   \n",
       "7785          2019  TV-PG   1 Season   \n",
       "7786          2019  TV-MA     90 min   \n",
       "\n",
       "                                              listed_in  \\\n",
       "0     International TV Shows, TV Dramas, TV Sci-Fi &...   \n",
       "1                          Dramas, International Movies   \n",
       "2                   Horror Movies, International Movies   \n",
       "3     Action & Adventure, Independent Movies, Sci-Fi...   \n",
       "4                                                Dramas   \n",
       "...                                                 ...   \n",
       "7782                       Dramas, International Movies   \n",
       "7783     Dramas, International Movies, Music & Musicals   \n",
       "7784  Documentaries, International Movies, Music & M...   \n",
       "7785                 International TV Shows, Reality TV   \n",
       "7786                    Documentaries, Music & Musicals   \n",
       "\n",
       "                                            description computer_date  \\\n",
       "0     In a future where the elite inhabit an island ...    2020-08-14   \n",
       "1     After a devastating earthquake hits Mexico Cit...    2016-12-23   \n",
       "2     When an army recruit is found dead, his fellow...    2018-12-20   \n",
       "3     In a postapocalyptic world, rag-doll robots hi...    2017-11-16   \n",
       "4     A brilliant group of students become card-coun...    2020-01-01   \n",
       "...                                                 ...           ...   \n",
       "7782  When Lebanon's Civil War deprives Zozo of his ...    2020-10-19   \n",
       "7783  A scrappy but poor boy worms his way into a ty...    2019-03-02   \n",
       "7784  In this documentary, South African rapper Nast...    2020-09-25   \n",
       "7785  Dessert wizard Adriano Zumbo looks for the nex...    2020-10-31   \n",
       "7786  This documentary delves into the mystique behi...    2020-03-01   \n",
       "\n",
       "      unix_time   Date Part 1 Date Part 2  genre_count  \n",
       "0    2020-08-14     August 14        2020            3  \n",
       "1    2016-12-23   December 23        2016            2  \n",
       "2    2018-12-20   December 20        2018            2  \n",
       "3    2017-11-16   November 16        2017            3  \n",
       "4    2020-01-01     January 1        2020            1  \n",
       "...         ...           ...         ...          ...  \n",
       "7782 2020-10-19    October 19        2020            2  \n",
       "7783 2019-03-02       March 2        2019            3  \n",
       "7784 2020-09-25  September 25        2020            3  \n",
       "7785 2020-10-31    October 31        2020            2  \n",
       "7786 2020-03-01       March 1        2020            2  \n",
       "\n",
       "[7787 rows x 17 columns]"
      ],
      "text/html": "<div>\n<style scoped>\n    .dataframe tbody tr th:only-of-type {\n        vertical-align: middle;\n    }\n\n    .dataframe tbody tr th {\n        vertical-align: top;\n    }\n\n    .dataframe thead th {\n        text-align: right;\n    }\n</style>\n<table border=\"1\" class=\"dataframe\">\n  <thead>\n    <tr style=\"text-align: right;\">\n      <th></th>\n      <th>show_id</th>\n      <th>type</th>\n      <th>title</th>\n      <th>director</th>\n      <th>cast</th>\n      <th>country</th>\n      <th>date_added</th>\n      <th>release_year</th>\n      <th>rating</th>\n      <th>duration</th>\n      <th>listed_in</th>\n      <th>description</th>\n      <th>computer_date</th>\n      <th>unix_time</th>\n      <th>Date Part 1</th>\n      <th>Date Part 2</th>\n      <th>genre_count</th>\n    </tr>\n  </thead>\n  <tbody>\n    <tr>\n      <th>0</th>\n      <td>s1</td>\n      <td>TV Show</td>\n      <td>3%</td>\n      <td>NaN</td>\n      <td>João Miguel, Bianca Comparato, Michel Gomes, R...</td>\n      <td>Brazil</td>\n      <td>August 14, 2020</td>\n      <td>2020</td>\n      <td>TV-MA</td>\n      <td>4 Seasons</td>\n      <td>International TV Shows, TV Dramas, TV Sci-Fi &amp;...</td>\n      <td>In a future where the elite inhabit an island ...</td>\n      <td>2020-08-14</td>\n      <td>2020-08-14</td>\n      <td>August 14</td>\n      <td>2020</td>\n      <td>3</td>\n    </tr>\n    <tr>\n      <th>1</th>\n      <td>s2</td>\n      <td>Movie</td>\n      <td>7:19</td>\n      <td>Jorge Michel Grau</td>\n      <td>Demián Bichir, Héctor Bonilla, Oscar Serrano, ...</td>\n      <td>Mexico</td>\n      <td>December 23, 2016</td>\n      <td>2016</td>\n      <td>TV-MA</td>\n      <td>93 min</td>\n      <td>Dramas, International Movies</td>\n      <td>After a devastating earthquake hits Mexico Cit...</td>\n      <td>2016-12-23</td>\n      <td>2016-12-23</td>\n      <td>December 23</td>\n      <td>2016</td>\n      <td>2</td>\n    </tr>\n    <tr>\n      <th>2</th>\n      <td>s3</td>\n      <td>Movie</td>\n      <td>23:59</td>\n      <td>Gilbert Chan</td>\n      <td>Tedd Chan, Stella Chung, Henley Hii, Lawrence ...</td>\n      <td>Singapore</td>\n      <td>December 20, 2018</td>\n      <td>2011</td>\n      <td>R</td>\n      <td>78 min</td>\n      <td>Horror Movies, International Movies</td>\n      <td>When an army recruit is found dead, his fellow...</td>\n      <td>2018-12-20</td>\n      <td>2018-12-20</td>\n      <td>December 20</td>\n      <td>2018</td>\n      <td>2</td>\n    </tr>\n    <tr>\n      <th>3</th>\n      <td>s4</td>\n      <td>Movie</td>\n      <td>9</td>\n      <td>Shane Acker</td>\n      <td>Elijah Wood, John C. Reilly, Jennifer Connelly...</td>\n      <td>United States</td>\n      <td>November 16, 2017</td>\n      <td>2009</td>\n      <td>PG-13</td>\n      <td>80 min</td>\n      <td>Action &amp; Adventure, Independent Movies, Sci-Fi...</td>\n      <td>In a postapocalyptic world, rag-doll robots hi...</td>\n      <td>2017-11-16</td>\n      <td>2017-11-16</td>\n      <td>November 16</td>\n      <td>2017</td>\n      <td>3</td>\n    </tr>\n    <tr>\n      <th>4</th>\n      <td>s5</td>\n      <td>Movie</td>\n      <td>21</td>\n      <td>Robert Luketic</td>\n      <td>Jim Sturgess, Kevin Spacey, Kate Bosworth, Aar...</td>\n      <td>United States</td>\n      <td>January 1, 2020</td>\n      <td>2008</td>\n      <td>PG-13</td>\n      <td>123 min</td>\n      <td>Dramas</td>\n      <td>A brilliant group of students become card-coun...</td>\n      <td>2020-01-01</td>\n      <td>2020-01-01</td>\n      <td>January 1</td>\n      <td>2020</td>\n      <td>1</td>\n    </tr>\n    <tr>\n      <th>...</th>\n      <td>...</td>\n      <td>...</td>\n      <td>...</td>\n      <td>...</td>\n      <td>...</td>\n      <td>...</td>\n      <td>...</td>\n      <td>...</td>\n      <td>...</td>\n      <td>...</td>\n      <td>...</td>\n      <td>...</td>\n      <td>...</td>\n      <td>...</td>\n      <td>...</td>\n      <td>...</td>\n      <td>...</td>\n    </tr>\n    <tr>\n      <th>7782</th>\n      <td>s7783</td>\n      <td>Movie</td>\n      <td>Zozo</td>\n      <td>Josef Fares</td>\n      <td>Imad Creidi, Antoinette Turk, Elias Gergi, Car...</td>\n      <td>Sweden, Czech Republic, United Kingdom, Denmar...</td>\n      <td>October 19, 2020</td>\n      <td>2005</td>\n      <td>TV-MA</td>\n      <td>99 min</td>\n      <td>Dramas, International Movies</td>\n      <td>When Lebanon's Civil War deprives Zozo of his ...</td>\n      <td>2020-10-19</td>\n      <td>2020-10-19</td>\n      <td>October 19</td>\n      <td>2020</td>\n      <td>2</td>\n    </tr>\n    <tr>\n      <th>7783</th>\n      <td>s7784</td>\n      <td>Movie</td>\n      <td>Zubaan</td>\n      <td>Mozez Singh</td>\n      <td>Vicky Kaushal, Sarah-Jane Dias, Raaghav Chanan...</td>\n      <td>India</td>\n      <td>March 2, 2019</td>\n      <td>2015</td>\n      <td>TV-14</td>\n      <td>111 min</td>\n      <td>Dramas, International Movies, Music &amp; Musicals</td>\n      <td>A scrappy but poor boy worms his way into a ty...</td>\n      <td>2019-03-02</td>\n      <td>2019-03-02</td>\n      <td>March 2</td>\n      <td>2019</td>\n      <td>3</td>\n    </tr>\n    <tr>\n      <th>7784</th>\n      <td>s7785</td>\n      <td>Movie</td>\n      <td>Zulu Man in Japan</td>\n      <td>NaN</td>\n      <td>Nasty C</td>\n      <td>NaN</td>\n      <td>September 25, 2020</td>\n      <td>2019</td>\n      <td>TV-MA</td>\n      <td>44 min</td>\n      <td>Documentaries, International Movies, Music &amp; M...</td>\n      <td>In this documentary, South African rapper Nast...</td>\n      <td>2020-09-25</td>\n      <td>2020-09-25</td>\n      <td>September 25</td>\n      <td>2020</td>\n      <td>3</td>\n    </tr>\n    <tr>\n      <th>7785</th>\n      <td>s7786</td>\n      <td>TV Show</td>\n      <td>Zumbo's Just Desserts</td>\n      <td>NaN</td>\n      <td>Adriano Zumbo, Rachel Khoo</td>\n      <td>Australia</td>\n      <td>October 31, 2020</td>\n      <td>2019</td>\n      <td>TV-PG</td>\n      <td>1 Season</td>\n      <td>International TV Shows, Reality TV</td>\n      <td>Dessert wizard Adriano Zumbo looks for the nex...</td>\n      <td>2020-10-31</td>\n      <td>2020-10-31</td>\n      <td>October 31</td>\n      <td>2020</td>\n      <td>2</td>\n    </tr>\n    <tr>\n      <th>7786</th>\n      <td>s7787</td>\n      <td>Movie</td>\n      <td>ZZ TOP: THAT LITTLE OL' BAND FROM TEXAS</td>\n      <td>Sam Dunn</td>\n      <td>no cast</td>\n      <td>United Kingdom, Canada, United States</td>\n      <td>March 1, 2020</td>\n      <td>2019</td>\n      <td>TV-MA</td>\n      <td>90 min</td>\n      <td>Documentaries, Music &amp; Musicals</td>\n      <td>This documentary delves into the mystique behi...</td>\n      <td>2020-03-01</td>\n      <td>2020-03-01</td>\n      <td>March 1</td>\n      <td>2020</td>\n      <td>2</td>\n    </tr>\n  </tbody>\n</table>\n<p>7787 rows × 17 columns</p>\n</div>"
     },
     "metadata": {},
     "execution_count": 31
    }
   ],
   "source": [
    "netflix[\"genre_count\"]=netflix[\"listed_in\"].map(lambda x: len(x.split(\",\")))\n",
    "netflix"
   ]
  },
  {
   "source": [
    "Groupby"
   ],
   "cell_type": "markdown",
   "metadata": {}
  },
  {
   "cell_type": "code",
   "execution_count": 34,
   "metadata": {},
   "outputs": [
    {
     "output_type": "execute_result",
     "data": {
      "text/plain": [
       "                                               country  show_id\n",
       "0                                            Argentina       50\n",
       "1    Argentina, Brazil, France, Poland, Germany, De...        1\n",
       "2                                     Argentina, Chile        1\n",
       "3                               Argentina, Chile, Peru        1\n",
       "4                                    Argentina, France        1\n",
       "..                                                 ...      ...\n",
       "676                                          Venezuela        1\n",
       "677                                Venezuela, Colombia        1\n",
       "678                                            Vietnam        5\n",
       "679                                       West Germany        1\n",
       "680                                           Zimbabwe        1\n",
       "\n",
       "[681 rows x 2 columns]"
      ],
      "text/html": "<div>\n<style scoped>\n    .dataframe tbody tr th:only-of-type {\n        vertical-align: middle;\n    }\n\n    .dataframe tbody tr th {\n        vertical-align: top;\n    }\n\n    .dataframe thead th {\n        text-align: right;\n    }\n</style>\n<table border=\"1\" class=\"dataframe\">\n  <thead>\n    <tr style=\"text-align: right;\">\n      <th></th>\n      <th>country</th>\n      <th>show_id</th>\n    </tr>\n  </thead>\n  <tbody>\n    <tr>\n      <th>0</th>\n      <td>Argentina</td>\n      <td>50</td>\n    </tr>\n    <tr>\n      <th>1</th>\n      <td>Argentina, Brazil, France, Poland, Germany, De...</td>\n      <td>1</td>\n    </tr>\n    <tr>\n      <th>2</th>\n      <td>Argentina, Chile</td>\n      <td>1</td>\n    </tr>\n    <tr>\n      <th>3</th>\n      <td>Argentina, Chile, Peru</td>\n      <td>1</td>\n    </tr>\n    <tr>\n      <th>4</th>\n      <td>Argentina, France</td>\n      <td>1</td>\n    </tr>\n    <tr>\n      <th>...</th>\n      <td>...</td>\n      <td>...</td>\n    </tr>\n    <tr>\n      <th>676</th>\n      <td>Venezuela</td>\n      <td>1</td>\n    </tr>\n    <tr>\n      <th>677</th>\n      <td>Venezuela, Colombia</td>\n      <td>1</td>\n    </tr>\n    <tr>\n      <th>678</th>\n      <td>Vietnam</td>\n      <td>5</td>\n    </tr>\n    <tr>\n      <th>679</th>\n      <td>West Germany</td>\n      <td>1</td>\n    </tr>\n    <tr>\n      <th>680</th>\n      <td>Zimbabwe</td>\n      <td>1</td>\n    </tr>\n  </tbody>\n</table>\n<p>681 rows × 2 columns</p>\n</div>"
     },
     "metadata": {},
     "execution_count": 34
    }
   ],
   "source": [
    "netflix_movies_by_country=netflix.groupby(\"country\")[\"show_id\"].count().reset_index()\n",
    "netflix_movies_by_country"
   ]
  },
  {
   "cell_type": "code",
   "execution_count": 35,
   "metadata": {},
   "outputs": [
    {
     "output_type": "execute_result",
     "data": {
      "text/plain": [
       "                               country  show_id\n",
       "549                      United States     2555\n",
       "229                              India      923\n",
       "462                     United Kingdom      397\n",
       "291                              Japan      226\n",
       "394                        South Korea      183\n",
       "..                                 ...      ...\n",
       "252  Indonesia, South Korea, Singapore        1\n",
       "253          Indonesia, United Kingdom        1\n",
       "254           Indonesia, United States        1\n",
       "255                       Iran, France        1\n",
       "680                           Zimbabwe        1\n",
       "\n",
       "[681 rows x 2 columns]"
      ],
      "text/html": "<div>\n<style scoped>\n    .dataframe tbody tr th:only-of-type {\n        vertical-align: middle;\n    }\n\n    .dataframe tbody tr th {\n        vertical-align: top;\n    }\n\n    .dataframe thead th {\n        text-align: right;\n    }\n</style>\n<table border=\"1\" class=\"dataframe\">\n  <thead>\n    <tr style=\"text-align: right;\">\n      <th></th>\n      <th>country</th>\n      <th>show_id</th>\n    </tr>\n  </thead>\n  <tbody>\n    <tr>\n      <th>549</th>\n      <td>United States</td>\n      <td>2555</td>\n    </tr>\n    <tr>\n      <th>229</th>\n      <td>India</td>\n      <td>923</td>\n    </tr>\n    <tr>\n      <th>462</th>\n      <td>United Kingdom</td>\n      <td>397</td>\n    </tr>\n    <tr>\n      <th>291</th>\n      <td>Japan</td>\n      <td>226</td>\n    </tr>\n    <tr>\n      <th>394</th>\n      <td>South Korea</td>\n      <td>183</td>\n    </tr>\n    <tr>\n      <th>...</th>\n      <td>...</td>\n      <td>...</td>\n    </tr>\n    <tr>\n      <th>252</th>\n      <td>Indonesia, South Korea, Singapore</td>\n      <td>1</td>\n    </tr>\n    <tr>\n      <th>253</th>\n      <td>Indonesia, United Kingdom</td>\n      <td>1</td>\n    </tr>\n    <tr>\n      <th>254</th>\n      <td>Indonesia, United States</td>\n      <td>1</td>\n    </tr>\n    <tr>\n      <th>255</th>\n      <td>Iran, France</td>\n      <td>1</td>\n    </tr>\n    <tr>\n      <th>680</th>\n      <td>Zimbabwe</td>\n      <td>1</td>\n    </tr>\n  </tbody>\n</table>\n<p>681 rows × 2 columns</p>\n</div>"
     },
     "metadata": {},
     "execution_count": 35
    }
   ],
   "source": [
    "netflix_movies_by_country.sort_values(by=\"show_id\",ascending=False)"
   ]
  },
  {
   "source": [
    "Join and Union"
   ],
   "cell_type": "markdown",
   "metadata": {}
  },
  {
   "cell_type": "code",
   "execution_count": 37,
   "metadata": {},
   "outputs": [
    {
     "output_type": "execute_result",
     "data": {
      "text/plain": [
       "    show_id     type                             title           director  \\\n",
       "0        s1  TV Show                                3%                NaN   \n",
       "1        s2    Movie                              7:19  Jorge Michel Grau   \n",
       "2        s3    Movie                             23:59       Gilbert Chan   \n",
       "3        s4    Movie                                 9        Shane Acker   \n",
       "4        s5    Movie                                21     Robert Luketic   \n",
       "..      ...      ...                               ...                ...   \n",
       "349    s350  TV Show  Ainori Love Wagon: Asian Journey                NaN   \n",
       "350    s351  TV Show          Ainsley Eats the Streets                NaN   \n",
       "351    s352    Movie                        Ainu Mosir   Takeshi Fukunaga   \n",
       "352    s353    Movie                     Airplane Mode    César Rodrigues   \n",
       "353    s354    Movie                   Aisa Yeh Jahaan     Biswajeet Bora   \n",
       "\n",
       "                                                  cast               country  \\\n",
       "0    João Miguel, Bianca Comparato, Michel Gomes, R...                Brazil   \n",
       "1    Demián Bichir, Héctor Bonilla, Oscar Serrano, ...                Mexico   \n",
       "2    Tedd Chan, Stella Chung, Henley Hii, Lawrence ...             Singapore   \n",
       "3    Elijah Wood, John C. Reilly, Jennifer Connelly...         United States   \n",
       "4    Jim Sturgess, Kevin Spacey, Kate Bosworth, Aar...         United States   \n",
       "..                                                 ...                   ...   \n",
       "349       Becky, Audrey, Mayuko Kawakita, Shimon Okura                 Japan   \n",
       "350                                   Ainsley Harriott        United Kingdom   \n",
       "351  Kanto Shimokura, Debo Akibe, Emi Shimokura, To...  United States, Japan   \n",
       "352  Larissa Manoela, André Luiz Frambach, Erasmo C...         United States   \n",
       "353  Palash Sen, Ira Dubey, Yashpal Sharma, Tinnu A...                 India   \n",
       "\n",
       "    date_added  release_year rating   duration  \\\n",
       "0    14-Aug-20          2020  TV-MA  4 Seasons   \n",
       "1    23-Dec-16          2016  TV-MA     93 min   \n",
       "2    20-Dec-18          2011      R     78 min   \n",
       "3    16-Nov-17          2009  PG-13     80 min   \n",
       "4     1-Jan-20          2008  PG-13    123 min   \n",
       "..         ...           ...    ...        ...   \n",
       "349  28-Mar-19          2018  TV-MA  2 Seasons   \n",
       "350  12-Jul-19          2014  TV-PG   1 Season   \n",
       "351  17-Nov-20          2020  TV-PG     84 min   \n",
       "352  23-Jan-20          2020  TV-PG     97 min   \n",
       "353  15-Oct-17          2015  TV-14    127 min   \n",
       "\n",
       "                                             listed_in  \\\n",
       "0    International TV Shows, TV Dramas, TV Sci-Fi &...   \n",
       "1                         Dramas, International Movies   \n",
       "2                  Horror Movies, International Movies   \n",
       "3    Action & Adventure, Independent Movies, Sci-Fi...   \n",
       "4                                               Dramas   \n",
       "..                                                 ...   \n",
       "349  International TV Shows, Reality TV, Romantic T...   \n",
       "350  British TV Shows, Docuseries, International TV...   \n",
       "351                       Dramas, International Movies   \n",
       "352    Comedies, International Movies, Romantic Movies   \n",
       "353   Dramas, Independent Movies, International Movies   \n",
       "\n",
       "                                           description  \n",
       "0    In a future where the elite inhabit an island ...  \n",
       "1    After a devastating earthquake hits Mexico Cit...  \n",
       "2    When an army recruit is found dead, his fellow...  \n",
       "3    In a postapocalyptic world, rag-doll robots hi...  \n",
       "4    A brilliant group of students become card-coun...  \n",
       "..                                                 ...  \n",
       "349  Seven men and women board a pink bus in search...  \n",
       "350  Celebrity chef Ainsley Harriott embarks on a j...  \n",
       "351  A sensitive Ainu teen searches for a spiritual...  \n",
       "352  When Ana, an influencer, crashes her car while...  \n",
       "353  During a vacation with her parents, away from ...  \n",
       "\n",
       "[354 rows x 12 columns]"
      ],
      "text/html": "<div>\n<style scoped>\n    .dataframe tbody tr th:only-of-type {\n        vertical-align: middle;\n    }\n\n    .dataframe tbody tr th {\n        vertical-align: top;\n    }\n\n    .dataframe thead th {\n        text-align: right;\n    }\n</style>\n<table border=\"1\" class=\"dataframe\">\n  <thead>\n    <tr style=\"text-align: right;\">\n      <th></th>\n      <th>show_id</th>\n      <th>type</th>\n      <th>title</th>\n      <th>director</th>\n      <th>cast</th>\n      <th>country</th>\n      <th>date_added</th>\n      <th>release_year</th>\n      <th>rating</th>\n      <th>duration</th>\n      <th>listed_in</th>\n      <th>description</th>\n    </tr>\n  </thead>\n  <tbody>\n    <tr>\n      <th>0</th>\n      <td>s1</td>\n      <td>TV Show</td>\n      <td>3%</td>\n      <td>NaN</td>\n      <td>João Miguel, Bianca Comparato, Michel Gomes, R...</td>\n      <td>Brazil</td>\n      <td>14-Aug-20</td>\n      <td>2020</td>\n      <td>TV-MA</td>\n      <td>4 Seasons</td>\n      <td>International TV Shows, TV Dramas, TV Sci-Fi &amp;...</td>\n      <td>In a future where the elite inhabit an island ...</td>\n    </tr>\n    <tr>\n      <th>1</th>\n      <td>s2</td>\n      <td>Movie</td>\n      <td>7:19</td>\n      <td>Jorge Michel Grau</td>\n      <td>Demián Bichir, Héctor Bonilla, Oscar Serrano, ...</td>\n      <td>Mexico</td>\n      <td>23-Dec-16</td>\n      <td>2016</td>\n      <td>TV-MA</td>\n      <td>93 min</td>\n      <td>Dramas, International Movies</td>\n      <td>After a devastating earthquake hits Mexico Cit...</td>\n    </tr>\n    <tr>\n      <th>2</th>\n      <td>s3</td>\n      <td>Movie</td>\n      <td>23:59</td>\n      <td>Gilbert Chan</td>\n      <td>Tedd Chan, Stella Chung, Henley Hii, Lawrence ...</td>\n      <td>Singapore</td>\n      <td>20-Dec-18</td>\n      <td>2011</td>\n      <td>R</td>\n      <td>78 min</td>\n      <td>Horror Movies, International Movies</td>\n      <td>When an army recruit is found dead, his fellow...</td>\n    </tr>\n    <tr>\n      <th>3</th>\n      <td>s4</td>\n      <td>Movie</td>\n      <td>9</td>\n      <td>Shane Acker</td>\n      <td>Elijah Wood, John C. Reilly, Jennifer Connelly...</td>\n      <td>United States</td>\n      <td>16-Nov-17</td>\n      <td>2009</td>\n      <td>PG-13</td>\n      <td>80 min</td>\n      <td>Action &amp; Adventure, Independent Movies, Sci-Fi...</td>\n      <td>In a postapocalyptic world, rag-doll robots hi...</td>\n    </tr>\n    <tr>\n      <th>4</th>\n      <td>s5</td>\n      <td>Movie</td>\n      <td>21</td>\n      <td>Robert Luketic</td>\n      <td>Jim Sturgess, Kevin Spacey, Kate Bosworth, Aar...</td>\n      <td>United States</td>\n      <td>1-Jan-20</td>\n      <td>2008</td>\n      <td>PG-13</td>\n      <td>123 min</td>\n      <td>Dramas</td>\n      <td>A brilliant group of students become card-coun...</td>\n    </tr>\n    <tr>\n      <th>...</th>\n      <td>...</td>\n      <td>...</td>\n      <td>...</td>\n      <td>...</td>\n      <td>...</td>\n      <td>...</td>\n      <td>...</td>\n      <td>...</td>\n      <td>...</td>\n      <td>...</td>\n      <td>...</td>\n      <td>...</td>\n    </tr>\n    <tr>\n      <th>349</th>\n      <td>s350</td>\n      <td>TV Show</td>\n      <td>Ainori Love Wagon: Asian Journey</td>\n      <td>NaN</td>\n      <td>Becky, Audrey, Mayuko Kawakita, Shimon Okura</td>\n      <td>Japan</td>\n      <td>28-Mar-19</td>\n      <td>2018</td>\n      <td>TV-MA</td>\n      <td>2 Seasons</td>\n      <td>International TV Shows, Reality TV, Romantic T...</td>\n      <td>Seven men and women board a pink bus in search...</td>\n    </tr>\n    <tr>\n      <th>350</th>\n      <td>s351</td>\n      <td>TV Show</td>\n      <td>Ainsley Eats the Streets</td>\n      <td>NaN</td>\n      <td>Ainsley Harriott</td>\n      <td>United Kingdom</td>\n      <td>12-Jul-19</td>\n      <td>2014</td>\n      <td>TV-PG</td>\n      <td>1 Season</td>\n      <td>British TV Shows, Docuseries, International TV...</td>\n      <td>Celebrity chef Ainsley Harriott embarks on a j...</td>\n    </tr>\n    <tr>\n      <th>351</th>\n      <td>s352</td>\n      <td>Movie</td>\n      <td>Ainu Mosir</td>\n      <td>Takeshi Fukunaga</td>\n      <td>Kanto Shimokura, Debo Akibe, Emi Shimokura, To...</td>\n      <td>United States, Japan</td>\n      <td>17-Nov-20</td>\n      <td>2020</td>\n      <td>TV-PG</td>\n      <td>84 min</td>\n      <td>Dramas, International Movies</td>\n      <td>A sensitive Ainu teen searches for a spiritual...</td>\n    </tr>\n    <tr>\n      <th>352</th>\n      <td>s353</td>\n      <td>Movie</td>\n      <td>Airplane Mode</td>\n      <td>César Rodrigues</td>\n      <td>Larissa Manoela, André Luiz Frambach, Erasmo C...</td>\n      <td>United States</td>\n      <td>23-Jan-20</td>\n      <td>2020</td>\n      <td>TV-PG</td>\n      <td>97 min</td>\n      <td>Comedies, International Movies, Romantic Movies</td>\n      <td>When Ana, an influencer, crashes her car while...</td>\n    </tr>\n    <tr>\n      <th>353</th>\n      <td>s354</td>\n      <td>Movie</td>\n      <td>Aisa Yeh Jahaan</td>\n      <td>Biswajeet Bora</td>\n      <td>Palash Sen, Ira Dubey, Yashpal Sharma, Tinnu A...</td>\n      <td>India</td>\n      <td>15-Oct-17</td>\n      <td>2015</td>\n      <td>TV-14</td>\n      <td>127 min</td>\n      <td>Dramas, Independent Movies, International Movies</td>\n      <td>During a vacation with her parents, away from ...</td>\n    </tr>\n  </tbody>\n</table>\n<p>354 rows × 12 columns</p>\n</div>"
     },
     "metadata": {},
     "execution_count": 37
    }
   ],
   "source": [
    "second_dataset=pd.read_csv(pwd+\"/netflix_titles_second.csv\")\n",
    "second_dataset"
   ]
  },
  {
   "cell_type": "code",
   "execution_count": 39,
   "metadata": {},
   "outputs": [
    {
     "output_type": "execute_result",
     "data": {
      "text/plain": [
       "    show_id     type                             title           director  \\\n",
       "0        s1  TV Show                                3%                NaN   \n",
       "1        s2    Movie                              7:19  Jorge Michel Grau   \n",
       "2        s3    Movie                             23:59       Gilbert Chan   \n",
       "3        s4    Movie                                 9        Shane Acker   \n",
       "4        s5    Movie                                21     Robert Luketic   \n",
       "..      ...      ...                               ...                ...   \n",
       "349    s350  TV Show  Ainori Love Wagon: Asian Journey                NaN   \n",
       "350    s351  TV Show          Ainsley Eats the Streets                NaN   \n",
       "351    s352    Movie                        Ainu Mosir   Takeshi Fukunaga   \n",
       "352    s353    Movie                     Airplane Mode    César Rodrigues   \n",
       "353    s354    Movie                   Aisa Yeh Jahaan     Biswajeet Bora   \n",
       "\n",
       "                                                  cast               country  \\\n",
       "0    João Miguel, Bianca Comparato, Michel Gomes, R...                Brazil   \n",
       "1    Demián Bichir, Héctor Bonilla, Oscar Serrano, ...                Mexico   \n",
       "2    Tedd Chan, Stella Chung, Henley Hii, Lawrence ...             Singapore   \n",
       "3    Elijah Wood, John C. Reilly, Jennifer Connelly...         United States   \n",
       "4    Jim Sturgess, Kevin Spacey, Kate Bosworth, Aar...         United States   \n",
       "..                                                 ...                   ...   \n",
       "349       Becky, Audrey, Mayuko Kawakita, Shimon Okura                 Japan   \n",
       "350                                   Ainsley Harriott        United Kingdom   \n",
       "351  Kanto Shimokura, Debo Akibe, Emi Shimokura, To...  United States, Japan   \n",
       "352  Larissa Manoela, André Luiz Frambach, Erasmo C...         United States   \n",
       "353  Palash Sen, Ira Dubey, Yashpal Sharma, Tinnu A...                 India   \n",
       "\n",
       "            date_added  release_year rating   duration  \\\n",
       "0      August 14, 2020          2020  TV-MA  4 Seasons   \n",
       "1    December 23, 2016          2016  TV-MA     93 min   \n",
       "2    December 20, 2018          2011      R     78 min   \n",
       "3    November 16, 2017          2009  PG-13     80 min   \n",
       "4      January 1, 2020          2008  PG-13    123 min   \n",
       "..                 ...           ...    ...        ...   \n",
       "349          28-Mar-19          2018  TV-MA  2 Seasons   \n",
       "350          12-Jul-19          2014  TV-PG   1 Season   \n",
       "351          17-Nov-20          2020  TV-PG     84 min   \n",
       "352          23-Jan-20          2020  TV-PG     97 min   \n",
       "353          15-Oct-17          2015  TV-14    127 min   \n",
       "\n",
       "                                             listed_in  \\\n",
       "0    International TV Shows, TV Dramas, TV Sci-Fi &...   \n",
       "1                         Dramas, International Movies   \n",
       "2                  Horror Movies, International Movies   \n",
       "3    Action & Adventure, Independent Movies, Sci-Fi...   \n",
       "4                                               Dramas   \n",
       "..                                                 ...   \n",
       "349  International TV Shows, Reality TV, Romantic T...   \n",
       "350  British TV Shows, Docuseries, International TV...   \n",
       "351                       Dramas, International Movies   \n",
       "352    Comedies, International Movies, Romantic Movies   \n",
       "353   Dramas, Independent Movies, International Movies   \n",
       "\n",
       "                                           description computer_date  \\\n",
       "0    In a future where the elite inhabit an island ...    2020-08-14   \n",
       "1    After a devastating earthquake hits Mexico Cit...    2016-12-23   \n",
       "2    When an army recruit is found dead, his fellow...    2018-12-20   \n",
       "3    In a postapocalyptic world, rag-doll robots hi...    2017-11-16   \n",
       "4    A brilliant group of students become card-coun...    2020-01-01   \n",
       "..                                                 ...           ...   \n",
       "349  Seven men and women board a pink bus in search...           NaT   \n",
       "350  Celebrity chef Ainsley Harriott embarks on a j...           NaT   \n",
       "351  A sensitive Ainu teen searches for a spiritual...           NaT   \n",
       "352  When Ana, an influencer, crashes her car while...           NaT   \n",
       "353  During a vacation with her parents, away from ...           NaT   \n",
       "\n",
       "     unix_time  Date Part 1 Date Part 2  genre_count  \n",
       "0   2020-08-14    August 14        2020          3.0  \n",
       "1   2016-12-23  December 23        2016          2.0  \n",
       "2   2018-12-20  December 20        2018          2.0  \n",
       "3   2017-11-16  November 16        2017          3.0  \n",
       "4   2020-01-01    January 1        2020          1.0  \n",
       "..         ...          ...         ...          ...  \n",
       "349        NaT          NaN         NaN          NaN  \n",
       "350        NaT          NaN         NaN          NaN  \n",
       "351        NaT          NaN         NaN          NaN  \n",
       "352        NaT          NaN         NaN          NaN  \n",
       "353        NaT          NaN         NaN          NaN  \n",
       "\n",
       "[8141 rows x 17 columns]"
      ],
      "text/html": "<div>\n<style scoped>\n    .dataframe tbody tr th:only-of-type {\n        vertical-align: middle;\n    }\n\n    .dataframe tbody tr th {\n        vertical-align: top;\n    }\n\n    .dataframe thead th {\n        text-align: right;\n    }\n</style>\n<table border=\"1\" class=\"dataframe\">\n  <thead>\n    <tr style=\"text-align: right;\">\n      <th></th>\n      <th>show_id</th>\n      <th>type</th>\n      <th>title</th>\n      <th>director</th>\n      <th>cast</th>\n      <th>country</th>\n      <th>date_added</th>\n      <th>release_year</th>\n      <th>rating</th>\n      <th>duration</th>\n      <th>listed_in</th>\n      <th>description</th>\n      <th>computer_date</th>\n      <th>unix_time</th>\n      <th>Date Part 1</th>\n      <th>Date Part 2</th>\n      <th>genre_count</th>\n    </tr>\n  </thead>\n  <tbody>\n    <tr>\n      <th>0</th>\n      <td>s1</td>\n      <td>TV Show</td>\n      <td>3%</td>\n      <td>NaN</td>\n      <td>João Miguel, Bianca Comparato, Michel Gomes, R...</td>\n      <td>Brazil</td>\n      <td>August 14, 2020</td>\n      <td>2020</td>\n      <td>TV-MA</td>\n      <td>4 Seasons</td>\n      <td>International TV Shows, TV Dramas, TV Sci-Fi &amp;...</td>\n      <td>In a future where the elite inhabit an island ...</td>\n      <td>2020-08-14</td>\n      <td>2020-08-14</td>\n      <td>August 14</td>\n      <td>2020</td>\n      <td>3.0</td>\n    </tr>\n    <tr>\n      <th>1</th>\n      <td>s2</td>\n      <td>Movie</td>\n      <td>7:19</td>\n      <td>Jorge Michel Grau</td>\n      <td>Demián Bichir, Héctor Bonilla, Oscar Serrano, ...</td>\n      <td>Mexico</td>\n      <td>December 23, 2016</td>\n      <td>2016</td>\n      <td>TV-MA</td>\n      <td>93 min</td>\n      <td>Dramas, International Movies</td>\n      <td>After a devastating earthquake hits Mexico Cit...</td>\n      <td>2016-12-23</td>\n      <td>2016-12-23</td>\n      <td>December 23</td>\n      <td>2016</td>\n      <td>2.0</td>\n    </tr>\n    <tr>\n      <th>2</th>\n      <td>s3</td>\n      <td>Movie</td>\n      <td>23:59</td>\n      <td>Gilbert Chan</td>\n      <td>Tedd Chan, Stella Chung, Henley Hii, Lawrence ...</td>\n      <td>Singapore</td>\n      <td>December 20, 2018</td>\n      <td>2011</td>\n      <td>R</td>\n      <td>78 min</td>\n      <td>Horror Movies, International Movies</td>\n      <td>When an army recruit is found dead, his fellow...</td>\n      <td>2018-12-20</td>\n      <td>2018-12-20</td>\n      <td>December 20</td>\n      <td>2018</td>\n      <td>2.0</td>\n    </tr>\n    <tr>\n      <th>3</th>\n      <td>s4</td>\n      <td>Movie</td>\n      <td>9</td>\n      <td>Shane Acker</td>\n      <td>Elijah Wood, John C. Reilly, Jennifer Connelly...</td>\n      <td>United States</td>\n      <td>November 16, 2017</td>\n      <td>2009</td>\n      <td>PG-13</td>\n      <td>80 min</td>\n      <td>Action &amp; Adventure, Independent Movies, Sci-Fi...</td>\n      <td>In a postapocalyptic world, rag-doll robots hi...</td>\n      <td>2017-11-16</td>\n      <td>2017-11-16</td>\n      <td>November 16</td>\n      <td>2017</td>\n      <td>3.0</td>\n    </tr>\n    <tr>\n      <th>4</th>\n      <td>s5</td>\n      <td>Movie</td>\n      <td>21</td>\n      <td>Robert Luketic</td>\n      <td>Jim Sturgess, Kevin Spacey, Kate Bosworth, Aar...</td>\n      <td>United States</td>\n      <td>January 1, 2020</td>\n      <td>2008</td>\n      <td>PG-13</td>\n      <td>123 min</td>\n      <td>Dramas</td>\n      <td>A brilliant group of students become card-coun...</td>\n      <td>2020-01-01</td>\n      <td>2020-01-01</td>\n      <td>January 1</td>\n      <td>2020</td>\n      <td>1.0</td>\n    </tr>\n    <tr>\n      <th>...</th>\n      <td>...</td>\n      <td>...</td>\n      <td>...</td>\n      <td>...</td>\n      <td>...</td>\n      <td>...</td>\n      <td>...</td>\n      <td>...</td>\n      <td>...</td>\n      <td>...</td>\n      <td>...</td>\n      <td>...</td>\n      <td>...</td>\n      <td>...</td>\n      <td>...</td>\n      <td>...</td>\n      <td>...</td>\n    </tr>\n    <tr>\n      <th>349</th>\n      <td>s350</td>\n      <td>TV Show</td>\n      <td>Ainori Love Wagon: Asian Journey</td>\n      <td>NaN</td>\n      <td>Becky, Audrey, Mayuko Kawakita, Shimon Okura</td>\n      <td>Japan</td>\n      <td>28-Mar-19</td>\n      <td>2018</td>\n      <td>TV-MA</td>\n      <td>2 Seasons</td>\n      <td>International TV Shows, Reality TV, Romantic T...</td>\n      <td>Seven men and women board a pink bus in search...</td>\n      <td>NaT</td>\n      <td>NaT</td>\n      <td>NaN</td>\n      <td>NaN</td>\n      <td>NaN</td>\n    </tr>\n    <tr>\n      <th>350</th>\n      <td>s351</td>\n      <td>TV Show</td>\n      <td>Ainsley Eats the Streets</td>\n      <td>NaN</td>\n      <td>Ainsley Harriott</td>\n      <td>United Kingdom</td>\n      <td>12-Jul-19</td>\n      <td>2014</td>\n      <td>TV-PG</td>\n      <td>1 Season</td>\n      <td>British TV Shows, Docuseries, International TV...</td>\n      <td>Celebrity chef Ainsley Harriott embarks on a j...</td>\n      <td>NaT</td>\n      <td>NaT</td>\n      <td>NaN</td>\n      <td>NaN</td>\n      <td>NaN</td>\n    </tr>\n    <tr>\n      <th>351</th>\n      <td>s352</td>\n      <td>Movie</td>\n      <td>Ainu Mosir</td>\n      <td>Takeshi Fukunaga</td>\n      <td>Kanto Shimokura, Debo Akibe, Emi Shimokura, To...</td>\n      <td>United States, Japan</td>\n      <td>17-Nov-20</td>\n      <td>2020</td>\n      <td>TV-PG</td>\n      <td>84 min</td>\n      <td>Dramas, International Movies</td>\n      <td>A sensitive Ainu teen searches for a spiritual...</td>\n      <td>NaT</td>\n      <td>NaT</td>\n      <td>NaN</td>\n      <td>NaN</td>\n      <td>NaN</td>\n    </tr>\n    <tr>\n      <th>352</th>\n      <td>s353</td>\n      <td>Movie</td>\n      <td>Airplane Mode</td>\n      <td>César Rodrigues</td>\n      <td>Larissa Manoela, André Luiz Frambach, Erasmo C...</td>\n      <td>United States</td>\n      <td>23-Jan-20</td>\n      <td>2020</td>\n      <td>TV-PG</td>\n      <td>97 min</td>\n      <td>Comedies, International Movies, Romantic Movies</td>\n      <td>When Ana, an influencer, crashes her car while...</td>\n      <td>NaT</td>\n      <td>NaT</td>\n      <td>NaN</td>\n      <td>NaN</td>\n      <td>NaN</td>\n    </tr>\n    <tr>\n      <th>353</th>\n      <td>s354</td>\n      <td>Movie</td>\n      <td>Aisa Yeh Jahaan</td>\n      <td>Biswajeet Bora</td>\n      <td>Palash Sen, Ira Dubey, Yashpal Sharma, Tinnu A...</td>\n      <td>India</td>\n      <td>15-Oct-17</td>\n      <td>2015</td>\n      <td>TV-14</td>\n      <td>127 min</td>\n      <td>Dramas, Independent Movies, International Movies</td>\n      <td>During a vacation with her parents, away from ...</td>\n      <td>NaT</td>\n      <td>NaT</td>\n      <td>NaN</td>\n      <td>NaN</td>\n      <td>NaN</td>\n    </tr>\n  </tbody>\n</table>\n<p>8141 rows × 17 columns</p>\n</div>"
     },
     "metadata": {},
     "execution_count": 39
    }
   ],
   "source": [
    "new_dataset=pd.concat([netflix,second_dataset]) #union\n",
    "new_dataset"
   ]
  },
  {
   "cell_type": "code",
   "execution_count": 41,
   "metadata": {},
   "outputs": [
    {
     "output_type": "execute_result",
     "data": {
      "text/plain": [
       "     show_id_x     type                      title  \\\n",
       "0           s1  TV Show                         3%   \n",
       "1         s209    Movie           A new Capitalism   \n",
       "2         s219  TV Show            A Queen Is Born   \n",
       "3         s321    Movie  Afonso Padilha: Classless   \n",
       "4         s323  TV Show        Afronta! Facing It!   \n",
       "...        ...      ...                        ...   \n",
       "7618     s7727    Movie               You Carry Me   \n",
       "7619     s7751  TV Show            Yu-Gi-Oh! Arc-V   \n",
       "7620     s7760  TV Show                  Zak Storm   \n",
       "7621     s7771    Movie                    Zinzana   \n",
       "7622     s7783    Movie                       Zozo   \n",
       "\n",
       "                          director  \\\n",
       "0                              NaN   \n",
       "1                              NaN   \n",
       "2                     Carla Barros   \n",
       "3     Junior Carelli, Rudge Campos   \n",
       "4                  Juliana Vicente   \n",
       "...                            ...   \n",
       "7618                    Ivona Juka   \n",
       "7619                           NaN   \n",
       "7620                           NaN   \n",
       "7621               Majid Al Ansari   \n",
       "7622                   Josef Fares   \n",
       "\n",
       "                                                   cast  \\\n",
       "0     João Miguel, Bianca Comparato, Michel Gomes, R...   \n",
       "1                                               no cast   \n",
       "2                         Gloria Groove, Alexia Twister   \n",
       "3                                        Afonso Padilha   \n",
       "4     Loo Nascimento, Ingrid Silva, Rincon Sapiência...   \n",
       "...                                                 ...   \n",
       "7618  Lana Baric, Vojislav Brajovic, Natasa Janjic, ...   \n",
       "7619  Mike Liscio, Emily Bauer, Billy Bob Thompson, ...   \n",
       "7620  Michael Johnston, Jessica Gee-George, Christin...   \n",
       "7621  Ali Suliman, Saleh Bakri, Yasa, Ali Al-Jabri, ...   \n",
       "7622  Imad Creidi, Antoinette Turk, Elias Gergi, Car...   \n",
       "\n",
       "                                                country          date_added  \\\n",
       "0                                                Brazil     August 14, 2020   \n",
       "1                                                Brazil       June 12, 2018   \n",
       "2                                                Brazil   November 11, 2020   \n",
       "3                                                Brazil   September 3, 2020   \n",
       "4                                                Brazil    October 31, 2020   \n",
       "...                                                 ...                 ...   \n",
       "7618              Croatia, Slovenia, Serbia, Montenegro        July 1, 2016   \n",
       "7619                                      Japan, Canada         May 1, 2018   \n",
       "7620      United States, France, South Korea, Indonesia  September 13, 2018   \n",
       "7621                       United Arab Emirates, Jordan       March 9, 2016   \n",
       "7622  Sweden, Czech Republic, United Kingdom, Denmar...    October 19, 2020   \n",
       "\n",
       "      release_year rating   duration  \\\n",
       "0             2020  TV-MA  4 Seasons   \n",
       "1             2017  TV-14     76 min   \n",
       "2             2020  TV-14   1 Season   \n",
       "3             2020  TV-MA     63 min   \n",
       "4             2017  TV-PG   1 Season   \n",
       "...            ...    ...        ...   \n",
       "7618          2015  TV-MA    157 min   \n",
       "7619          2015  TV-Y7  2 Seasons   \n",
       "7620          2016  TV-Y7  3 Seasons   \n",
       "7621          2015  TV-MA     96 min   \n",
       "7622          2005  TV-MA     99 min   \n",
       "\n",
       "                                              listed_in  \\\n",
       "0     International TV Shows, TV Dramas, TV Sci-Fi &...   \n",
       "1                   Documentaries, International Movies   \n",
       "2                    International TV Shows, Reality TV   \n",
       "3                                       Stand-Up Comedy   \n",
       "4                    Docuseries, International TV Shows   \n",
       "...                                                 ...   \n",
       "7618                       Dramas, International Movies   \n",
       "7619                             Anime Series, Kids' TV   \n",
       "7620                                           Kids' TV   \n",
       "7621            Dramas, International Movies, Thrillers   \n",
       "7622                       Dramas, International Movies   \n",
       "\n",
       "                                            description computer_date  \\\n",
       "0     In a future where the elite inhabit an island ...    2020-08-14   \n",
       "1     Entrepreneurs worldwide explore alternatives t...    2018-06-12   \n",
       "2     Gloria Groove and Alexia Twister make drag dre...    2020-11-11   \n",
       "3     Brazilian comedian Afonso Padilha dives into h...    2020-09-03   \n",
       "4     This docuseries spotlights Afro-Brazilian thin...    2020-10-31   \n",
       "...                                                 ...           ...   \n",
       "7618  A soap opera producer, director and makeup art...    2016-07-01   \n",
       "7619  Now that he's discovered the Pendulum Summonin...    2018-05-01   \n",
       "7620  Teen surfer Zak Storm is mysteriously transpor...    2018-09-13   \n",
       "7621  Recovering alcoholic Talal wakes up inside a s...    2016-03-09   \n",
       "7622  When Lebanon's Civil War deprives Zozo of his ...    2020-10-19   \n",
       "\n",
       "      unix_time   Date Part 1 Date Part 2  genre_count  show_id_y  \n",
       "0    2020-08-14     August 14        2020          3.0         72  \n",
       "1    2018-06-12       June 12        2018          2.0         72  \n",
       "2    2020-11-11   November 11        2020          2.0         72  \n",
       "3    2020-09-03   September 3        2020          1.0         72  \n",
       "4    2020-10-31    October 31        2020          2.0         72  \n",
       "...         ...           ...         ...          ...        ...  \n",
       "7618 2016-07-01        July 1        2016          2.0          1  \n",
       "7619 2018-05-01         May 1        2018          2.0          1  \n",
       "7620 2018-09-13  September 13        2018          1.0          1  \n",
       "7621 2016-03-09       March 9        2016          3.0          1  \n",
       "7622 2020-10-19    October 19        2020          2.0          1  \n",
       "\n",
       "[7623 rows x 18 columns]"
      ],
      "text/html": "<div>\n<style scoped>\n    .dataframe tbody tr th:only-of-type {\n        vertical-align: middle;\n    }\n\n    .dataframe tbody tr th {\n        vertical-align: top;\n    }\n\n    .dataframe thead th {\n        text-align: right;\n    }\n</style>\n<table border=\"1\" class=\"dataframe\">\n  <thead>\n    <tr style=\"text-align: right;\">\n      <th></th>\n      <th>show_id_x</th>\n      <th>type</th>\n      <th>title</th>\n      <th>director</th>\n      <th>cast</th>\n      <th>country</th>\n      <th>date_added</th>\n      <th>release_year</th>\n      <th>rating</th>\n      <th>duration</th>\n      <th>listed_in</th>\n      <th>description</th>\n      <th>computer_date</th>\n      <th>unix_time</th>\n      <th>Date Part 1</th>\n      <th>Date Part 2</th>\n      <th>genre_count</th>\n      <th>show_id_y</th>\n    </tr>\n  </thead>\n  <tbody>\n    <tr>\n      <th>0</th>\n      <td>s1</td>\n      <td>TV Show</td>\n      <td>3%</td>\n      <td>NaN</td>\n      <td>João Miguel, Bianca Comparato, Michel Gomes, R...</td>\n      <td>Brazil</td>\n      <td>August 14, 2020</td>\n      <td>2020</td>\n      <td>TV-MA</td>\n      <td>4 Seasons</td>\n      <td>International TV Shows, TV Dramas, TV Sci-Fi &amp;...</td>\n      <td>In a future where the elite inhabit an island ...</td>\n      <td>2020-08-14</td>\n      <td>2020-08-14</td>\n      <td>August 14</td>\n      <td>2020</td>\n      <td>3.0</td>\n      <td>72</td>\n    </tr>\n    <tr>\n      <th>1</th>\n      <td>s209</td>\n      <td>Movie</td>\n      <td>A new Capitalism</td>\n      <td>NaN</td>\n      <td>no cast</td>\n      <td>Brazil</td>\n      <td>June 12, 2018</td>\n      <td>2017</td>\n      <td>TV-14</td>\n      <td>76 min</td>\n      <td>Documentaries, International Movies</td>\n      <td>Entrepreneurs worldwide explore alternatives t...</td>\n      <td>2018-06-12</td>\n      <td>2018-06-12</td>\n      <td>June 12</td>\n      <td>2018</td>\n      <td>2.0</td>\n      <td>72</td>\n    </tr>\n    <tr>\n      <th>2</th>\n      <td>s219</td>\n      <td>TV Show</td>\n      <td>A Queen Is Born</td>\n      <td>Carla Barros</td>\n      <td>Gloria Groove, Alexia Twister</td>\n      <td>Brazil</td>\n      <td>November 11, 2020</td>\n      <td>2020</td>\n      <td>TV-14</td>\n      <td>1 Season</td>\n      <td>International TV Shows, Reality TV</td>\n      <td>Gloria Groove and Alexia Twister make drag dre...</td>\n      <td>2020-11-11</td>\n      <td>2020-11-11</td>\n      <td>November 11</td>\n      <td>2020</td>\n      <td>2.0</td>\n      <td>72</td>\n    </tr>\n    <tr>\n      <th>3</th>\n      <td>s321</td>\n      <td>Movie</td>\n      <td>Afonso Padilha: Classless</td>\n      <td>Junior Carelli, Rudge Campos</td>\n      <td>Afonso Padilha</td>\n      <td>Brazil</td>\n      <td>September 3, 2020</td>\n      <td>2020</td>\n      <td>TV-MA</td>\n      <td>63 min</td>\n      <td>Stand-Up Comedy</td>\n      <td>Brazilian comedian Afonso Padilha dives into h...</td>\n      <td>2020-09-03</td>\n      <td>2020-09-03</td>\n      <td>September 3</td>\n      <td>2020</td>\n      <td>1.0</td>\n      <td>72</td>\n    </tr>\n    <tr>\n      <th>4</th>\n      <td>s323</td>\n      <td>TV Show</td>\n      <td>Afronta! Facing It!</td>\n      <td>Juliana Vicente</td>\n      <td>Loo Nascimento, Ingrid Silva, Rincon Sapiência...</td>\n      <td>Brazil</td>\n      <td>October 31, 2020</td>\n      <td>2017</td>\n      <td>TV-PG</td>\n      <td>1 Season</td>\n      <td>Docuseries, International TV Shows</td>\n      <td>This docuseries spotlights Afro-Brazilian thin...</td>\n      <td>2020-10-31</td>\n      <td>2020-10-31</td>\n      <td>October 31</td>\n      <td>2020</td>\n      <td>2.0</td>\n      <td>72</td>\n    </tr>\n    <tr>\n      <th>...</th>\n      <td>...</td>\n      <td>...</td>\n      <td>...</td>\n      <td>...</td>\n      <td>...</td>\n      <td>...</td>\n      <td>...</td>\n      <td>...</td>\n      <td>...</td>\n      <td>...</td>\n      <td>...</td>\n      <td>...</td>\n      <td>...</td>\n      <td>...</td>\n      <td>...</td>\n      <td>...</td>\n      <td>...</td>\n      <td>...</td>\n    </tr>\n    <tr>\n      <th>7618</th>\n      <td>s7727</td>\n      <td>Movie</td>\n      <td>You Carry Me</td>\n      <td>Ivona Juka</td>\n      <td>Lana Baric, Vojislav Brajovic, Natasa Janjic, ...</td>\n      <td>Croatia, Slovenia, Serbia, Montenegro</td>\n      <td>July 1, 2016</td>\n      <td>2015</td>\n      <td>TV-MA</td>\n      <td>157 min</td>\n      <td>Dramas, International Movies</td>\n      <td>A soap opera producer, director and makeup art...</td>\n      <td>2016-07-01</td>\n      <td>2016-07-01</td>\n      <td>July 1</td>\n      <td>2016</td>\n      <td>2.0</td>\n      <td>1</td>\n    </tr>\n    <tr>\n      <th>7619</th>\n      <td>s7751</td>\n      <td>TV Show</td>\n      <td>Yu-Gi-Oh! Arc-V</td>\n      <td>NaN</td>\n      <td>Mike Liscio, Emily Bauer, Billy Bob Thompson, ...</td>\n      <td>Japan, Canada</td>\n      <td>May 1, 2018</td>\n      <td>2015</td>\n      <td>TV-Y7</td>\n      <td>2 Seasons</td>\n      <td>Anime Series, Kids' TV</td>\n      <td>Now that he's discovered the Pendulum Summonin...</td>\n      <td>2018-05-01</td>\n      <td>2018-05-01</td>\n      <td>May 1</td>\n      <td>2018</td>\n      <td>2.0</td>\n      <td>1</td>\n    </tr>\n    <tr>\n      <th>7620</th>\n      <td>s7760</td>\n      <td>TV Show</td>\n      <td>Zak Storm</td>\n      <td>NaN</td>\n      <td>Michael Johnston, Jessica Gee-George, Christin...</td>\n      <td>United States, France, South Korea, Indonesia</td>\n      <td>September 13, 2018</td>\n      <td>2016</td>\n      <td>TV-Y7</td>\n      <td>3 Seasons</td>\n      <td>Kids' TV</td>\n      <td>Teen surfer Zak Storm is mysteriously transpor...</td>\n      <td>2018-09-13</td>\n      <td>2018-09-13</td>\n      <td>September 13</td>\n      <td>2018</td>\n      <td>1.0</td>\n      <td>1</td>\n    </tr>\n    <tr>\n      <th>7621</th>\n      <td>s7771</td>\n      <td>Movie</td>\n      <td>Zinzana</td>\n      <td>Majid Al Ansari</td>\n      <td>Ali Suliman, Saleh Bakri, Yasa, Ali Al-Jabri, ...</td>\n      <td>United Arab Emirates, Jordan</td>\n      <td>March 9, 2016</td>\n      <td>2015</td>\n      <td>TV-MA</td>\n      <td>96 min</td>\n      <td>Dramas, International Movies, Thrillers</td>\n      <td>Recovering alcoholic Talal wakes up inside a s...</td>\n      <td>2016-03-09</td>\n      <td>2016-03-09</td>\n      <td>March 9</td>\n      <td>2016</td>\n      <td>3.0</td>\n      <td>1</td>\n    </tr>\n    <tr>\n      <th>7622</th>\n      <td>s7783</td>\n      <td>Movie</td>\n      <td>Zozo</td>\n      <td>Josef Fares</td>\n      <td>Imad Creidi, Antoinette Turk, Elias Gergi, Car...</td>\n      <td>Sweden, Czech Republic, United Kingdom, Denmar...</td>\n      <td>October 19, 2020</td>\n      <td>2005</td>\n      <td>TV-MA</td>\n      <td>99 min</td>\n      <td>Dramas, International Movies</td>\n      <td>When Lebanon's Civil War deprives Zozo of his ...</td>\n      <td>2020-10-19</td>\n      <td>2020-10-19</td>\n      <td>October 19</td>\n      <td>2020</td>\n      <td>2.0</td>\n      <td>1</td>\n    </tr>\n  </tbody>\n</table>\n<p>7623 rows × 18 columns</p>\n</div>"
     },
     "metadata": {},
     "execution_count": 41
    }
   ],
   "source": [
    "netflix_merge=pd.merge(left=new_dataset, right=netflix_movies_by_country, how=\"inner\", left_on=[\"country\"], right_on=[\"country\"])\n",
    "netflix_merge"
   ]
  },
  {
   "source": [
    "Pivot ad Melt"
   ],
   "cell_type": "markdown",
   "metadata": {}
  },
  {
   "cell_type": "code",
   "execution_count": 43,
   "metadata": {},
   "outputs": [
    {
     "output_type": "execute_result",
     "data": {
      "text/plain": [
       "type                                            country  Movie  TV Show\n",
       "0                                             Argentina     34       16\n",
       "1     Argentina, Brazil, France, Poland, Germany, De...      1        0\n",
       "2                                      Argentina, Chile      1        0\n",
       "3                                Argentina, Chile, Peru      1        0\n",
       "4                                     Argentina, France      1        0\n",
       "..                                                  ...    ...      ...\n",
       "676                                           Venezuela      1        0\n",
       "677                                 Venezuela, Colombia      1        0\n",
       "678                                             Vietnam      5        0\n",
       "679                                        West Germany      1        0\n",
       "680                                            Zimbabwe      1        0\n",
       "\n",
       "[681 rows x 3 columns]"
      ],
      "text/html": "<div>\n<style scoped>\n    .dataframe tbody tr th:only-of-type {\n        vertical-align: middle;\n    }\n\n    .dataframe tbody tr th {\n        vertical-align: top;\n    }\n\n    .dataframe thead th {\n        text-align: right;\n    }\n</style>\n<table border=\"1\" class=\"dataframe\">\n  <thead>\n    <tr style=\"text-align: right;\">\n      <th>type</th>\n      <th>country</th>\n      <th>Movie</th>\n      <th>TV Show</th>\n    </tr>\n  </thead>\n  <tbody>\n    <tr>\n      <th>0</th>\n      <td>Argentina</td>\n      <td>34</td>\n      <td>16</td>\n    </tr>\n    <tr>\n      <th>1</th>\n      <td>Argentina, Brazil, France, Poland, Germany, De...</td>\n      <td>1</td>\n      <td>0</td>\n    </tr>\n    <tr>\n      <th>2</th>\n      <td>Argentina, Chile</td>\n      <td>1</td>\n      <td>0</td>\n    </tr>\n    <tr>\n      <th>3</th>\n      <td>Argentina, Chile, Peru</td>\n      <td>1</td>\n      <td>0</td>\n    </tr>\n    <tr>\n      <th>4</th>\n      <td>Argentina, France</td>\n      <td>1</td>\n      <td>0</td>\n    </tr>\n    <tr>\n      <th>...</th>\n      <td>...</td>\n      <td>...</td>\n      <td>...</td>\n    </tr>\n    <tr>\n      <th>676</th>\n      <td>Venezuela</td>\n      <td>1</td>\n      <td>0</td>\n    </tr>\n    <tr>\n      <th>677</th>\n      <td>Venezuela, Colombia</td>\n      <td>1</td>\n      <td>0</td>\n    </tr>\n    <tr>\n      <th>678</th>\n      <td>Vietnam</td>\n      <td>5</td>\n      <td>0</td>\n    </tr>\n    <tr>\n      <th>679</th>\n      <td>West Germany</td>\n      <td>1</td>\n      <td>0</td>\n    </tr>\n    <tr>\n      <th>680</th>\n      <td>Zimbabwe</td>\n      <td>1</td>\n      <td>0</td>\n    </tr>\n  </tbody>\n</table>\n<p>681 rows × 3 columns</p>\n</div>"
     },
     "metadata": {},
     "execution_count": 43
    }
   ],
   "source": [
    "pivot_table=netflix.pivot_table(index=\"country\", columns=\"type\", values=\"title\", aggfunc=\"count\", fill_value=0).reset_index()\n",
    "pivot_table"
   ]
  },
  {
   "cell_type": "code",
   "execution_count": 46,
   "metadata": {},
   "outputs": [
    {
     "output_type": "execute_result",
     "data": {
      "text/plain": [
       "   A  B  C\n",
       "0  a  1  2\n",
       "1  b  3  4\n",
       "2  c  5  6"
      ],
      "text/html": "<div>\n<style scoped>\n    .dataframe tbody tr th:only-of-type {\n        vertical-align: middle;\n    }\n\n    .dataframe tbody tr th {\n        vertical-align: top;\n    }\n\n    .dataframe thead th {\n        text-align: right;\n    }\n</style>\n<table border=\"1\" class=\"dataframe\">\n  <thead>\n    <tr style=\"text-align: right;\">\n      <th></th>\n      <th>A</th>\n      <th>B</th>\n      <th>C</th>\n    </tr>\n  </thead>\n  <tbody>\n    <tr>\n      <th>0</th>\n      <td>a</td>\n      <td>1</td>\n      <td>2</td>\n    </tr>\n    <tr>\n      <th>1</th>\n      <td>b</td>\n      <td>3</td>\n      <td>4</td>\n    </tr>\n    <tr>\n      <th>2</th>\n      <td>c</td>\n      <td>5</td>\n      <td>6</td>\n    </tr>\n  </tbody>\n</table>\n</div>"
     },
     "metadata": {},
     "execution_count": 46
    }
   ],
   "source": [
    "df= pd.DataFrame({\"A\":{0:'a',1:'b',2:'c'},\n",
    "                    \"B\":{0:1,1:3,2:5},\n",
    "                    \"C\":{0:2,1:4,2:6}})\n",
    "df"
   ]
  },
  {
   "cell_type": "code",
   "execution_count": 48,
   "metadata": {},
   "outputs": [
    {
     "output_type": "execute_result",
     "data": {
      "text/plain": [
       "   A myVarname  myValname\n",
       "0  a         B          1\n",
       "1  b         B          3\n",
       "2  c         B          5"
      ],
      "text/html": "<div>\n<style scoped>\n    .dataframe tbody tr th:only-of-type {\n        vertical-align: middle;\n    }\n\n    .dataframe tbody tr th {\n        vertical-align: top;\n    }\n\n    .dataframe thead th {\n        text-align: right;\n    }\n</style>\n<table border=\"1\" class=\"dataframe\">\n  <thead>\n    <tr style=\"text-align: right;\">\n      <th></th>\n      <th>A</th>\n      <th>myVarname</th>\n      <th>myValname</th>\n    </tr>\n  </thead>\n  <tbody>\n    <tr>\n      <th>0</th>\n      <td>a</td>\n      <td>B</td>\n      <td>1</td>\n    </tr>\n    <tr>\n      <th>1</th>\n      <td>b</td>\n      <td>B</td>\n      <td>3</td>\n    </tr>\n    <tr>\n      <th>2</th>\n      <td>c</td>\n      <td>B</td>\n      <td>5</td>\n    </tr>\n  </tbody>\n</table>\n</div>"
     },
     "metadata": {},
     "execution_count": 48
    }
   ],
   "source": [
    "df.melt(id_vars=[\"A\"], value_vars=[\"B\"],var_name='myVarname',value_name='myValname')"
   ]
  },
  {
   "cell_type": "code",
   "execution_count": null,
   "metadata": {},
   "outputs": [],
   "source": []
  }
 ]
}